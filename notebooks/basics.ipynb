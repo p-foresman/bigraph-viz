{
 "cells": [
  {
   "cell_type": "markdown",
   "id": "5338cfab-cf15-4c63-a091-c1cbb51bf8dd",
   "metadata": {},
   "source": [
    "# Bigraph Schema Basics\n",
    "This tutorial demonstrates use of bigraph-viz, a visualization tool for bigraph composition schema. \n",
    "The tutorial stars with a single `store` and increases in detail as you scroll to the bottom.\n",
    "\n",
    "See the [Bigraph-viz GitHub](https://github.com/vivarium-collective/bigraph-viz) for the source code."
   ]
  },
  {
   "cell_type": "markdown",
   "id": "8532c1b2-9af2-46f3-8e85-80a7f5161c26",
   "metadata": {
    "tags": []
   },
   "source": [
    "## Imports and settings"
   ]
  },
  {
   "cell_type": "code",
   "execution_count": null,
   "id": "2ab3cb32-e007-45c4-807e-b1b442ac1608",
   "metadata": {},
   "outputs": [],
   "source": [
    "from bigraphviz import plot_bigraph\n",
    "plot_settings = {\n",
    "    'plot_schema': True, \n",
    "    'remove_process_place_edges': True,\n",
    "}"
   ]
  },
  {
   "cell_type": "markdown",
   "id": "0e716c23-5fbe-4c08-a868-09611ca40ec4",
   "metadata": {
    "tags": []
   },
   "source": [
    "## Stores"
   ]
  },
  {
   "cell_type": "markdown",
   "id": "9a6e9cc2-e0df-4f73-b4c3-eddb1055b088",
   "metadata": {},
   "source": [
    "### Simple stores\n",
    "An store can be declared in a JSON dictionary with the store's name matched to a dictionary. Leaf node values are declared by the `_value` key and types declared by the `_type` key."
   ]
  },
  {
   "cell_type": "code",
   "execution_count": null,
   "id": "f3e5fa71-7ffc-4a8f-a1a0-dc547c886f84",
   "metadata": {},
   "outputs": [],
   "source": [
    "simple_store_spec = {\n",
    "    'store1': {\n",
    "        '_value': 1.0, \n",
    "        '_type': 'float',\n",
    "    },\n",
    "}\n",
    "plot_bigraph(simple_store_spec, **plot_settings)"
   ]
  },
  {
   "cell_type": "markdown",
   "id": "de1011cb-903b-4c15-baed-a62f4afdd6b9",
   "metadata": {},
   "source": [
    "### Hierarchy\n",
    "A hierarchy is a place graph of nested stores. Stores can be placed within stores using JSON dictionary nesting."
   ]
  },
  {
   "cell_type": "code",
   "execution_count": null,
   "id": "0f3f0824-f89d-4c6e-830e-2c5a321f7b33",
   "metadata": {},
   "outputs": [],
   "source": [
    "composite_store_spec = {\n",
    "    'store1': {\n",
    "        'store1.1': {\n",
    "            'store1.1.1': {\n",
    "                '_value': 1.1, \n",
    "                '_type': 'float',\n",
    "            },\n",
    "            'store1.1.2': {\n",
    "                '_value': 2, \n",
    "                '_type': 'int',\n",
    "            },\n",
    "            'store1.1.3': {\n",
    "                '_value': 0.01, \n",
    "                '_type': 'float',\n",
    "                'store1.1.3.1': {\n",
    "                    '_value': 0.1, \n",
    "                    '_type': 'float',\n",
    "                },\n",
    "            },\n",
    "        },\n",
    "        'store1.2': {\n",
    "            '_value': 1, \n",
    "            '_type': 'int',\n",
    "        },\n",
    "    },\n",
    "}\n",
    "plot_bigraph(composite_store_spec, **plot_settings)"
   ]
  },
  {
   "cell_type": "markdown",
   "id": "c825e07c-8cd5-4df1-8958-aa0f36d61045",
   "metadata": {},
   "source": [
    "## Processes"
   ]
  },
  {
   "cell_type": "markdown",
   "id": "47ea1a83-aeac-4048-9593-7b30588b0ad8",
   "metadata": {},
   "source": [
    "### Single process\n",
    "Processes require ports, which are declared with the `_ports` key mapped to a dict that has port names matched to types."
   ]
  },
  {
   "cell_type": "code",
   "execution_count": null,
   "id": "7c74237b-0d66-4e8f-a8ca-79174fadad8b",
   "metadata": {},
   "outputs": [],
   "source": [
    "process_spec = {\n",
    "    'process1': {\n",
    "        '_ports': {\n",
    "            'port1': {'_type': 'type'},\n",
    "            'port2': {'_type': 'type'},\n",
    "        },\n",
    "    },\n",
    "}\n",
    "plot_bigraph(process_spec, **plot_settings, rankdir='RL')"
   ]
  },
  {
   "cell_type": "markdown",
   "id": "68a2c480-32fe-43d3-b618-8fc6c647b8ca",
   "metadata": {},
   "source": [
    "### Multiple processes"
   ]
  },
  {
   "cell_type": "code",
   "execution_count": null,
   "id": "8c2457a3-fc47-4850-8b9e-9ee98e81567d",
   "metadata": {},
   "outputs": [],
   "source": [
    "process_schema = {\n",
    "    '_ports': {\n",
    "        'port1': {'_type': 'type'},\n",
    "        'port2': {'_type': 'type'}\n",
    "    }\n",
    "}\n",
    "\n",
    "process_spec = {\n",
    "    'process1': process_schema,\n",
    "    'process2': process_schema,\n",
    "    'process3': process_schema,\n",
    "}\n",
    "plot_bigraph(process_spec, **plot_settings, rankdir='BT')"
   ]
  },
  {
   "cell_type": "markdown",
   "id": "15e5f5a6-8dd4-41c3-ba37-33ed9e3e0830",
   "metadata": {},
   "source": [
    "## Wires\n",
    "To connect a process's ports to stores, add wiring with a `_wires` key that maps port names to relative paths in the store hierarchy. The ports used by the wires need to match the ports in the schema."
   ]
  },
  {
   "cell_type": "code",
   "execution_count": null,
   "id": "a6ecad5d-8948-4636-910c-79284a3e8679",
   "metadata": {},
   "outputs": [],
   "source": [
    "connected_process_spec = {\n",
    "    'process1': {\n",
    "        '_ports': {\n",
    "            'port1': {'_type': 'type'},\n",
    "            'port2': {'_type': 'type'},\n",
    "        },\n",
    "        '_wires': {\n",
    "            'port1': 'node1',\n",
    "            'port2': 'node2',\n",
    "        }\n",
    "    },\n",
    "    'node1': {\n",
    "        '_value': 1.1, '_type': 'float'\n",
    "    },\n",
    "    'node2': {\n",
    "        '_value': 2, '_type': 'int'\n",
    "    },\n",
    "}\n",
    "plot_bigraph(connected_process_spec, **plot_settings)"
   ]
  },
  {
   "cell_type": "markdown",
   "id": "e037285d-116a-404d-96ec-ba47318a2e8b",
   "metadata": {},
   "source": [
    "### Advanced wiring\n",
    "**TODO**"
   ]
  },
  {
   "cell_type": "code",
   "execution_count": null,
   "id": "f9c27a6c-7f43-4064-9dd1-0d14da73bdf1",
   "metadata": {},
   "outputs": [],
   "source": [
    "# connected_process_spec = {\n",
    "#     'process1': {\n",
    "#         '_ports': {\n",
    "#             'port1': {'*': {}},  # TODO -- how to specify complex ports?\n",
    "#         },\n",
    "#         '_wires': {\n",
    "#             'port1': 'top',\n",
    "#         }\n",
    "#     },\n",
    "#     'top': {\n",
    "#         '1': {\n",
    "#             '_value': 1.1, '_type': 'float'\n",
    "#         },\n",
    "#         '2': {\n",
    "#             '_value': 1.1, '_type': 'float'\n",
    "#         },\n",
    "#     },\n",
    "# }\n",
    "\n",
    "# node_groups =[[('top',), ('process1',)]] \n",
    "# plot_bigraph(connected_process_spec, **plot_settings, node_groups=node_groups)"
   ]
  },
  {
   "cell_type": "markdown",
   "id": "01b17201-2489-45c8-a06b-9fdc29a714a7",
   "metadata": {},
   "source": [
    "## Composites"
   ]
  },
  {
   "cell_type": "markdown",
   "id": "daf5d428-db23-4985-80ff-6b93d22973aa",
   "metadata": {},
   "source": [
    "### Flat composite\n",
    "A flat composite connects stores with multiple connected processes, without nesting."
   ]
  },
  {
   "cell_type": "code",
   "execution_count": null,
   "id": "781a84e6-bbe2-4708-b441-47efc611b46f",
   "metadata": {},
   "outputs": [],
   "source": [
    "flat_composite_spec = {\n",
    "    'store1.1': {\n",
    "        '_value': 1.1, \n",
    "        '_type': 'float',\n",
    "    },\n",
    "    'store1.2': {\n",
    "        '_value': 2, \n",
    "        '_type': 'int',\n",
    "    },\n",
    "    'process1': {\n",
    "        '_ports': {\n",
    "            'port1': {'_type': 'type'}, \n",
    "            'port2': {'_type': 'type'},\n",
    "        },\n",
    "        '_wires': {\n",
    "            'port1': 'store1.1',\n",
    "            'port2': 'store1.2',\n",
    "        }\n",
    "    },\n",
    "    'process2': {\n",
    "        '_ports': {\n",
    "            'port1': {'_type': 'type'}, \n",
    "            'port2': {'_type': 'type'},\n",
    "        },\n",
    "        '_wires': {\n",
    "            'port1': 'store1.1',\n",
    "            'port2': 'store1.2',\n",
    "        }\n",
    "    },\n",
    "}\n",
    "plot_bigraph(flat_composite_spec, **plot_settings, rankdir='RL')"
   ]
  },
  {
   "cell_type": "markdown",
   "id": "398509c7-cf5c-4cce-a179-3a39752b0dde",
   "metadata": {},
   "source": [
    "### Nested composite\n",
    "A nested composite has store hierarchies with multiple connected processes."
   ]
  },
  {
   "cell_type": "code",
   "execution_count": null,
   "id": "701e759d-7f9b-41bb-911c-a8208c892462",
   "metadata": {},
   "outputs": [],
   "source": [
    "composite_spec = {\n",
    "    'store1': {\n",
    "        'store1.1': {\n",
    "            '_value': 1.1, \n",
    "            '_type': 'float',\n",
    "        },\n",
    "        'store1.2': {\n",
    "            '_value': 2, \n",
    "            '_type': 'int',\n",
    "        },\n",
    "        'process1': {\n",
    "            '_ports': {\n",
    "                'port1': {'_type': 'type'}, \n",
    "                'port2': {'_type': 'type'},\n",
    "            },\n",
    "            '_wires': {\n",
    "                'port1': 'store1.1',\n",
    "                'port2': 'store1.2',\n",
    "            }\n",
    "        },\n",
    "        'process2': {\n",
    "            '_ports': {\n",
    "                'port1': {'_type': 'type'}, \n",
    "                'port2': {'_type': 'type'},\n",
    "            },\n",
    "            '_wires': {\n",
    "                'port1': 'store1.1',\n",
    "                'port2': 'store1.2',\n",
    "            }\n",
    "        },\n",
    "    },\n",
    "    'process3': {\n",
    "        '_wires': {\n",
    "            'port1': 'store1',\n",
    "        }\n",
    "    }\n",
    "}\n",
    "plot_bigraph(composite_spec, **plot_settings)"
   ]
  },
  {
   "cell_type": "markdown",
   "id": "0c8c1704-2331-44eb-bd05-72e36ccb6858",
   "metadata": {},
   "source": [
    "### Composite process\n",
    "Composite processes are processes with internal stores and internal processes, which can run as their own simulation. The composite process has schema, allowing it to connect to a super-simulation. This allows for improved distributed computation, with composite processes able to run on their own computer and syncronize to the super-simulation via message passing."
   ]
  },
  {
   "cell_type": "code",
   "execution_count": null,
   "id": "638c5dc7-4cfd-46e4-b66a-8c42ca98ff1d",
   "metadata": {},
   "outputs": [],
   "source": [
    "composite_process_spec = {\n",
    "    'composite_process': {\n",
    "        'store1.1': {\n",
    "            '_value': 1.1, \n",
    "            '_type': 'float',\n",
    "        },\n",
    "        'store1.2': {\n",
    "            '_value': 2, \n",
    "            '_type': 'int',\n",
    "        },\n",
    "        'process1': {\n",
    "            '_ports': {\n",
    "                'port1': 'type', \n",
    "                'port2': 'type',\n",
    "            },\n",
    "            '_wires': {\n",
    "                'port1': 'store1.1',\n",
    "                'port2': 'store1.2',\n",
    "            }\n",
    "        },\n",
    "        'process2': {\n",
    "            '_ports': {\n",
    "                'port1': {'_type': 'type'}, \n",
    "                'port2': {'_type': 'type'},\n",
    "            },\n",
    "            '_wires': {\n",
    "                'port1': 'store1.1',\n",
    "                'port2': 'store1.2',\n",
    "            }\n",
    "        },\n",
    "        '_ports': {\n",
    "            'port1': {'_type': 'type'}, \n",
    "        },\n",
    "        '_tunnels': {\n",
    "            'port1': 'store1.1',\n",
    "        }\n",
    "    }\n",
    "}\n",
    "plot_bigraph(composite_process_spec, **plot_settings)"
   ]
  },
  {
   "cell_type": "markdown",
   "id": "847cef26-65a1-4da6-9dd3-eb5839277970",
   "metadata": {},
   "source": [
    "## Orchestration"
   ]
  },
  {
   "cell_type": "code",
   "execution_count": null,
   "id": "e76c97a8-3037-464a-929e-ba4414c73c34",
   "metadata": {},
   "outputs": [],
   "source": [
    "from bigraphviz import plot_flow, plot_multitimestep"
   ]
  },
  {
   "cell_type": "markdown",
   "id": "48975890-06a4-462a-9b1d-6bddd51779fe",
   "metadata": {},
   "source": [
    "### Multi-timestepping"
   ]
  },
  {
   "cell_type": "code",
   "execution_count": null,
   "id": "f0eff7b0-f0e2-4d56-8b16-ef0fc1ce5aba",
   "metadata": {},
   "outputs": [],
   "source": [
    "process_spec = {\n",
    "    'process1': {\n",
    "        '_ports': {'port1': {'_type': 'type'}},\n",
    "        '_wires': {'port1': 'state1'},\n",
    "        '_sync_step': 1.0,\n",
    "    },\n",
    "    'process2': {\n",
    "        '_ports': {'port1': {'_type': 'type'}},\n",
    "        '_wires': {'port1': 'state1'},\n",
    "        '_sync_step': 0.5,\n",
    "    },\n",
    "}\n",
    "plot_multitimestep(process_spec, total_time=3)"
   ]
  },
  {
   "cell_type": "markdown",
   "id": "a00cf677-ebac-4309-8ac9-a5b2855724af",
   "metadata": {},
   "source": [
    "### Flows"
   ]
  },
  {
   "cell_type": "code",
   "execution_count": null,
   "id": "db45c99b-b97b-47bc-a73e-c669882f3969",
   "metadata": {},
   "outputs": [],
   "source": [
    "process_schema = {\n",
    "    '_type': 'step_process',\n",
    "    '_ports': {\n",
    "        'port1': {'_type': 'type'},\n",
    "        'port2': {'_type': 'type'}\n",
    "    }\n",
    "}\n",
    "\n",
    "process_spec = {\n",
    "    'process1': {\n",
    "        '_depends_on': [], \n",
    "        **process_schema\n",
    "    },\n",
    "    'process2': {\n",
    "        '_depends_on': 'process1', \n",
    "        **process_schema\n",
    "    },\n",
    "    'process3': {\n",
    "        '_depends_on': [], \n",
    "        **process_schema\n",
    "    },\n",
    "    'process4': {\n",
    "        '_depends_on': ['process2', 'process3'], \n",
    "        **process_schema\n",
    "    },\n",
    "}\n",
    "plot_flow(process_spec)"
   ]
  },
  {
   "cell_type": "markdown",
   "id": "5882581a-c5ef-40b5-acbd-efddad269807",
   "metadata": {},
   "source": [
    "## Examples"
   ]
  },
  {
   "cell_type": "markdown",
   "id": "203ebd2c-3f8f-406a-81f5-230daabbe99d",
   "metadata": {},
   "source": [
    "### simulation experiment\n",
    "The composition schema was developed for integrative simulations, but can also be used for workflows such as simulation experiments./"
   ]
  },
  {
   "cell_type": "code",
   "execution_count": null,
   "id": "cfbc5c1b-1a1c-4405-be00-580356608f89",
   "metadata": {},
   "outputs": [],
   "source": [
    "simulation_experiment_spec = {\n",
    "    'parameter estimator': {\n",
    "        '_ports': {\n",
    "            'input data': {'_type': 'type'}, \n",
    "            'model': {'_type': 'SBML'}, \n",
    "            'parameters': {'_type': 'type'},},\n",
    "        '_wires': {\n",
    "            'input data': 'observed data',\n",
    "            'model': 'model',\n",
    "            'parameters': 'parameters',\n",
    "        }\n",
    "    },\n",
    "    'simulator': {\n",
    "        '_ports': {\n",
    "            'model': {'_type': 'SBML'}, \n",
    "            'parameters': {'_type': 'type'},\n",
    "            'total time': {'_type': 'time'},\n",
    "            'results': {'_type': 'type'}\n",
    "        },\n",
    "        '_wires': {\n",
    "            'parameters': 'parameters',\n",
    "            'model': 'model',\n",
    "            'total time': 'total time',\n",
    "            'results': 'results',\n",
    "        }\n",
    "    },\n",
    "    'analysis': {\n",
    "        '_ports': {\n",
    "            'results': {'_type': 'type'}\n",
    "        },\n",
    "        '_wires': {\n",
    "            'results': 'results',\n",
    "        }\n",
    "    },\n",
    "    'parameters': {},\n",
    "    'model': {},\n",
    "    'results': {},\n",
    "    'observed data': {},\n",
    "    'total time': {},\n",
    "}\n",
    "\n",
    "plot_bigraph(simulation_experiment_spec, **plot_settings, rankdir='RL')"
   ]
  }
 ],
 "metadata": {
  "kernelspec": {
   "display_name": "Python 3 (ipykernel)",
   "language": "python",
   "name": "python3"
  },
  "language_info": {
   "codemirror_mode": {
    "name": "ipython",
    "version": 3
   },
   "file_extension": ".py",
   "mimetype": "text/x-python",
   "name": "python",
   "nbconvert_exporter": "python",
   "pygments_lexer": "ipython3",
   "version": "3.8.13"
  }
 },
 "nbformat": 4,
 "nbformat_minor": 5
}
