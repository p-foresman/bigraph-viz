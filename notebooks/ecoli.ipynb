{
 "cells": [
  {
   "cell_type": "markdown",
   "id": "dd021a48-ce8b-4d68-9fc6-15f7f11c2af9",
   "metadata": {
    "tags": []
   },
   "source": [
    "# vivarium-ecoli\n",
    "\n",
    "Wiring diagraph of the [Covert lab's Whole-Cell E. coli model][https://github.com/CovertLab/vivarium-ecoli]"
   ]
  },
  {
   "cell_type": "code",
   "id": "9778edbb-9267-4da5-8475-b5cc8041a83b",
   "metadata": {
    "ExecuteTime": {
     "end_time": "2025-02-22T14:16:12.688790Z",
     "start_time": "2025-02-22T14:16:12.685657Z"
    }
   },
   "source": [
    "from bigraph_viz import plot_bigraph\n",
    "from bigraph_viz.dict_utils import replace_regex_recursive\n",
    "\n",
    "save_files = True\n",
    "\n",
    "plot_settings = {\n",
    "    'dpi': '100',\n",
    "    'port_label_size': '12pt',\n",
    "    'node_label_size': '20pt',\n",
    "    'process_label_size': '20pt',\n",
    "    'label_margin': '0.02',\n",
    "    'undirected_edges': True,\n",
    "}\n",
    "if save_files:\n",
    "    plot_settings['out_dir'] = 'out'\n",
    "    plot_settings['file_format'] = 'png'\n",
    "    plot_settings['dpi'] = '2000'\n"
   ],
   "outputs": [],
   "execution_count": 12
  },
  {
   "metadata": {},
   "cell_type": "markdown",
   "source": "## E. coli core model",
   "id": "abb89add1d58df88"
  },
  {
   "cell_type": "code",
   "id": "5dbb1f6f-54c6-49fc-9737-c532efc1a711",
   "metadata": {
    "tags": [],
    "ExecuteTime": {
     "end_time": "2025-02-22T14:16:12.714750Z",
     "start_time": "2025-02-22T14:16:12.704611Z"
    }
   },
   "source": [
    "ecoli = { \n",
    "    'chromosome<br/>structure': {\n",
    "        '_type': 'process',\n",
    "        'inputs': {\n",
    "            'fragmentBases': ['bulk<br/>molecules',],\n",
    "            'molecules': ['bulk<br/>molecules',],\n",
    "            'active<br/>tfs': ['bulk<br/>molecules',],\n",
    "            'subunits': ['bulk<br/>molecules',],\n",
    "            'amino<br/>acids': ['bulk<br/>molecules',],\n",
    "            'active<br/>replisomes': ['unique<br/>molecules', 'active<br/>replisome'],\n",
    "            'oriCs': ['unique<br/>molecules', 'oriC'],\n",
    "            'chromosome<br/>domains': ['unique<br/>molecules', 'chromosome<br/>domain'],\n",
    "            'active<br/>RNAPs': ['unique<br/>molecules', 'active<br/>RNAP'],\n",
    "            'RNAs': ['unique<br/>molecules', 'RNA'],\n",
    "            'active<br/>ribosome': ['unique<br/>molecules', 'active<br/>ribosome'],\n",
    "            'full<br/>chromosomes': ['unique<br/>molecules', 'full<br/>chromosome'],\n",
    "            'promoters': ['unique<br/>molecules', 'promoter'],\n",
    "            'DnaA<br/>boxes': ['unique<br/>molecules', 'DnaA<br/>box']\n",
    "        }\n",
    "    },\n",
    "    'metabolism': {\n",
    "        '_type': 'process',\n",
    "        'inputs': {\n",
    "            'metabolites': ['bulk<br/>molecules',],\n",
    "            'catalysts': ['bulk<br/>molecules',],\n",
    "            'kinetics<br/>enzymes': ['bulk<br/>molecules',],\n",
    "            'kinetics<br/>substrates': ['bulk<br/>molecules',],\n",
    "            'amino<br/>acids': ['bulk<br/>molecules',],\n",
    "            'environment': ['environment',],\n",
    "            # 'polypeptide<br/>elongation': ['process<br/>state', 'polypeptide<br/>elongation'],\n",
    "            'amino<br/>acids<br/>total': ['bulk<br/>molecules',]\n",
    "        }\n",
    "    },\n",
    "    'tf<br/>binding': {\n",
    "         '_type': 'process',\n",
    "        'inputs': {\n",
    "            'promoters': ['unique<br/>molecules', 'promoter'],\n",
    "            'active<br/>tfs': ['bulk<br/>molecules',],\n",
    "            'active<br/>tfs<br/>total': ['bulk<br/>molecules',],\n",
    "            'inactive<br/>tfs<br/>total': ['bulk<br/>molecules',],\n",
    "        }\n",
    "    },\n",
    "    'transcript<br/>initiation': {\n",
    "        '_type': 'process',\n",
    "        'inputs': {\n",
    "            'environment': ['environment',],\n",
    "            'full<br/>chromosomes': ['unique<br/>molecules', 'full<br/>chromosome'],\n",
    "            'RNAs': ['unique<br/>molecules', 'RNA'],\n",
    "            'active<br/>RNAPs': ['unique<br/>molecules', 'active<br/>RNAP'],\n",
    "            'promoters': ['unique<br/>molecules', 'promoter'],\n",
    "            'molecules': ['bulk<br/>molecules',],\n",
    "        }\n",
    "    },\n",
    "    'transcript<br/>elongation': {\n",
    "        '_type': 'process',\n",
    "        'inputs': {\n",
    "            'environment': ['environment',],\n",
    "            'RNAs': ['unique<br/>molecules', 'RNA'],\n",
    "            'active<br/>RNAPs': ['unique<br/>molecules', 'active<br/>RNAP'],\n",
    "            'molecules': ['bulk<br/>molecules',],\n",
    "            'bulk<br/>RNAs': ['bulk<br/>molecules',],\n",
    "            'ntps': ['bulk<br/>molecules',],\n",
    "        }\n",
    "    },\n",
    "    'rna<br/>degradation': {\n",
    "        '_type': 'process',\n",
    "        'inputs': {\n",
    "            'charged<br/>trna': ['bulk<br/>molecules',],\n",
    "            'bulk<br/>RNAs': ['bulk<br/>molecules',],\n",
    "            'nmps': ['bulk<br/>molecules',],\n",
    "            'fragmentMetabolites': ['bulk<br/>molecules',],\n",
    "            'fragmentBases': ['bulk<br/>molecules',],\n",
    "            'endoRnases': ['bulk<br/>molecules',],\n",
    "            'exoRnases': ['bulk<br/>molecules',],\n",
    "            'subunits': ['bulk<br/>molecules',],\n",
    "            'molecules': ['bulk<br/>molecules',],\n",
    "            'RNAs': ['unique<br/>molecules', 'RNA'],\n",
    "            'active<br/>ribosome': ['unique<br/>molecules', 'active<br/>ribosome'],\n",
    "        }\n",
    "    },\n",
    "    'polypeptide<br/>initiation': {\n",
    "        '_type': 'process',\n",
    "        'inputs': {\n",
    "            'environment': ['environment',],\n",
    "            'active<br/>ribosome': ['unique<br/>molecules', 'active<br/>ribosome'],\n",
    "            'RNA': ['unique<br/>molecules', 'RNA'],\n",
    "            'subunits': ['bulk<br/>molecules',]\n",
    "        }\n",
    "    },\n",
    "    'polypeptide<br/>elongation': {\n",
    "        '_type': 'process',\n",
    "        'inputs': {\n",
    "            'environment': ['environment',],\n",
    "            'active<br/>ribosome': ['unique<br/>molecules', 'active<br/>ribosome'],\n",
    "            'molecules': ['bulk<br/>molecules',],\n",
    "            'monomers': ['bulk<br/>molecules',],\n",
    "            'amino<br/>acids': ['bulk<br/>molecules',],\n",
    "            'ppgpp<br/>reaction<br/>metabolites': ['bulk<br/>molecules',],\n",
    "            'uncharged<br/>trna': ['bulk<br/>molecules',],\n",
    "            'charged<br/>trna': ['bulk<br/>molecules',],\n",
    "            'charging<br/>molecules': ['bulk<br/>molecules',],\n",
    "            'synthetases': ['bulk<br/>molecules',],\n",
    "            'subunits': ['bulk<br/>molecules',],\n",
    "            # 'polypeptide<br/>elongation': ['process<br/>state', 'polypeptide<br/>elongation'],\n",
    "            'molecules<br/>total': ['bulk<br/>molecules',],\n",
    "            'amino<br/>acids<br/>total': ['bulk<br/>molecules',],\n",
    "            'charged<br/>trna<br/>total': ['bulk<br/>molecules',],\n",
    "            'uncharged<br/>trna<br/>total': ['bulk<br/>molecules',]\n",
    "        }\n",
    "    },\n",
    "    'complexation': {\n",
    "        '_type': 'process',\n",
    "        'inputs': {\n",
    "            'molecules': ['bulk<br/>molecules',], \n",
    "        }\n",
    "    },\n",
    "    'two<br/>component<br/>system': {\n",
    "        '_type': 'process',\n",
    "        'inputs': {\n",
    "            'molecules': ['bulk<br/>molecules',]\n",
    "        }\n",
    "    },\n",
    "    'equilibrium': {\n",
    "        '_type': 'process',\n",
    "        'inputs': {\n",
    "            'molecules': ['bulk<br/>molecules',]\n",
    "        }\n",
    "    },\n",
    "    'protein<br/>degradation': {\n",
    "        '_type': 'process',\n",
    "        'inputs': {\n",
    "            'metabolites': ['bulk<br/>molecules',],\n",
    "            'proteins': ['bulk<br/>molecules',]\n",
    "        }\n",
    "    },\n",
    "    'chromosome<br/>replication': {\n",
    "        '_type': 'process',\n",
    "        'inputs': {\n",
    "            'replisome<br/>trimers': ['bulk<br/>molecules',],\n",
    "            'replisome<br/>monomers': ['bulk<br/>molecules',],\n",
    "            'dntps': ['bulk<br/>molecules',],\n",
    "            'ppi': ['bulk<br/>molecules',],\n",
    "            'active<br/>replisomes': ['unique<br/>molecules', 'active<br/>replisome'],\n",
    "            'oriCs': ['unique<br/>molecules', 'oriC'],\n",
    "            'chromosome<br/>domains': ['unique<br/>molecules', 'chromosome<br/>domain'],\n",
    "            'full<br/>chromosomes': ['unique<br/>molecules', 'full<br/>chromosome'],\n",
    "            'environment': ['environment',]\n",
    "        }\n",
    "    },\n",
    "    'unique<br/>molecules': {\n",
    "        'chromosome<br/>domain': {},\n",
    "        'full<br/>chromosome': {},\n",
    "        'oriC': {},\n",
    "        'active<br/>replisome': {},\n",
    "        'RNA': {},\n",
    "        'active<br/>ribosome': {},\n",
    "        'DnaA<br/>box': {},\n",
    "        'promoter': {},\n",
    "    },\n",
    "    'bulk<br/>molecules': {},\n",
    "    'environment': {},\n",
    "}\n"
   ],
   "outputs": [],
   "execution_count": 13
  },
  {
   "cell_type": "markdown",
   "id": "ad4d8da5-f54d-411f-a9ec-f4592df29b11",
   "metadata": {},
   "source": "## E. coli wiring diagram"
  },
  {
   "cell_type": "code",
   "id": "156d7d9b-8783-4334-8974-76c396d2aa62",
   "metadata": {
    "tags": [],
    "jupyter": {
     "is_executing": true
    },
    "ExecuteTime": {
     "start_time": "2025-02-22T14:16:12.718831Z"
    }
   },
   "source": [
    "node_groups = [[\n",
    "        ['unique<br/>molecules',], ['bulk<br/>molecules',], ['environment',],\n",
    "    ],\n",
    "]\n",
    "plot_settings2 = {\n",
    "    'node_groups': node_groups,\n",
    "    'remove_process_place_edges': True,\n",
    "    'aspect_ratio': 'fill',\n",
    "    # 'aspect_ratio': '0.25',\n",
    "}\n",
    "fig = plot_bigraph(ecoli,\n",
    "                   **plot_settings,\n",
    "                   **plot_settings2,\n",
    "                   size='10,5',\n",
    "                   filename='ecoli'\n",
    "                   )\n",
    "\n",
    "fig2 = plot_bigraph(ecoli,\n",
    "                    **plot_settings,\n",
    "                    **plot_settings2,\n",
    "                    size='5,10',\n",
    "                    rankdir='RL',\n",
    "                    filename='ecoliRL',\n",
    "                    )\n",
    "fig"
   ],
   "outputs": [
    {
     "name": "stdout",
     "output_type": "stream",
     "text": [
      "Writing out/ecoli\n",
      "Writing out/ecoliRL\n"
     ]
    }
   ],
   "execution_count": null
  },
  {
   "metadata": {},
   "cell_type": "markdown",
   "source": "## E. coli subsets",
   "id": "31bce286b41352d1"
  },
  {
   "metadata": {
    "ExecuteTime": {
     "end_time": "2025-02-22T14:15:22.159320Z",
     "start_time": "2025-02-22T14:15:22.067582Z"
    }
   },
   "cell_type": "code",
   "source": [
    "ecoli_subset1 = {\n",
    "    'chromosome<br/>structure': ecoli['chromosome<br/>structure'],\n",
    "    # 'metabolism': ecoli['metabolism'],\n",
    "    # 'tf<br/>binding': ecoli['tf<br/>binding'],\n",
    "    'transcript<br/>initiation': ecoli['transcript<br/>initiation'],\n",
    "}\n",
    "\n",
    "# ecoli subset 2 pulls out only the processes that are connected to bulk, and not to unique\n",
    "rna_deg = ecoli['rna<br/>degradation'].copy()\n",
    "del rna_deg['inputs']['RNAs']\n",
    "del rna_deg['inputs']['active<br/>ribosome']\n",
    "ecoli_subset2 = {\n",
    "    'metabolism': ecoli['metabolism'],\n",
    "    'rna<br/>degradation': rna_deg,\n",
    "    'protein<br/>degradation': ecoli['protein<br/>degradation'],\n",
    "}\n",
    "\n",
    "plot_settings3 = {\n",
    "    'node_groups': node_groups,\n",
    "    'remove_process_place_edges': True,\n",
    "}\n",
    "plot_bigraph(ecoli_subset1,\n",
    "             **plot_settings,\n",
    "             **plot_settings3,\n",
    "             rankdir='RL',\n",
    "             filename='ecoli_subset1')\n",
    "plot_bigraph(ecoli_subset2,\n",
    "             **plot_settings,\n",
    "             **plot_settings3,\n",
    "             rankdir='LR',\n",
    "             filename='ecoli_subset2')"
   ],
   "id": "ffceb450e22bcf39",
   "outputs": [
    {
     "name": "stdout",
     "output_type": "stream",
     "text": [
      "Writing out/ecoli_subset1\n",
      "node ('unique<br/>molecules',) not in graph\n",
      "Writing out/ecoli_subset2\n"
     ]
    },
    {
     "data": {
      "image/svg+xml": "<?xml version=\"1.0\" encoding=\"UTF-8\" standalone=\"no\"?>\n<!DOCTYPE svg PUBLIC \"-//W3C//DTD SVG 1.1//EN\"\n \"http://www.w3.org/Graphics/SVG/1.1/DTD/svg11.dtd\">\n<!-- Generated by graphviz version 9.0.0 (0)\n -->\n<!-- Title: bigraph Pages: 1 -->\n<svg width=\"522pt\" height=\"993pt\"\n viewBox=\"0.00 0.00 375.91 714.64\" xmlns=\"http://www.w3.org/2000/svg\" xmlns:xlink=\"http://www.w3.org/1999/xlink\">\n<g id=\"graph0\" class=\"graph\" transform=\"scale(1.38889 1.38889) rotate(0) translate(4 710.64)\">\n<title>bigraph</title>\n<polygon fill=\"white\" stroke=\"none\" points=\"-4,4 -4,-710.64 371.91,-710.64 371.91,4 -4,4\"/>\n<!-- (&#39;bulk&lt;br/&gt;molecules&#39;,) -->\n<g id=\"node1\" class=\"node\">\n<title>(&#39;bulk&lt;br/&gt;molecules&#39;,)</title>\n<ellipse fill=\"none\" stroke=\"black\" stroke-width=\"2\" cx=\"67.33\" cy=\"-340.64\" rx=\"59.37\" ry=\"59.37\"/>\n<text text-anchor=\"start\" x=\"49.55\" y=\"-344.64\" font-family=\"Times,serif\" font-size=\"20.00\">bulk</text>\n<text text-anchor=\"start\" x=\"26.79\" y=\"-324.64\" font-family=\"Times,serif\" font-size=\"20.00\">molecules</text>\n</g>\n<!-- (&#39;environment&#39;,) -->\n<g id=\"node2\" class=\"node\">\n<title>(&#39;environment&#39;,)</title>\n<ellipse fill=\"none\" stroke=\"black\" stroke-width=\"2\" cx=\"67.33\" cy=\"-178.64\" rx=\"67.33\" ry=\"67.33\"/>\n<text text-anchor=\"start\" x=\"16.79\" y=\"-172.64\" font-family=\"Times,serif\" font-size=\"20.00\">environment</text>\n</g>\n<!-- (&#39;bulk&lt;br/&gt;molecules&#39;,)&#45;&gt;(&#39;environment&#39;,) -->\n<!-- (&#39;metabolism&#39;,) -->\n<g id=\"node3\" class=\"node\">\n<title>(&#39;metabolism&#39;,)</title>\n<polygon fill=\"none\" stroke=\"black\" stroke-width=\"2\" points=\"367.37,-563.64 271.17,-563.64 271.17,-527.64 367.37,-527.64 367.37,-563.64\"/>\n<text text-anchor=\"start\" x=\"272.61\" y=\"-539.64\" font-family=\"Times,serif\" font-size=\"20.00\">metabolism</text>\n</g>\n<!-- (&#39;bulk&lt;br/&gt;molecules&#39;,)&#45;&gt;(&#39;metabolism&#39;,) -->\n<g id=\"edge1\" class=\"edge\">\n<title>(&#39;bulk&lt;br/&gt;molecules&#39;,)&#45;&gt;(&#39;metabolism&#39;,)</title>\n<path fill=\"none\" stroke=\"black\" stroke-dasharray=\"5,2\" d=\"M79.82,-399.64C91.11,-441.07 112.68,-494.15 152.66,-523.64 170.87,-537.07 228.38,-542.3 270.53,-544.34\"/>\n<text text-anchor=\"start\" x=\"181.98\" y=\"-545.04\" font-family=\"Times,serif\" font-size=\"12.00\">catalysts</text>\n</g>\n<!-- (&#39;bulk&lt;br/&gt;molecules&#39;,)&#45;&gt;(&#39;metabolism&#39;,) -->\n<g id=\"edge2\" class=\"edge\">\n<title>(&#39;bulk&lt;br/&gt;molecules&#39;,)&#45;&gt;(&#39;metabolism&#39;,)</title>\n<path fill=\"none\" stroke=\"black\" stroke-dasharray=\"5,2\" d=\"M87.16,-397.29C100.55,-428.91 121.73,-466.31 152.66,-488.64 189.4,-515.16 210.15,-492.87 252.63,-508.64 265.26,-513.33 278.35,-520.23 289.49,-526.81\"/>\n<text text-anchor=\"start\" x=\"174.98\" y=\"-511.04\" font-family=\"Times,serif\" font-size=\"12.00\">metabolites</text>\n</g>\n<!-- (&#39;bulk&lt;br/&gt;molecules&#39;,)&#45;&gt;(&#39;metabolism&#39;,) -->\n<g id=\"edge3\" class=\"edge\">\n<title>(&#39;bulk&lt;br/&gt;molecules&#39;,)&#45;&gt;(&#39;metabolism&#39;,)</title>\n<path fill=\"none\" stroke=\"black\" stroke-dasharray=\"5,2\" d=\"M104.25,-388.07C117.95,-403.48 134.64,-419.47 152.66,-430.64 192.09,-455.07 214.4,-434.36 252.63,-460.64 277.67,-477.86 297.43,-507.61 308.49,-526.95\"/>\n<text text-anchor=\"start\" x=\"183.98\" y=\"-475.04\" font-family=\"Times,serif\" font-size=\"12.00\">kinetics</text>\n<text text-anchor=\"start\" x=\"178.98\" y=\"-463.04\" font-family=\"Times,serif\" font-size=\"12.00\">substrates</text>\n</g>\n<!-- (&#39;bulk&lt;br/&gt;molecules&#39;,)&#45;&gt;(&#39;metabolism&#39;,) -->\n<g id=\"edge5\" class=\"edge\">\n<title>(&#39;bulk&lt;br/&gt;molecules&#39;,)&#45;&gt;(&#39;metabolism&#39;,)</title>\n<path fill=\"none\" stroke=\"black\" stroke-dasharray=\"5,2\" d=\"M75.18,-400.19C86.26,-484.64 111.16,-632.56 152.66,-664.64 187.81,-691.81 214.37,-687.23 252.63,-664.64 289.6,-642.81 307.18,-591.87 314.25,-564.25\"/>\n<text text-anchor=\"start\" x=\"187.65\" y=\"-697.04\" font-family=\"Times,serif\" font-size=\"12.00\">amino</text>\n<text text-anchor=\"start\" x=\"190.31\" y=\"-685.04\" font-family=\"Times,serif\" font-size=\"12.00\">acids</text>\n</g>\n<!-- (&#39;bulk&lt;br/&gt;molecules&#39;,)&#45;&gt;(&#39;metabolism&#39;,) -->\n<g id=\"edge6\" class=\"edge\">\n<title>(&#39;bulk&lt;br/&gt;molecules&#39;,)&#45;&gt;(&#39;metabolism&#39;,)</title>\n<path fill=\"none\" stroke=\"black\" stroke-dasharray=\"5,2\" d=\"M77.98,-400C91.26,-473.33 117.57,-591.64 152.66,-617.64 188.36,-644.09 211.98,-635.58 252.63,-617.64 277.07,-606.84 296.35,-581.95 307.52,-564.47\"/>\n<text text-anchor=\"start\" x=\"183.98\" y=\"-648.04\" font-family=\"Times,serif\" font-size=\"12.00\">kinetics</text>\n<text text-anchor=\"start\" x=\"181.65\" y=\"-636.04\" font-family=\"Times,serif\" font-size=\"12.00\">enzymes</text>\n</g>\n<!-- (&#39;bulk&lt;br/&gt;molecules&#39;,)&#45;&gt;(&#39;metabolism&#39;,) -->\n<g id=\"edge7\" class=\"edge\">\n<title>(&#39;bulk&lt;br/&gt;molecules&#39;,)&#45;&gt;(&#39;metabolism&#39;,)</title>\n<path fill=\"none\" stroke=\"black\" stroke-dasharray=\"5,2\" d=\"M73.35,-400.56C81.19,-452.06 101.28,-523.42 152.66,-558.64 186.8,-582.04 234.7,-575.12 270.21,-564.52\"/>\n<text text-anchor=\"start\" x=\"187.65\" y=\"-600.04\" font-family=\"Times,serif\" font-size=\"12.00\">amino</text>\n<text text-anchor=\"start\" x=\"190.31\" y=\"-588.04\" font-family=\"Times,serif\" font-size=\"12.00\">acids</text>\n<text text-anchor=\"start\" x=\"191.98\" y=\"-576.04\" font-family=\"Times,serif\" font-size=\"12.00\">total</text>\n</g>\n<!-- (&#39;rna&lt;br/&gt;degradation&#39;,) -->\n<g id=\"node4\" class=\"node\">\n<title>(&#39;rna&lt;br/&gt;degradation&#39;,)</title>\n<polygon fill=\"none\" stroke=\"black\" stroke-width=\"2\" points=\"367.91,-181.08 270.63,-181.08 270.63,-138.2 367.91,-138.2 367.91,-181.08\"/>\n<text text-anchor=\"start\" x=\"306.5\" y=\"-163.64\" font-family=\"Times,serif\" font-size=\"20.00\">rna</text>\n<text text-anchor=\"start\" x=\"272.07\" y=\"-143.64\" font-family=\"Times,serif\" font-size=\"20.00\">degradation</text>\n</g>\n<!-- (&#39;bulk&lt;br/&gt;molecules&#39;,)&#45;&gt;(&#39;rna&lt;br/&gt;degradation&#39;,) -->\n<g id=\"edge8\" class=\"edge\">\n<title>(&#39;bulk&lt;br/&gt;molecules&#39;,)&#45;&gt;(&#39;rna&lt;br/&gt;degradation&#39;,)</title>\n<path fill=\"none\" stroke=\"black\" stroke-dasharray=\"5,2\" d=\"M109.19,-297.71C119.23,-284.79 128.77,-269.95 134.66,-254.64 153.37,-205.96 114.39,-56.07 152.66,-20.64 185.26,9.55 215.1,3.14 252.63,-20.64 293.32,-46.42 309.26,-104.95 315.12,-137.23\"/>\n<text text-anchor=\"start\" x=\"152.66\" y=\"-23.04\" font-family=\"Times,serif\" font-size=\"12.00\">fragmentMetabolites</text>\n</g>\n<!-- (&#39;bulk&lt;br/&gt;molecules&#39;,)&#45;&gt;(&#39;rna&lt;br/&gt;degradation&#39;,) -->\n<g id=\"edge9\" class=\"edge\">\n<title>(&#39;bulk&lt;br/&gt;molecules&#39;,)&#45;&gt;(&#39;rna&lt;br/&gt;degradation&#39;,)</title>\n<path fill=\"none\" stroke=\"black\" stroke-dasharray=\"5,2\" d=\"M126.64,-330.99C176.82,-322.25 242.69,-309.57 252.63,-301.64 290.74,-271.24 307.68,-213.66 314.4,-181.96\"/>\n<text text-anchor=\"start\" x=\"178.32\" y=\"-329.04\" font-family=\"Times,serif\" font-size=\"12.00\">molecules</text>\n</g>\n<!-- (&#39;bulk&lt;br/&gt;molecules&#39;,)&#45;&gt;(&#39;rna&lt;br/&gt;degradation&#39;,) -->\n<g id=\"edge10\" class=\"edge\">\n<title>(&#39;bulk&lt;br/&gt;molecules&#39;,)&#45;&gt;(&#39;rna&lt;br/&gt;degradation&#39;,)</title>\n<path fill=\"none\" stroke=\"black\" stroke-dasharray=\"5,2\" d=\"M116.15,-305.7C127.67,-298.53 140.24,-291.65 152.66,-286.64 194.68,-269.68 215.46,-292.56 252.63,-266.64 282.48,-245.82 301.32,-206.63 310.81,-181.9\"/>\n<text text-anchor=\"start\" x=\"189.64\" y=\"-289.04\" font-family=\"Times,serif\" font-size=\"12.00\">nmps</text>\n</g>\n<!-- (&#39;bulk&lt;br/&gt;molecules&#39;,)&#45;&gt;(&#39;rna&lt;br/&gt;degradation&#39;,) -->\n<g id=\"edge11\" class=\"edge\">\n<title>(&#39;bulk&lt;br/&gt;molecules&#39;,)&#45;&gt;(&#39;rna&lt;br/&gt;degradation&#39;,)</title>\n<path fill=\"none\" stroke=\"black\" stroke-dasharray=\"5,2\" d=\"M104.83,-293.6C124.58,-268.68 146.23,-242.44 152.66,-238.64 191.59,-215.62 212.19,-239.89 252.63,-219.64 270.85,-210.51 287.73,-194.85 299.81,-181.81\"/>\n<text text-anchor=\"start\" x=\"183.76\" y=\"-253.04\" font-family=\"Times,serif\" font-size=\"12.00\">charged</text>\n<text text-anchor=\"start\" x=\"193.31\" y=\"-241.04\" font-family=\"Times,serif\" font-size=\"12.00\">trna</text>\n</g>\n<!-- (&#39;bulk&lt;br/&gt;molecules&#39;,)&#45;&gt;(&#39;rna&lt;br/&gt;degradation&#39;,) -->\n<g id=\"edge12\" class=\"edge\">\n<title>(&#39;bulk&lt;br/&gt;molecules&#39;,)&#45;&gt;(&#39;rna&lt;br/&gt;degradation&#39;,)</title>\n<path fill=\"none\" stroke=\"black\" stroke-dasharray=\"5,2\" d=\"M107.56,-296.38C117.47,-283.57 127.35,-269.11 134.66,-254.64 147.79,-228.64 131.16,-211.28 152.66,-191.64 186.05,-161.14 208.23,-181.25 252.63,-172.64 258.21,-171.55 264.07,-170.41 269.88,-169.27\"/>\n<text text-anchor=\"start\" x=\"191.98\" y=\"-206.04\" font-family=\"Times,serif\" font-size=\"12.00\">bulk</text>\n<text text-anchor=\"start\" x=\"187.64\" y=\"-194.04\" font-family=\"Times,serif\" font-size=\"12.00\">RNAs</text>\n</g>\n<!-- (&#39;bulk&lt;br/&gt;molecules&#39;,)&#45;&gt;(&#39;rna&lt;br/&gt;degradation&#39;,) -->\n<g id=\"edge13\" class=\"edge\">\n<title>(&#39;bulk&lt;br/&gt;molecules&#39;,)&#45;&gt;(&#39;rna&lt;br/&gt;degradation&#39;,)</title>\n<path fill=\"none\" stroke=\"black\" stroke-dasharray=\"5,2\" d=\"M108.48,-296.82C118.39,-284.01 128.04,-269.44 134.66,-254.64 152.55,-214.61 118.94,-185.67 152.66,-157.64 169.85,-143.35 227.26,-147.15 269.69,-152.35\"/>\n<text text-anchor=\"start\" x=\"173.98\" y=\"-160.04\" font-family=\"Times,serif\" font-size=\"12.00\">endoRnases</text>\n</g>\n<!-- (&#39;bulk&lt;br/&gt;molecules&#39;,)&#45;&gt;(&#39;rna&lt;br/&gt;degradation&#39;,) -->\n<g id=\"edge14\" class=\"edge\">\n<title>(&#39;bulk&lt;br/&gt;molecules&#39;,)&#45;&gt;(&#39;rna&lt;br/&gt;degradation&#39;,)</title>\n<path fill=\"none\" stroke=\"black\" stroke-dasharray=\"5,2\" d=\"M108.84,-296.98C118.75,-284.17 128.32,-269.56 134.66,-254.64 145.37,-229.42 131.91,-150.55 152.66,-132.64 187.28,-102.75 241.72,-119.68 278.65,-137.24\"/>\n<text text-anchor=\"start\" x=\"176.98\" y=\"-135.04\" font-family=\"Times,serif\" font-size=\"12.00\">exoRnases</text>\n</g>\n<!-- (&#39;bulk&lt;br/&gt;molecules&#39;,)&#45;&gt;(&#39;rna&lt;br/&gt;degradation&#39;,) -->\n<g id=\"edge15\" class=\"edge\">\n<title>(&#39;bulk&lt;br/&gt;molecules&#39;,)&#45;&gt;(&#39;rna&lt;br/&gt;degradation&#39;,)</title>\n<path fill=\"none\" stroke=\"black\" stroke-dasharray=\"5,2\" d=\"M109.14,-297.1C119.05,-284.29 128.54,-269.66 134.66,-254.64 147.65,-222.73 126.92,-123.54 152.66,-100.64 185.85,-71.1 211.14,-84.73 252.63,-100.64 271.8,-107.99 288.88,-123.81 300.82,-137.22\"/>\n<text text-anchor=\"start\" x=\"166.99\" y=\"-103.04\" font-family=\"Times,serif\" font-size=\"12.00\">fragmentBases</text>\n</g>\n<!-- (&#39;bulk&lt;br/&gt;molecules&#39;,)&#45;&gt;(&#39;rna&lt;br/&gt;degradation&#39;,) -->\n<g id=\"edge16\" class=\"edge\">\n<title>(&#39;bulk&lt;br/&gt;molecules&#39;,)&#45;&gt;(&#39;rna&lt;br/&gt;degradation&#39;,)</title>\n<path fill=\"none\" stroke=\"black\" stroke-dasharray=\"5,2\" d=\"M109,-297.63C119.04,-284.71 128.63,-269.89 134.66,-254.64 150.01,-215.81 121.76,-95.71 152.66,-67.64 185.55,-37.77 213.13,-47.3 252.63,-67.64 280.88,-82.19 299.67,-115.17 309.65,-137.42\"/>\n<text text-anchor=\"start\" x=\"182.64\" y=\"-70.04\" font-family=\"Times,serif\" font-size=\"12.00\">subunits</text>\n</g>\n<!-- (&#39;protein&lt;br/&gt;degradation&#39;,) -->\n<g id=\"node5\" class=\"node\">\n<title>(&#39;protein&lt;br/&gt;degradation&#39;,)</title>\n<polygon fill=\"none\" stroke=\"black\" stroke-width=\"2\" points=\"367.91,-415.08 270.63,-415.08 270.63,-372.2 367.91,-372.2 367.91,-415.08\"/>\n<text text-anchor=\"start\" x=\"290.94\" y=\"-397.64\" font-family=\"Times,serif\" font-size=\"20.00\">protein</text>\n<text text-anchor=\"start\" x=\"272.07\" y=\"-377.64\" font-family=\"Times,serif\" font-size=\"20.00\">degradation</text>\n</g>\n<!-- (&#39;bulk&lt;br/&gt;molecules&#39;,)&#45;&gt;(&#39;protein&lt;br/&gt;degradation&#39;,) -->\n<g id=\"edge17\" class=\"edge\">\n<title>(&#39;bulk&lt;br/&gt;molecules&#39;,)&#45;&gt;(&#39;protein&lt;br/&gt;degradation&#39;,)</title>\n<path fill=\"none\" stroke=\"black\" stroke-dasharray=\"5,2\" d=\"M110.51,-382.4C123.07,-392.27 137.54,-401.43 152.66,-406.64 190.56,-419.71 236.12,-414.75 269.86,-407.49\"/>\n<text text-anchor=\"start\" x=\"174.98\" y=\"-417.04\" font-family=\"Times,serif\" font-size=\"12.00\">metabolites</text>\n</g>\n<!-- (&#39;bulk&lt;br/&gt;molecules&#39;,)&#45;&gt;(&#39;protein&lt;br/&gt;degradation&#39;,) -->\n<g id=\"edge18\" class=\"edge\">\n<title>(&#39;bulk&lt;br/&gt;molecules&#39;,)&#45;&gt;(&#39;protein&lt;br/&gt;degradation&#39;,)</title>\n<path fill=\"none\" stroke=\"black\" stroke-dasharray=\"5,2\" d=\"M127.53,-341.14C164.22,-342.81 211.94,-347.48 252.63,-359.64 262.22,-362.5 272.06,-366.78 281.11,-371.34\"/>\n<text text-anchor=\"start\" x=\"183.31\" y=\"-362.04\" font-family=\"Times,serif\" font-size=\"12.00\">proteins</text>\n</g>\n<!-- (&#39;environment&#39;,)&#45;&gt;(&#39;metabolism&#39;,) -->\n<g id=\"edge4\" class=\"edge\">\n<title>(&#39;environment&#39;,)&#45;&gt;(&#39;metabolism&#39;,)</title>\n<path fill=\"none\" stroke=\"black\" stroke-dasharray=\"5,2\" d=\"M111.2,-230.94C120.12,-243.93 128.63,-258.27 134.66,-272.64 151.96,-313.88 121.32,-339.74 152.66,-371.64 184.41,-403.96 217.47,-363.05 252.63,-391.64 263.79,-400.71 296.95,-487.87 311.41,-526.9\"/>\n<text text-anchor=\"start\" x=\"172.32\" y=\"-394.04\" font-family=\"Times,serif\" font-size=\"12.00\">environment</text>\n</g>\n</g>\n</svg>\n",
      "text/plain": [
       "<graphviz.graphs.Digraph at 0x1132936d0>"
      ]
     },
     "execution_count": 4,
     "metadata": {},
     "output_type": "execute_result"
    }
   ],
   "execution_count": 4
  },
  {
   "metadata": {},
   "cell_type": "markdown",
   "source": "## E. coli use cases",
   "id": "ebdfa37816772f42"
  },
  {
   "metadata": {
    "ExecuteTime": {
     "end_time": "2025-02-22T14:15:22.243345Z",
     "start_time": "2025-02-22T14:15:22.172097Z"
    }
   },
   "cell_type": "code",
   "source": [
    "ecoli1 = {\n",
    "    'biomanufacturing ecoli': {\n",
    "        '_type': 'process',\n",
    "        '_inputs': {\n",
    "            # For gene expression, protein interactions, and metabolite dynamics\n",
    "            'gene<br/>expression': 'any',\n",
    "            'protein<br/>interactions': 'any',\n",
    "            'metabolite<br/>dynamics': 'any',\n",
    "        },\n",
    "        '_outputs': {\n",
    "            #cellular composition, properties such as cell size and growth rate, and higher-order behavior\n",
    "            'cell<br/>composition': 'any',\n",
    "            'cell<br/>properties': 'any',\n",
    "            'higher<br/>order<br/>behavior': 'any',\n",
    "\n",
    "        }\n",
    "    }\n",
    "}\n",
    "ecoli2 = {\n",
    "    'antimicrobial efficacy ecoli': {\n",
    "        '_type': 'process',\n",
    "        '_inputs': {\n",
    "            # For gene expression, protein interactions, and metabolite dynamics\n",
    "            'gene<br/>expression': 'any',\n",
    "            'protein<br/>interactions': 'any',\n",
    "            'metabolite<br/>dynamics': 'any',\n",
    "        },\n",
    "        '_outputs': {\n",
    "            #cellular composition, properties such as cell size and growth rate, and higher-order behavior\n",
    "            'cell<br/>composition': 'any',\n",
    "            'cell<br/>properties': 'any',\n",
    "            'higher<br/>order<br/>behavior': 'any',\n",
    "        }\n",
    "    }\n",
    "}\n",
    "\n",
    "\n",
    "plot_settings2['dpi'] = '100'\n",
    "plot_bigraph(ecoli1, **plot_settings2, filename='ecoli1')\n",
    "plot_bigraph(ecoli2, **plot_settings2, filename='ecoli2')"
   ],
   "id": "53cf777caa7d20db",
   "outputs": [
    {
     "name": "stdout",
     "output_type": "stream",
     "text": [
      "node ('unique<br/>molecules',) not in graph\n",
      "node ('bulk<br/>molecules',) not in graph\n",
      "node ('environment',) not in graph\n",
      "Writing out/ecoli1\n",
      "node ('unique<br/>molecules',) not in graph\n",
      "node ('bulk<br/>molecules',) not in graph\n",
      "node ('environment',) not in graph\n",
      "Writing out/ecoli2\n"
     ]
    },
    {
     "data": {
      "image/svg+xml": "<?xml version=\"1.0\" encoding=\"UTF-8\" standalone=\"no\"?>\n<!DOCTYPE svg PUBLIC \"-//W3C//DTD SVG 1.1//EN\"\n \"http://www.w3.org/Graphics/SVG/1.1/DTD/svg11.dtd\">\n<!-- Generated by graphviz version 9.0.0 (0)\n -->\n<!-- Title: bigraph Pages: 1 -->\n<svg width=\"532pt\" height=\"190pt\"\n viewBox=\"0.00 0.00 383.02 137.15\" xmlns=\"http://www.w3.org/2000/svg\" xmlns:xlink=\"http://www.w3.org/1999/xlink\">\n<g id=\"graph0\" class=\"graph\" transform=\"scale(1.38889 1.38889) rotate(0) translate(4 133.15)\">\n<title>bigraph</title>\n<polygon fill=\"white\" stroke=\"none\" points=\"-4,4 -4,-133.15 379.02,-133.15 379.02,4 -4,4\"/>\n<!-- (&#39;antimicrobial efficacy ecoli&#39;,) -->\n<g id=\"node1\" class=\"node\">\n<title>(&#39;antimicrobial efficacy ecoli&#39;,)</title>\n<polygon fill=\"none\" stroke=\"black\" stroke-width=\"2\" points=\"250.81,-36 112.34,-36 112.34,0 250.81,0 250.81,-36\"/>\n<text text-anchor=\"start\" x=\"115.94\" y=\"-14.4\" font-family=\"Times,serif\" font-size=\"12.00\">antimicrobial efficacy ecoli</text>\n</g>\n<!-- (&#39;antimicrobial efficacy ecoli&#39;, &#39;p&#39;, &#39;r&#39;, &#39;o&#39;, &#39;t&#39;, &#39;e&#39;, &#39;i&#39;, &#39;n&#39;, &#39;&lt;&#39;, &#39;b&#39;, &#39;r&#39;, &#39;/&#39;, &#39;&gt;&#39;, &#39;i&#39;, &#39;n&#39;, &#39;t&#39;, &#39;e&#39;, &#39;r&#39;, &#39;a&#39;, &#39;c&#39;, &#39;t&#39;, &#39;i&#39;, &#39;o&#39;, &#39;n&#39;, &#39;s&#39;)_input -->\n<!-- (&#39;antimicrobial efficacy ecoli&#39;, &#39;p&#39;, &#39;r&#39;, &#39;o&#39;, &#39;t&#39;, &#39;e&#39;, &#39;i&#39;, &#39;n&#39;, &#39;&lt;&#39;, &#39;b&#39;, &#39;r&#39;, &#39;/&#39;, &#39;&gt;&#39;, &#39;i&#39;, &#39;n&#39;, &#39;t&#39;, &#39;e&#39;, &#39;r&#39;, &#39;a&#39;, &#39;c&#39;, &#39;t&#39;, &#39;i&#39;, &#39;o&#39;, &#39;n&#39;, &#39;s&#39;)_input&#45;&gt;(&#39;antimicrobial efficacy ecoli&#39;,) -->\n<g id=\"edge1\" class=\"edge\">\n<title>(&#39;antimicrobial efficacy ecoli&#39;, &#39;p&#39;, &#39;r&#39;, &#39;o&#39;, &#39;t&#39;, &#39;e&#39;, &#39;i&#39;, &#39;n&#39;, &#39;&lt;&#39;, &#39;b&#39;, &#39;r&#39;, &#39;/&#39;, &#39;&gt;&#39;, &#39;i&#39;, &#39;n&#39;, &#39;t&#39;, &#39;e&#39;, &#39;r&#39;, &#39;a&#39;, &#39;c&#39;, &#39;t&#39;, &#39;i&#39;, &#39;o&#39;, &#39;n&#39;, &#39;s&#39;)_input&#45;&gt;(&#39;antimicrobial efficacy ecoli&#39;,)</title>\n<path fill=\"none\" stroke=\"black\" stroke-dasharray=\"5,2\" d=\"M14.87,-101.21C16.94,-87.38 22.27,-66.14 35.93,-54 53.63,-38.26 77.18,-29.29 100.17,-24.27\"/>\n<polygon fill=\"black\" stroke=\"black\" points=\"100.74,-27.72 109.9,-22.39 99.42,-20.85 100.74,-27.72\"/>\n<text text-anchor=\"start\" x=\"45.74\" y=\"-71\" font-family=\"Times,serif\" font-size=\"10.00\">protein</text>\n<text text-anchor=\"start\" x=\"36.58\" y=\"-61\" font-family=\"Times,serif\" font-size=\"10.00\">interactions</text>\n</g>\n<!-- (&#39;antimicrobial efficacy ecoli&#39;, &#39;g&#39;, &#39;e&#39;, &#39;n&#39;, &#39;e&#39;, &#39;&lt;&#39;, &#39;b&#39;, &#39;r&#39;, &#39;/&#39;, &#39;&gt;&#39;, &#39;e&#39;, &#39;x&#39;, &#39;p&#39;, &#39;r&#39;, &#39;e&#39;, &#39;s&#39;, &#39;s&#39;, &#39;i&#39;, &#39;o&#39;, &#39;n&#39;)_input -->\n<!-- (&#39;antimicrobial efficacy ecoli&#39;, &#39;g&#39;, &#39;e&#39;, &#39;n&#39;, &#39;e&#39;, &#39;&lt;&#39;, &#39;b&#39;, &#39;r&#39;, &#39;/&#39;, &#39;&gt;&#39;, &#39;e&#39;, &#39;x&#39;, &#39;p&#39;, &#39;r&#39;, &#39;e&#39;, &#39;s&#39;, &#39;s&#39;, &#39;i&#39;, &#39;o&#39;, &#39;n&#39;)_input&#45;&gt;(&#39;antimicrobial efficacy ecoli&#39;,) -->\n<g id=\"edge2\" class=\"edge\">\n<title>(&#39;antimicrobial efficacy ecoli&#39;, &#39;g&#39;, &#39;e&#39;, &#39;n&#39;, &#39;e&#39;, &#39;&lt;&#39;, &#39;b&#39;, &#39;r&#39;, &#39;/&#39;, &#39;&gt;&#39;, &#39;e&#39;, &#39;x&#39;, &#39;p&#39;, &#39;r&#39;, &#39;e&#39;, &#39;s&#39;, &#39;s&#39;, &#39;i&#39;, &#39;o&#39;, &#39;n&#39;)_input&#45;&gt;(&#39;antimicrobial efficacy ecoli&#39;,)</title>\n<path fill=\"none\" stroke=\"black\" stroke-dasharray=\"5,2\" d=\"M83.61,-101.47C84.31,-88.05 87.38,-67.34 98.81,-54 102.36,-49.85 106.5,-46.18 110.98,-42.94\"/>\n<polygon fill=\"black\" stroke=\"black\" points=\"112.74,-45.97 119.33,-37.67 109.01,-40.05 112.74,-45.97\"/>\n<text text-anchor=\"start\" x=\"111.52\" y=\"-71\" font-family=\"Times,serif\" font-size=\"10.00\">gene</text>\n<text text-anchor=\"start\" x=\"99.58\" y=\"-61\" font-family=\"Times,serif\" font-size=\"10.00\">expression</text>\n</g>\n<!-- (&#39;antimicrobial efficacy ecoli&#39;, &#39;m&#39;, &#39;e&#39;, &#39;t&#39;, &#39;a&#39;, &#39;b&#39;, &#39;o&#39;, &#39;l&#39;, &#39;i&#39;, &#39;t&#39;, &#39;e&#39;, &#39;&lt;&#39;, &#39;b&#39;, &#39;r&#39;, &#39;/&#39;, &#39;&gt;&#39;, &#39;d&#39;, &#39;y&#39;, &#39;n&#39;, &#39;a&#39;, &#39;m&#39;, &#39;i&#39;, &#39;c&#39;, &#39;s&#39;)_input -->\n<!-- (&#39;antimicrobial efficacy ecoli&#39;, &#39;m&#39;, &#39;e&#39;, &#39;t&#39;, &#39;a&#39;, &#39;b&#39;, &#39;o&#39;, &#39;l&#39;, &#39;i&#39;, &#39;t&#39;, &#39;e&#39;, &#39;&lt;&#39;, &#39;b&#39;, &#39;r&#39;, &#39;/&#39;, &#39;&gt;&#39;, &#39;d&#39;, &#39;y&#39;, &#39;n&#39;, &#39;a&#39;, &#39;m&#39;, &#39;i&#39;, &#39;c&#39;, &#39;s&#39;)_input&#45;&gt;(&#39;antimicrobial efficacy ecoli&#39;,) -->\n<g id=\"edge3\" class=\"edge\">\n<title>(&#39;antimicrobial efficacy ecoli&#39;, &#39;m&#39;, &#39;e&#39;, &#39;t&#39;, &#39;a&#39;, &#39;b&#39;, &#39;o&#39;, &#39;l&#39;, &#39;i&#39;, &#39;t&#39;, &#39;e&#39;, &#39;&lt;&#39;, &#39;b&#39;, &#39;r&#39;, &#39;/&#39;, &#39;&gt;&#39;, &#39;d&#39;, &#39;y&#39;, &#39;n&#39;, &#39;a&#39;, &#39;m&#39;, &#39;i&#39;, &#39;c&#39;, &#39;s&#39;)_input&#45;&gt;(&#39;antimicrobial efficacy ecoli&#39;,)</title>\n<path fill=\"none\" stroke=\"black\" stroke-dasharray=\"5,2\" d=\"M147.19,-101.55C145.46,-88.93 144.35,-69.49 150.37,-54 151.43,-51.28 152.8,-48.63 154.38,-46.09\"/>\n<polygon fill=\"black\" stroke=\"black\" points=\"157.17,-48.21 160.37,-38.11 151.57,-44.01 157.17,-48.21\"/>\n<text text-anchor=\"start\" x=\"149.58\" y=\"-71\" font-family=\"Times,serif\" font-size=\"10.00\">metabolite</text>\n<text text-anchor=\"start\" x=\"151.52\" y=\"-61\" font-family=\"Times,serif\" font-size=\"10.00\">dynamics</text>\n</g>\n<!-- (&#39;antimicrobial efficacy ecoli&#39;, &#39;h&#39;, &#39;i&#39;, &#39;g&#39;, &#39;h&#39;, &#39;e&#39;, &#39;r&#39;, &#39;&lt;&#39;, &#39;b&#39;, &#39;r&#39;, &#39;/&#39;, &#39;&gt;&#39;, &#39;o&#39;, &#39;r&#39;, &#39;d&#39;, &#39;e&#39;, &#39;r&#39;, &#39;&lt;&#39;, &#39;b&#39;, &#39;r&#39;, &#39;/&#39;, &#39;&gt;&#39;, &#39;b&#39;, &#39;e&#39;, &#39;h&#39;, &#39;a&#39;, &#39;v&#39;, &#39;i&#39;, &#39;o&#39;, &#39;r&#39;)_output -->\n<!-- (&#39;antimicrobial efficacy ecoli&#39;, &#39;h&#39;, &#39;i&#39;, &#39;g&#39;, &#39;h&#39;, &#39;e&#39;, &#39;r&#39;, &#39;&lt;&#39;, &#39;b&#39;, &#39;r&#39;, &#39;/&#39;, &#39;&gt;&#39;, &#39;o&#39;, &#39;r&#39;, &#39;d&#39;, &#39;e&#39;, &#39;r&#39;, &#39;&lt;&#39;, &#39;b&#39;, &#39;r&#39;, &#39;/&#39;, &#39;&gt;&#39;, &#39;b&#39;, &#39;e&#39;, &#39;h&#39;, &#39;a&#39;, &#39;v&#39;, &#39;i&#39;, &#39;o&#39;, &#39;r&#39;)_output&#45;&gt;(&#39;antimicrobial efficacy ecoli&#39;,) -->\n<g id=\"edge4\" class=\"edge\">\n<title>(&#39;antimicrobial efficacy ecoli&#39;, &#39;h&#39;, &#39;i&#39;, &#39;g&#39;, &#39;h&#39;, &#39;e&#39;, &#39;r&#39;, &#39;&lt;&#39;, &#39;b&#39;, &#39;r&#39;, &#39;/&#39;, &#39;&gt;&#39;, &#39;o&#39;, &#39;r&#39;, &#39;d&#39;, &#39;e&#39;, &#39;r&#39;, &#39;&lt;&#39;, &#39;b&#39;, &#39;r&#39;, &#39;/&#39;, &#39;&gt;&#39;, &#39;b&#39;, &#39;e&#39;, &#39;h&#39;, &#39;a&#39;, &#39;v&#39;, &#39;i&#39;, &#39;o&#39;, &#39;r&#39;)_output&#45;&gt;(&#39;antimicrobial efficacy ecoli&#39;,)</title>\n<path fill=\"none\" stroke=\"black\" stroke-dasharray=\"5,2\" d=\"M206.6,-91.48C200.78,-74.63 193.02,-52.13 187.69,-36.7\"/>\n<polygon fill=\"black\" stroke=\"black\" points=\"203.2,-92.34 209.77,-100.65 209.81,-90.06 203.2,-92.34\"/>\n<text text-anchor=\"start\" x=\"208.3\" y=\"-76\" font-family=\"Times,serif\" font-size=\"10.00\">higher</text>\n<text text-anchor=\"start\" x=\"210.52\" y=\"-66\" font-family=\"Times,serif\" font-size=\"10.00\">order</text>\n<text text-anchor=\"start\" x=\"203.58\" y=\"-56\" font-family=\"Times,serif\" font-size=\"10.00\">behavior</text>\n</g>\n<!-- (&#39;antimicrobial efficacy ecoli&#39;, &#39;c&#39;, &#39;e&#39;, &#39;l&#39;, &#39;l&#39;, &#39;&lt;&#39;, &#39;b&#39;, &#39;r&#39;, &#39;/&#39;, &#39;&gt;&#39;, &#39;p&#39;, &#39;r&#39;, &#39;o&#39;, &#39;p&#39;, &#39;e&#39;, &#39;r&#39;, &#39;t&#39;, &#39;i&#39;, &#39;e&#39;, &#39;s&#39;)_output -->\n<!-- (&#39;antimicrobial efficacy ecoli&#39;, &#39;c&#39;, &#39;e&#39;, &#39;l&#39;, &#39;l&#39;, &#39;&lt;&#39;, &#39;b&#39;, &#39;r&#39;, &#39;/&#39;, &#39;&gt;&#39;, &#39;p&#39;, &#39;r&#39;, &#39;o&#39;, &#39;p&#39;, &#39;e&#39;, &#39;r&#39;, &#39;t&#39;, &#39;i&#39;, &#39;e&#39;, &#39;s&#39;)_output&#45;&gt;(&#39;antimicrobial efficacy ecoli&#39;,) -->\n<g id=\"edge5\" class=\"edge\">\n<title>(&#39;antimicrobial efficacy ecoli&#39;, &#39;c&#39;, &#39;e&#39;, &#39;l&#39;, &#39;l&#39;, &#39;&lt;&#39;, &#39;b&#39;, &#39;r&#39;, &#39;/&#39;, &#39;&gt;&#39;, &#39;p&#39;, &#39;r&#39;, &#39;o&#39;, &#39;p&#39;, &#39;e&#39;, &#39;r&#39;, &#39;t&#39;, &#39;i&#39;, &#39;e&#39;, &#39;s&#39;)_output&#45;&gt;(&#39;antimicrobial efficacy ecoli&#39;,)</title>\n<path fill=\"none\" stroke=\"black\" stroke-dasharray=\"5,2\" d=\"M264.68,-90.96C259.75,-78.85 252.45,-64.49 242.58,-54 236.39,-47.42 228.68,-41.72 220.85,-36.94\"/>\n<polygon fill=\"black\" stroke=\"black\" points=\"261.37,-92.11 268.15,-100.26 267.93,-89.66 261.37,-92.11\"/>\n<text text-anchor=\"start\" x=\"273.35\" y=\"-71\" font-family=\"Times,serif\" font-size=\"10.00\">cell</text>\n<text text-anchor=\"start\" x=\"260.58\" y=\"-61\" font-family=\"Times,serif\" font-size=\"10.00\">properties</text>\n</g>\n<!-- (&#39;antimicrobial efficacy ecoli&#39;, &#39;c&#39;, &#39;e&#39;, &#39;l&#39;, &#39;l&#39;, &#39;&lt;&#39;, &#39;b&#39;, &#39;r&#39;, &#39;/&#39;, &#39;&gt;&#39;, &#39;c&#39;, &#39;o&#39;, &#39;m&#39;, &#39;p&#39;, &#39;o&#39;, &#39;s&#39;, &#39;i&#39;, &#39;t&#39;, &#39;i&#39;, &#39;o&#39;, &#39;n&#39;)_output -->\n<!-- (&#39;antimicrobial efficacy ecoli&#39;, &#39;c&#39;, &#39;e&#39;, &#39;l&#39;, &#39;l&#39;, &#39;&lt;&#39;, &#39;b&#39;, &#39;r&#39;, &#39;/&#39;, &#39;&gt;&#39;, &#39;c&#39;, &#39;o&#39;, &#39;m&#39;, &#39;p&#39;, &#39;o&#39;, &#39;s&#39;, &#39;i&#39;, &#39;t&#39;, &#39;i&#39;, &#39;o&#39;, &#39;n&#39;)_output&#45;&gt;(&#39;antimicrobial efficacy ecoli&#39;,) -->\n<g id=\"edge6\" class=\"edge\">\n<title>(&#39;antimicrobial efficacy ecoli&#39;, &#39;c&#39;, &#39;e&#39;, &#39;l&#39;, &#39;l&#39;, &#39;&lt;&#39;, &#39;b&#39;, &#39;r&#39;, &#39;/&#39;, &#39;&gt;&#39;, &#39;c&#39;, &#39;o&#39;, &#39;m&#39;, &#39;p&#39;, &#39;o&#39;, &#39;s&#39;, &#39;i&#39;, &#39;t&#39;, &#39;i&#39;, &#39;o&#39;, &#39;n&#39;)_output&#45;&gt;(&#39;antimicrobial efficacy ecoli&#39;,)</title>\n<path fill=\"none\" stroke=\"black\" stroke-dasharray=\"5,2\" d=\"M328.56,-90.75C323.72,-78.17 316.04,-63.41 304.58,-54 289.56,-41.67 270.44,-33.68 251.78,-28.51\"/>\n<polygon fill=\"black\" stroke=\"black\" points=\"325.2,-91.74 331.75,-100.06 331.82,-89.47 325.2,-91.74\"/>\n<text text-anchor=\"start\" x=\"343.08\" y=\"-71\" font-family=\"Times,serif\" font-size=\"10.00\">cell</text>\n<text text-anchor=\"start\" x=\"325.58\" y=\"-61\" font-family=\"Times,serif\" font-size=\"10.00\">composition</text>\n</g>\n</g>\n</svg>\n",
      "text/plain": [
       "<graphviz.graphs.Digraph at 0x113293a00>"
      ]
     },
     "execution_count": 5,
     "metadata": {},
     "output_type": "execute_result"
    }
   ],
   "execution_count": 5
  },
  {
   "metadata": {},
   "cell_type": "markdown",
   "source": "## E. coli colony",
   "id": "13032731f892821b"
  },
  {
   "cell_type": "code",
   "id": "79e62719-bc44-4cfa-be89-3a4416b25664",
   "metadata": {
    "tags": [],
    "ExecuteTime": {
     "end_time": "2025-02-22T14:15:22.303034Z",
     "start_time": "2025-02-22T14:15:22.249106Z"
    }
   },
   "source": [
    "ecoli_schema = {\n",
    "    '_type': 'process',\n",
    "    'inputs': {'uptake': ['..', 'fields'],}}\n",
    "n_ecoli = 6\n",
    "\n",
    "ecoli_env = {\n",
    "    # 'environment': {\n",
    "        'cells': {\n",
    "            f'ecoli{n}': ecoli_schema for n in range(1, n_ecoli)\n",
    "        },\n",
    "        'fields': {},\n",
    "        'diffusion': {\n",
    "            '_type': 'process',\n",
    "            'inputs': {\n",
    "                '': ['fields',]\n",
    "            }\n",
    "        },\n",
    "        'mother<br/>machine': {\n",
    "            '_type': 'process',\n",
    "            'inputs': {\n",
    "                '': ['cells',]\n",
    "            }\n",
    "        }\n",
    "    # }\n",
    "}\n",
    "\n",
    "plot_settings3 = {\n",
    "    'rankdir': 'TB',\n",
    "    'port_labels': False,\n",
    "    'size': '10,10',\n",
    "    'node_groups': [\n",
    "        [['diffusion',], ['mother<br/>machine',], ['cells',], ['fields',],],\n",
    "        # [['environment', 'diffusion',], ['environment', 'mother<br/>machine',], ['environment', 'cells',], ['environment', 'fields',],],\n",
    "    ],\n",
    "}\n",
    "# ecoli_env = replace_regex_recursive[ecoli_env]\n",
    "plot_bigraph(ecoli_env,\n",
    "             **plot_settings,\n",
    "             **plot_settings3,\n",
    "             filename='ecoli_colony')"
   ],
   "outputs": [
    {
     "name": "stdout",
     "output_type": "stream",
     "text": [
      "Writing out/ecoli_colony\n"
     ]
    },
    {
     "data": {
      "image/svg+xml": "<?xml version=\"1.0\" encoding=\"UTF-8\" standalone=\"no\"?>\n<!DOCTYPE svg PUBLIC \"-//W3C//DTD SVG 1.1//EN\"\n \"http://www.w3.org/Graphics/SVG/1.1/DTD/svg11.dtd\">\n<!-- Generated by graphviz version 9.0.0 (0)\n -->\n<!-- Title: bigraph Pages: 1 -->\n<svg width=\"593pt\" height=\"241pt\"\n viewBox=\"0.00 0.00 427.31 173.49\" xmlns=\"http://www.w3.org/2000/svg\" xmlns:xlink=\"http://www.w3.org/1999/xlink\">\n<g id=\"graph0\" class=\"graph\" transform=\"scale(1.38889 1.38889) rotate(0) translate(4 169.49)\">\n<title>bigraph</title>\n<polygon fill=\"white\" stroke=\"none\" points=\"-4,4 -4,-169.49 423.31,-169.49 423.31,4 -4,4\"/>\n<!-- (&#39;cells&#39;,) -->\n<g id=\"node1\" class=\"node\">\n<title>(&#39;cells&#39;,)</title>\n<ellipse fill=\"none\" stroke=\"black\" stroke-width=\"2\" cx=\"134\" cy=\"-101.93\" rx=\"25.6\" ry=\"25.6\"/>\n<text text-anchor=\"start\" x=\"115.67\" y=\"-95.93\" font-family=\"Times,serif\" font-size=\"20.00\">cells</text>\n</g>\n<!-- (&#39;fields&#39;,) -->\n<g id=\"node2\" class=\"node\">\n<title>(&#39;fields&#39;,)</title>\n<ellipse fill=\"none\" stroke=\"black\" stroke-width=\"2\" cx=\"208\" cy=\"-101.93\" rx=\"29.93\" ry=\"29.93\"/>\n<text text-anchor=\"start\" x=\"186.33\" y=\"-95.93\" font-family=\"Times,serif\" font-size=\"20.00\">fields</text>\n</g>\n<!-- (&#39;cells&#39;,)&#45;&gt;(&#39;fields&#39;,) -->\n<!-- (&#39;cells&#39;, &#39;ecoli1&#39;) -->\n<g id=\"node3\" class=\"node\">\n<title>(&#39;cells&#39;, &#39;ecoli1&#39;)</title>\n<polygon fill=\"none\" stroke=\"black\" stroke-width=\"2\" points=\"342,-36 288,-36 288,0 342,0 342,-36\"/>\n<text text-anchor=\"start\" x=\"290.57\" y=\"-12\" font-family=\"Times,serif\" font-size=\"20.00\">ecoli1</text>\n</g>\n<!-- (&#39;cells&#39;,)&#45;&gt;(&#39;cells&#39;, &#39;ecoli1&#39;) -->\n<g id=\"edge1\" class=\"edge\">\n<title>(&#39;cells&#39;,)&#45;&gt;(&#39;cells&#39;, &#39;ecoli1&#39;)</title>\n<path fill=\"none\" stroke=\"black\" stroke-width=\"2\" d=\"M152.68,-83.33C157.71,-79.21 163.34,-75.12 169,-72 214.06,-47.18 231.2,-55.02 279,-36 281.7,-34.93 284.48,-33.75 287.24,-32.53\"/>\n</g>\n<!-- (&#39;cells&#39;, &#39;ecoli2&#39;) -->\n<g id=\"node4\" class=\"node\">\n<title>(&#39;cells&#39;, &#39;ecoli2&#39;)</title>\n<polygon fill=\"none\" stroke=\"black\" stroke-width=\"2\" points=\"54,-36 0,-36 0,0 54,0 54,-36\"/>\n<text text-anchor=\"start\" x=\"2.57\" y=\"-12\" font-family=\"Times,serif\" font-size=\"20.00\">ecoli2</text>\n</g>\n<!-- (&#39;cells&#39;,)&#45;&gt;(&#39;cells&#39;, &#39;ecoli2&#39;) -->\n<g id=\"edge2\" class=\"edge\">\n<title>(&#39;cells&#39;,)&#45;&gt;(&#39;cells&#39;, &#39;ecoli2&#39;)</title>\n<path fill=\"none\" stroke=\"black\" stroke-width=\"2\" d=\"M113.62,-85.33C95.55,-71.49 69.17,-51.29 50.28,-36.82\"/>\n</g>\n<!-- (&#39;cells&#39;, &#39;ecoli3&#39;) -->\n<g id=\"node5\" class=\"node\">\n<title>(&#39;cells&#39;, &#39;ecoli3&#39;)</title>\n<polygon fill=\"none\" stroke=\"black\" stroke-width=\"2\" points=\"126,-36 72,-36 72,0 126,0 126,-36\"/>\n<text text-anchor=\"start\" x=\"74.57\" y=\"-12\" font-family=\"Times,serif\" font-size=\"20.00\">ecoli3</text>\n</g>\n<!-- (&#39;cells&#39;,)&#45;&gt;(&#39;cells&#39;, &#39;ecoli3&#39;) -->\n<g id=\"edge3\" class=\"edge\">\n<title>(&#39;cells&#39;,)&#45;&gt;(&#39;cells&#39;, &#39;ecoli3&#39;)</title>\n<path fill=\"none\" stroke=\"black\" stroke-width=\"2\" d=\"M124.06,-77.67C118.53,-64.71 111.74,-48.82 106.62,-36.84\"/>\n</g>\n<!-- (&#39;cells&#39;, &#39;ecoli4&#39;) -->\n<g id=\"node6\" class=\"node\">\n<title>(&#39;cells&#39;, &#39;ecoli4&#39;)</title>\n<polygon fill=\"none\" stroke=\"black\" stroke-width=\"2\" points=\"198,-36 144,-36 144,0 198,0 198,-36\"/>\n<text text-anchor=\"start\" x=\"146.57\" y=\"-12\" font-family=\"Times,serif\" font-size=\"20.00\">ecoli4</text>\n</g>\n<!-- (&#39;cells&#39;,)&#45;&gt;(&#39;cells&#39;, &#39;ecoli4&#39;) -->\n<g id=\"edge4\" class=\"edge\">\n<title>(&#39;cells&#39;,)&#45;&gt;(&#39;cells&#39;, &#39;ecoli4&#39;)</title>\n<path fill=\"none\" stroke=\"black\" stroke-width=\"2\" d=\"M144.5,-77.67C150.36,-64.71 157.53,-48.82 162.94,-36.84\"/>\n</g>\n<!-- (&#39;cells&#39;, &#39;ecoli5&#39;) -->\n<g id=\"node7\" class=\"node\">\n<title>(&#39;cells&#39;, &#39;ecoli5&#39;)</title>\n<polygon fill=\"none\" stroke=\"black\" stroke-width=\"2\" points=\"270,-36 216,-36 216,0 270,0 270,-36\"/>\n<text text-anchor=\"start\" x=\"218.57\" y=\"-12\" font-family=\"Times,serif\" font-size=\"20.00\">ecoli5</text>\n</g>\n<!-- (&#39;cells&#39;,)&#45;&gt;(&#39;cells&#39;, &#39;ecoli5&#39;) -->\n<g id=\"edge5\" class=\"edge\">\n<title>(&#39;cells&#39;,)&#45;&gt;(&#39;cells&#39;, &#39;ecoli5&#39;)</title>\n<path fill=\"none\" stroke=\"black\" stroke-width=\"2\" d=\"M153.8,-84.17C158.71,-80.12 164,-75.85 169,-72 184.65,-59.95 202.66,-47.03 216.99,-36.96\"/>\n</g>\n<!-- (&#39;mother&lt;br/&gt;machine&#39;,) -->\n<g id=\"node9\" class=\"node\">\n<title>(&#39;mother&lt;br/&gt;machine&#39;,)</title>\n<polygon fill=\"none\" stroke=\"black\" stroke-width=\"2\" points=\"419.31,-123.37 348.69,-123.37 348.69,-80.49 419.31,-80.49 419.31,-123.37\"/>\n<text text-anchor=\"start\" x=\"355.67\" y=\"-105.93\" font-family=\"Times,serif\" font-size=\"20.00\">mother</text>\n<text text-anchor=\"start\" x=\"350.13\" y=\"-85.93\" font-family=\"Times,serif\" font-size=\"20.00\">machine</text>\n</g>\n<!-- (&#39;cells&#39;,)&#45;&gt;(&#39;mother&lt;br/&gt;machine&#39;,) -->\n<g id=\"edge12\" class=\"edge\">\n<title>(&#39;cells&#39;,)&#45;&gt;(&#39;mother&lt;br/&gt;machine&#39;,)</title>\n<path fill=\"none\" stroke=\"black\" stroke-dasharray=\"5,2\" d=\"M149.1,-123.5C155.98,-131.47 164.86,-139.6 175,-143.87 207.36,-157.48 299.95,-155.71 333,-143.87 344.44,-139.77 355.15,-131.87 363.77,-124.03\"/>\n</g>\n<!-- (&#39;fields&#39;,)&#45;&gt;(&#39;cells&#39;, &#39;ecoli1&#39;) -->\n<g id=\"edge6\" class=\"edge\">\n<title>(&#39;fields&#39;,)&#45;&gt;(&#39;cells&#39;, &#39;ecoli1&#39;)</title>\n<path fill=\"none\" stroke=\"black\" stroke-dasharray=\"5,2\" d=\"M232.01,-82.55C249.88,-68.86 274.13,-50.29 291.8,-36.76\"/>\n</g>\n<!-- (&#39;fields&#39;,)&#45;&gt;(&#39;cells&#39;, &#39;ecoli2&#39;) -->\n<g id=\"edge7\" class=\"edge\">\n<title>(&#39;fields&#39;,)&#45;&gt;(&#39;cells&#39;, &#39;ecoli2&#39;)</title>\n<path fill=\"none\" stroke=\"black\" stroke-dasharray=\"5,2\" d=\"M184.85,-81.95C179.81,-78.34 174.38,-74.82 169,-72 124.93,-48.9 109.13,-54.65 63,-36 60.31,-34.91 57.53,-33.72 54.77,-32.5\"/>\n</g>\n<!-- (&#39;fields&#39;,)&#45;&gt;(&#39;cells&#39;, &#39;ecoli3&#39;) -->\n<g id=\"edge8\" class=\"edge\">\n<title>(&#39;fields&#39;,)&#45;&gt;(&#39;cells&#39;, &#39;ecoli3&#39;)</title>\n<path fill=\"none\" stroke=\"black\" stroke-dasharray=\"5,2\" d=\"M183.81,-82.75C165.62,-69.08 140.83,-50.44 122.75,-36.85\"/>\n</g>\n<!-- (&#39;fields&#39;,)&#45;&gt;(&#39;cells&#39;, &#39;ecoli4&#39;) -->\n<g id=\"edge9\" class=\"edge\">\n<title>(&#39;fields&#39;,)&#45;&gt;(&#39;cells&#39;, &#39;ecoli4&#39;)</title>\n<path fill=\"none\" stroke=\"black\" stroke-dasharray=\"5,2\" d=\"M195.68,-73.65C190.21,-61.55 183.93,-47.64 179.08,-36.89\"/>\n</g>\n<!-- (&#39;fields&#39;,)&#45;&gt;(&#39;cells&#39;, &#39;ecoli5&#39;) -->\n<g id=\"edge10\" class=\"edge\">\n<title>(&#39;fields&#39;,)&#45;&gt;(&#39;cells&#39;, &#39;ecoli5&#39;)</title>\n<path fill=\"none\" stroke=\"black\" stroke-dasharray=\"5,2\" d=\"M219.65,-73.65C224.82,-61.55 230.76,-47.64 235.36,-36.89\"/>\n</g>\n<!-- (&#39;diffusion&#39;,) -->\n<g id=\"node8\" class=\"node\">\n<title>(&#39;diffusion&#39;,)</title>\n<polygon fill=\"none\" stroke=\"black\" stroke-width=\"2\" points=\"330.37,-119.93 255.63,-119.93 255.63,-83.93 330.37,-83.93 330.37,-119.93\"/>\n<text text-anchor=\"start\" x=\"257.07\" y=\"-95.93\" font-family=\"Times,serif\" font-size=\"20.00\">diffusion</text>\n</g>\n<!-- (&#39;fields&#39;,)&#45;&gt;(&#39;diffusion&#39;,) -->\n<g id=\"edge11\" class=\"edge\">\n<title>(&#39;fields&#39;,)&#45;&gt;(&#39;diffusion&#39;,)</title>\n<path fill=\"none\" stroke=\"black\" stroke-dasharray=\"5,2\" d=\"M238.88,-101.93C244.23,-101.93 249.59,-101.93 254.95,-101.93\"/>\n</g>\n<!-- (&#39;diffusion&#39;,)&#45;&gt;(&#39;mother&lt;br/&gt;machine&#39;,) -->\n<!-- (&#39;mother&lt;br/&gt;machine&#39;,)&#45;&gt;(&#39;cells&#39;,) -->\n</g>\n</svg>\n",
      "text/plain": [
       "<graphviz.graphs.Digraph at 0x1074a4ac0>"
      ]
     },
     "execution_count": 6,
     "metadata": {},
     "output_type": "execute_result"
    }
   ],
   "execution_count": 6
  },
  {
   "metadata": {},
   "cell_type": "markdown",
   "source": "## E. coli with ML components",
   "id": "1ffbfdb8ca503f47"
  },
  {
   "metadata": {
    "ExecuteTime": {
     "end_time": "2025-02-22T14:15:22.366036Z",
     "start_time": "2025-02-22T14:15:22.308967Z"
    }
   },
   "cell_type": "code",
   "source": [
    "ml_ecoli = {\n",
    "    'ML_model': {\n",
    "        '_type': 'process',\n",
    "        'inputs': {\n",
    "            'training_data': ['data'],  # Experimental or simulated data for training\n",
    "            'model_checkpoint': ['model'],  # Saved model state for inference or fine-tuning\n",
    "            'hyperparameters': ['parameters'],  # Learning rate, architecture, etc.\n",
    "            'mechanistic_predictions': ['mechanistic_outputs'],  # Feedback from mechanistic model\n",
    "        },\n",
    "        'outputs': {\n",
    "            'learned_parameters': ['parameters'],  # Tuned parameters for mechanistic model\n",
    "            'predictions': ['ml_predictions'],  # Forecasted states or outputs\n",
    "            'uncertainty_estimates': ['ml_uncertainty'],  # Confidence in predictions\n",
    "            'feature_importance': ['ml_features'],  # Key inputs influencing predictions\n",
    "        }\n",
    "    },\n",
    "    'mechanistic_model': {\n",
    "        '_type': 'process',\n",
    "        'inputs': {\n",
    "            'initial_conditions': ['state'],  # Initial biochemical states\n",
    "            'environmental_inputs': ['env_conditions'],  # Temperature, nutrients, etc.\n",
    "            'parameters': ['parameters'],  # Updated parameters from ML module\n",
    "            'ml_predictions': ['ml_predictions'],  # Predictions as potential constraints or priors\n",
    "        },\n",
    "        'outputs': {\n",
    "            'simulation_results': ['mechanistic_outputs'],  # Time-series of biochemical states\n",
    "            'constraint_violations': ['mechanistic_feedback'],  # Identified inconsistencies\n",
    "            'sensitivity_analysis': ['mechanistic_sensitivity'],  # Impact of parameters on results\n",
    "        }\n",
    "    },\n",
    "    'data_integration': {\n",
    "        '_type': 'process',\n",
    "        'inputs': {\n",
    "            'experimental_data': ['raw_data'],  # Direct observations from experiments\n",
    "            'simulation_results': ['mechanistic_outputs'],  # Mechanistic model outputs\n",
    "            'ml_predictions': ['ml_predictions'],  # ML-generated outputs\n",
    "        },\n",
    "        'outputs': {\n",
    "            'processed_data': ['data'],  # Cleaned and formatted dataset\n",
    "            'performance_metrics': ['evaluation'],  # Model performance comparison\n",
    "        }\n",
    "    }\n",
    "}\n",
    "\n",
    "\n",
    "plot_settings4 = {}\n",
    "plot_bigraph(ml_ecoli,\n",
    "             **plot_settings,\n",
    "             **plot_settings4,\n",
    "             filename='ml_ecoli')"
   ],
   "id": "28fa6d73a4e3474f",
   "outputs": [
    {
     "name": "stdout",
     "output_type": "stream",
     "text": [
      "Writing out/ml_ecoli\n"
     ]
    },
    {
     "data": {
      "image/svg+xml": "<?xml version=\"1.0\" encoding=\"UTF-8\" standalone=\"no\"?>\n<!DOCTYPE svg PUBLIC \"-//W3C//DTD SVG 1.1//EN\"\n \"http://www.w3.org/Graphics/SVG/1.1/DTD/svg11.dtd\">\n<!-- Generated by graphviz version 9.0.0 (0)\n -->\n<!-- Title: bigraph Pages: 1 -->\n<svg width=\"1600pt\" height=\"224pt\"\n viewBox=\"0.00 0.00 1152.00 160.98\" xmlns=\"http://www.w3.org/2000/svg\" xmlns:xlink=\"http://www.w3.org/1999/xlink\">\n<g id=\"graph0\" class=\"graph\" transform=\"scale(0.659716 0.659716) rotate(0) translate(4 334.9)\">\n<title>bigraph</title>\n<polygon fill=\"white\" stroke=\"none\" points=\"-4,4 -4,-334.9 2421.28,-334.9 2421.28,4 -4,4\"/>\n<!-- (&#39;data&#39;,) -->\n<g id=\"node1\" class=\"node\">\n<title>(&#39;data&#39;,)</title>\n<ellipse fill=\"none\" stroke=\"black\" stroke-width=\"2\" cx=\"512.28\" cy=\"-207.45\" rx=\"23.44\" ry=\"23.44\"/>\n<text text-anchor=\"start\" x=\"495.62\" y=\"-201.45\" font-family=\"Times,serif\" font-size=\"20.00\">data</text>\n</g>\n<!-- (&#39;ML_model&#39;,) -->\n<g id=\"node14\" class=\"node\">\n<title>(&#39;ML_model&#39;,)</title>\n<polygon fill=\"none\" stroke=\"black\" stroke-width=\"2\" points=\"606.71,-36 513.84,-36 513.84,0 606.71,0 606.71,-36\"/>\n<text text-anchor=\"start\" x=\"515.28\" y=\"-12\" font-family=\"Times,serif\" font-size=\"20.00\">ML_model</text>\n</g>\n<!-- (&#39;data&#39;,)&#45;&gt;(&#39;ML_model&#39;,) -->\n<g id=\"edge2\" class=\"edge\">\n<title>(&#39;data&#39;,)&#45;&gt;(&#39;ML_model&#39;,)</title>\n<path fill=\"none\" stroke=\"black\" stroke-dasharray=\"5,2\" d=\"M498.04,-187.94C476.51,-157.53 441.09,-96.15 469.96,-54 479.85,-39.57 496.6,-31.09 513.02,-26.1\"/>\n<text text-anchor=\"start\" x=\"469.28\" y=\"-56.4\" font-family=\"Times,serif\" font-size=\"12.00\">training_data</text>\n</g>\n<!-- (&#39;data_integration&#39;,) -->\n<g id=\"node16\" class=\"node\">\n<title>(&#39;data_integration&#39;,)</title>\n<polygon fill=\"none\" stroke=\"black\" stroke-width=\"2\" points=\"1279.69,-36 1146.86,-36 1146.86,0 1279.69,0 1279.69,-36\"/>\n<text text-anchor=\"start\" x=\"1148.3\" y=\"-12\" font-family=\"Times,serif\" font-size=\"20.00\">data_integration</text>\n</g>\n<!-- (&#39;data&#39;,)&#45;&gt;(&#39;data_integration&#39;,) -->\n<g id=\"edge20\" class=\"edge\">\n<title>(&#39;data&#39;,)&#45;&gt;(&#39;data_integration&#39;,)</title>\n<path fill=\"none\" stroke=\"black\" stroke-dasharray=\"5,2\" d=\"M510.63,-183.21C509.64,-148.9 513.52,-85.39 551.97,-54 574.72,-35.44 982.13,-24.22 1145.92,-20.44\"/>\n<text text-anchor=\"start\" x=\"551.28\" y=\"-56.4\" font-family=\"Times,serif\" font-size=\"12.00\">processed_data</text>\n</g>\n<!-- (&#39;model&#39;,) -->\n<g id=\"node2\" class=\"node\">\n<title>(&#39;model&#39;,)</title>\n<ellipse fill=\"none\" stroke=\"black\" stroke-width=\"2\" cx=\"357.28\" cy=\"-207.45\" rx=\"34.24\" ry=\"34.24\"/>\n<text text-anchor=\"start\" x=\"332.28\" y=\"-201.45\" font-family=\"Times,serif\" font-size=\"20.00\">model</text>\n</g>\n<!-- (&#39;model&#39;,)&#45;&gt;(&#39;ML_model&#39;,) -->\n<g id=\"edge1\" class=\"edge\">\n<title>(&#39;model&#39;,)&#45;&gt;(&#39;ML_model&#39;,)</title>\n<path fill=\"none\" stroke=\"black\" stroke-dasharray=\"5,2\" d=\"M349.7,-173.08C344.04,-138.76 341.59,-85.95 370.63,-54 389.27,-33.5 463.07,-24.88 512.92,-21.34\"/>\n<text text-anchor=\"start\" x=\"370.28\" y=\"-56.4\" font-family=\"Times,serif\" font-size=\"12.00\">model_checkpoint</text>\n</g>\n<!-- (&#39;parameters&#39;,) -->\n<g id=\"node3\" class=\"node\">\n<title>(&#39;parameters&#39;,)</title>\n<ellipse fill=\"none\" stroke=\"black\" stroke-width=\"2\" cx=\"768.28\" cy=\"-207.45\" rx=\"58.68\" ry=\"58.68\"/>\n<text text-anchor=\"start\" x=\"724.41\" y=\"-201.45\" font-family=\"Times,serif\" font-size=\"20.00\">parameters</text>\n</g>\n<!-- (&#39;parameters&#39;,)&#45;&gt;(&#39;ML_model&#39;,) -->\n<g id=\"edge3\" class=\"edge\">\n<title>(&#39;parameters&#39;,)&#45;&gt;(&#39;ML_model&#39;,)</title>\n<path fill=\"none\" stroke=\"black\" stroke-dasharray=\"5,2\" d=\"M775.04,-148.39C775.41,-116.53 769.86,-78.62 746.28,-54 727.58,-34.49 656.11,-25.6 607.41,-21.74\"/>\n<text text-anchor=\"start\" x=\"753.28\" y=\"-56.4\" font-family=\"Times,serif\" font-size=\"12.00\">hyperparameters</text>\n</g>\n<!-- (&#39;parameters&#39;,)&#45;&gt;(&#39;ML_model&#39;,) -->\n<g id=\"edge12\" class=\"edge\">\n<title>(&#39;parameters&#39;,)&#45;&gt;(&#39;ML_model&#39;,)</title>\n<path fill=\"none\" stroke=\"black\" stroke-dasharray=\"5,2\" d=\"M733.1,-159.62C707.01,-127.11 669.18,-84.37 629.28,-54 620.83,-47.57 611.03,-41.78 601.51,-36.84\"/>\n<text text-anchor=\"start\" x=\"642.28\" y=\"-56.4\" font-family=\"Times,serif\" font-size=\"12.00\">learned_parameters</text>\n</g>\n<!-- (&#39;mechanistic_model&#39;,) -->\n<g id=\"node15\" class=\"node\">\n<title>(&#39;mechanistic_model&#39;,)</title>\n<polygon fill=\"none\" stroke=\"black\" stroke-width=\"2\" points=\"1891.47,-36 1733.08,-36 1733.08,0 1891.47,0 1891.47,-36\"/>\n<text text-anchor=\"start\" x=\"1734.52\" y=\"-12\" font-family=\"Times,serif\" font-size=\"20.00\">mechanistic_model</text>\n</g>\n<!-- (&#39;parameters&#39;,)&#45;&gt;(&#39;mechanistic_model&#39;,) -->\n<g id=\"edge6\" class=\"edge\">\n<title>(&#39;parameters&#39;,)&#45;&gt;(&#39;mechanistic_model&#39;,)</title>\n<path fill=\"none\" stroke=\"black\" stroke-dasharray=\"5,2\" d=\"M788.83,-151.68C804.92,-117.16 830.95,-75.22 868.64,-54 878.01,-48.72 1506.24,-28.58 1732.33,-21.49\"/>\n<text text-anchor=\"start\" x=\"868.28\" y=\"-56.4\" font-family=\"Times,serif\" font-size=\"12.00\">parameters</text>\n</g>\n<!-- (&#39;mechanistic_outputs&#39;,) -->\n<g id=\"node4\" class=\"node\">\n<title>(&#39;mechanistic_outputs&#39;,)</title>\n<ellipse fill=\"none\" stroke=\"black\" stroke-width=\"2\" cx=\"1543.28\" cy=\"-207.45\" rx=\"108.34\" ry=\"108.34\"/>\n<text text-anchor=\"start\" x=\"1461.07\" y=\"-201.45\" font-family=\"Times,serif\" font-size=\"20.00\">mechanistic_outputs</text>\n</g>\n<!-- (&#39;mechanistic_outputs&#39;,)&#45;&gt;(&#39;ML_model&#39;,) -->\n<g id=\"edge4\" class=\"edge\">\n<title>(&#39;mechanistic_outputs&#39;,)&#45;&gt;(&#39;ML_model&#39;,)</title>\n<path fill=\"none\" stroke=\"black\" stroke-dasharray=\"5,2\" d=\"M1487.07,-114.19C1467.76,-90.39 1443.92,-67.65 1416.28,-54 1398.02,-44.99 784.55,-25.78 607.61,-20.42\"/>\n<text text-anchor=\"start\" x=\"1434.28\" y=\"-56.4\" font-family=\"Times,serif\" font-size=\"12.00\">mechanistic_predictions</text>\n</g>\n<!-- (&#39;mechanistic_outputs&#39;,)&#45;&gt;(&#39;mechanistic_model&#39;,) -->\n<g id=\"edge18\" class=\"edge\">\n<title>(&#39;mechanistic_outputs&#39;,)&#45;&gt;(&#39;mechanistic_model&#39;,)</title>\n<path fill=\"none\" stroke=\"black\" stroke-dasharray=\"5,2\" d=\"M1614.69,-124.88C1629.08,-110.47 1644.62,-96.19 1660.28,-84 1681.63,-67.37 1688.65,-65.22 1713.28,-54 1726.88,-47.8 1741.93,-41.99 1756.1,-36.94\"/>\n<text text-anchor=\"start\" x=\"1713.28\" y=\"-56.4\" font-family=\"Times,serif\" font-size=\"12.00\">simulation_results</text>\n</g>\n<!-- (&#39;mechanistic_outputs&#39;,)&#45;&gt;(&#39;data_integration&#39;,) -->\n<g id=\"edge11\" class=\"edge\">\n<title>(&#39;mechanistic_outputs&#39;,)&#45;&gt;(&#39;data_integration&#39;,)</title>\n<path fill=\"none\" stroke=\"black\" stroke-dasharray=\"5,2\" d=\"M1583.52,-105.97C1584.99,-86.88 1581.33,-68.41 1568.28,-54 1549.35,-33.12 1377.91,-24.24 1280.37,-20.85\"/>\n<text text-anchor=\"start\" x=\"1575.28\" y=\"-56.4\" font-family=\"Times,serif\" font-size=\"12.00\">simulation_results</text>\n</g>\n<!-- (&#39;ml_predictions&#39;,) -->\n<g id=\"node5\" class=\"node\">\n<title>(&#39;ml_predictions&#39;,)</title>\n<ellipse fill=\"none\" stroke=\"black\" stroke-width=\"2\" cx=\"1023.28\" cy=\"-207.45\" rx=\"79.57\" ry=\"79.57\"/>\n<text text-anchor=\"start\" x=\"963.29\" y=\"-201.45\" font-family=\"Times,serif\" font-size=\"20.00\">ml_predictions</text>\n</g>\n<!-- (&#39;ml_predictions&#39;,)&#45;&gt;(&#39;ML_model&#39;,) -->\n<g id=\"edge15\" class=\"edge\">\n<title>(&#39;ml_predictions&#39;,)&#45;&gt;(&#39;ML_model&#39;,)</title>\n<path fill=\"none\" stroke=\"black\" stroke-dasharray=\"5,2\" d=\"M993.48,-133.03C977.68,-103.54 955.23,-72.26 925.28,-54 873.1,-22.19 693.87,-18.41 607.52,-18.5\"/>\n<text text-anchor=\"start\" x=\"940.28\" y=\"-56.4\" font-family=\"Times,serif\" font-size=\"12.00\">predictions</text>\n</g>\n<!-- (&#39;ml_predictions&#39;,)&#45;&gt;(&#39;mechanistic_model&#39;,) -->\n<g id=\"edge8\" class=\"edge\">\n<title>(&#39;ml_predictions&#39;,)&#45;&gt;(&#39;mechanistic_model&#39;,)</title>\n<path fill=\"none\" stroke=\"black\" stroke-dasharray=\"5,2\" d=\"M1057.53,-134.96C1076.06,-104.51 1102.04,-71.92 1135.29,-54 1161.15,-40.06 1558.82,-26.56 1732.33,-21.31\"/>\n<text text-anchor=\"start\" x=\"1135.28\" y=\"-56.4\" font-family=\"Times,serif\" font-size=\"12.00\">ml_predictions</text>\n</g>\n<!-- (&#39;ml_predictions&#39;,)&#45;&gt;(&#39;data_integration&#39;,) -->\n<g id=\"edge10\" class=\"edge\">\n<title>(&#39;ml_predictions&#39;,)&#45;&gt;(&#39;data_integration&#39;,)</title>\n<path fill=\"none\" stroke=\"black\" stroke-dasharray=\"5,2\" d=\"M1005.06,-129.01C1003.35,-102.55 1007.12,-74.5 1024.29,-54 1039.82,-35.45 1098.39,-26.69 1146.26,-22.57\"/>\n<text text-anchor=\"start\" x=\"1024.28\" y=\"-56.4\" font-family=\"Times,serif\" font-size=\"12.00\">ml_predictions</text>\n</g>\n<!-- (&#39;ml_uncertainty&#39;,) -->\n<g id=\"node6\" class=\"node\">\n<title>(&#39;ml_uncertainty&#39;,)</title>\n<ellipse fill=\"none\" stroke=\"black\" stroke-width=\"2\" cx=\"80.28\" cy=\"-207.45\" rx=\"80.28\" ry=\"80.28\"/>\n<text text-anchor=\"start\" x=\"19.74\" y=\"-201.45\" font-family=\"Times,serif\" font-size=\"20.00\">ml_uncertainty</text>\n</g>\n<!-- (&#39;ml_uncertainty&#39;,)&#45;&gt;(&#39;ML_model&#39;,) -->\n<g id=\"edge14\" class=\"edge\">\n<title>(&#39;ml_uncertainty&#39;,)&#45;&gt;(&#39;ML_model&#39;,)</title>\n<path fill=\"none\" stroke=\"black\" stroke-dasharray=\"5,2\" d=\"M97.12,-128.32C107.13,-100.46 122.91,-71.65 147.64,-54 176.84,-33.18 411.12,-23.55 513.12,-20.32\"/>\n<text text-anchor=\"start\" x=\"147.28\" y=\"-56.4\" font-family=\"Times,serif\" font-size=\"12.00\">uncertainty_estimates</text>\n</g>\n<!-- (&#39;ml_features&#39;,) -->\n<g id=\"node7\" class=\"node\">\n<title>(&#39;ml_features&#39;,)</title>\n<ellipse fill=\"none\" stroke=\"black\" stroke-width=\"2\" cx=\"241.28\" cy=\"-207.45\" rx=\"63\" ry=\"63\"/>\n<text text-anchor=\"start\" x=\"194.07\" y=\"-201.45\" font-family=\"Times,serif\" font-size=\"20.00\">ml_features</text>\n</g>\n<!-- (&#39;ml_features&#39;,)&#45;&gt;(&#39;ML_model&#39;,) -->\n<g id=\"edge13\" class=\"edge\">\n<title>(&#39;ml_features&#39;,)&#45;&gt;(&#39;ML_model&#39;,)</title>\n<path fill=\"none\" stroke=\"black\" stroke-dasharray=\"5,2\" d=\"M234.63,-143.9C234.93,-112.66 241.37,-76.78 264.99,-54 282.48,-37.14 433.92,-26.15 512.85,-21.51\"/>\n<text text-anchor=\"start\" x=\"264.28\" y=\"-56.4\" font-family=\"Times,serif\" font-size=\"12.00\">feature_importance</text>\n</g>\n<!-- (&#39;state&#39;,) -->\n<g id=\"node8\" class=\"node\">\n<title>(&#39;state&#39;,)</title>\n<ellipse fill=\"none\" stroke=\"black\" stroke-width=\"2\" cx=\"2211.28\" cy=\"-207.45\" rx=\"25.6\" ry=\"25.6\"/>\n<text text-anchor=\"start\" x=\"2192.95\" y=\"-201.45\" font-family=\"Times,serif\" font-size=\"20.00\">state</text>\n</g>\n<!-- (&#39;state&#39;,)&#45;&gt;(&#39;mechanistic_model&#39;,) -->\n<g id=\"edge5\" class=\"edge\">\n<title>(&#39;state&#39;,)&#45;&gt;(&#39;mechanistic_model&#39;,)</title>\n<path fill=\"none\" stroke=\"black\" stroke-dasharray=\"5,2\" d=\"M2211.36,-180.9C2210,-152.95 2203.31,-108.83 2176.28,-84 2135.8,-46.82 1986.59,-30.29 1892.23,-23.43\"/>\n<text text-anchor=\"start\" x=\"2144.28\" y=\"-56.4\" font-family=\"Times,serif\" font-size=\"12.00\">initial_conditions</text>\n</g>\n<!-- (&#39;env_conditions&#39;,) -->\n<g id=\"node9\" class=\"node\">\n<title>(&#39;env_conditions&#39;,)</title>\n<ellipse fill=\"none\" stroke=\"black\" stroke-width=\"2\" cx=\"2336.28\" cy=\"-207.45\" rx=\"81.01\" ry=\"81.01\"/>\n<text text-anchor=\"start\" x=\"2275.17\" y=\"-201.45\" font-family=\"Times,serif\" font-size=\"20.00\">env_conditions</text>\n</g>\n<!-- (&#39;env_conditions&#39;,)&#45;&gt;(&#39;mechanistic_model&#39;,) -->\n<g id=\"edge7\" class=\"edge\">\n<title>(&#39;env_conditions&#39;,)&#45;&gt;(&#39;mechanistic_model&#39;,)</title>\n<path fill=\"none\" stroke=\"black\" stroke-dasharray=\"5,2\" d=\"M2303.55,-132.36C2286.64,-102.95 2263,-71.91 2232.28,-54 2203.71,-37.35 2006.11,-26.77 1892.41,-21.98\"/>\n<text text-anchor=\"start\" x=\"2248.28\" y=\"-56.4\" font-family=\"Times,serif\" font-size=\"12.00\">environmental_inputs</text>\n</g>\n<!-- (&#39;mechanistic_feedback&#39;,) -->\n<g id=\"node10\" class=\"node\">\n<title>(&#39;mechanistic_feedback&#39;,)</title>\n<ellipse fill=\"none\" stroke=\"black\" stroke-width=\"2\" cx=\"1786.28\" cy=\"-207.45\" rx=\"116.94\" ry=\"116.94\"/>\n<text text-anchor=\"start\" x=\"1697.43\" y=\"-201.45\" font-family=\"Times,serif\" font-size=\"20.00\">mechanistic_feedback</text>\n</g>\n<!-- (&#39;mechanistic_feedback&#39;,)&#45;&gt;(&#39;mechanistic_model&#39;,) -->\n<g id=\"edge17\" class=\"edge\">\n<title>(&#39;mechanistic_feedback&#39;,)&#45;&gt;(&#39;mechanistic_model&#39;,)</title>\n<path fill=\"none\" stroke=\"black\" stroke-dasharray=\"5,2\" d=\"M1802.33,-90.67C1805.25,-69.64 1807.95,-50.17 1809.8,-36.85\"/>\n<text text-anchor=\"start\" x=\"1807.28\" y=\"-56.4\" font-family=\"Times,serif\" font-size=\"12.00\">constraint_violations</text>\n</g>\n<!-- (&#39;mechanistic_sensitivity&#39;,) -->\n<g id=\"node11\" class=\"node\">\n<title>(&#39;mechanistic_sensitivity&#39;,)</title>\n<ellipse fill=\"none\" stroke=\"black\" stroke-width=\"2\" cx=\"2044.28\" cy=\"-207.45\" rx=\"123.45\" ry=\"123.45\"/>\n<text text-anchor=\"start\" x=\"1950.4\" y=\"-201.45\" font-family=\"Times,serif\" font-size=\"20.00\">mechanistic_sensitivity</text>\n</g>\n<!-- (&#39;mechanistic_sensitivity&#39;,)&#45;&gt;(&#39;mechanistic_model&#39;,) -->\n<g id=\"edge16\" class=\"edge\">\n<title>(&#39;mechanistic_sensitivity&#39;,)&#45;&gt;(&#39;mechanistic_model&#39;,)</title>\n<path fill=\"none\" stroke=\"black\" stroke-dasharray=\"5,2\" d=\"M1971.48,-106.93C1953.77,-87.44 1933.7,-68.56 1912.28,-54 1902.23,-47.18 1890.72,-41.54 1879.17,-36.94\"/>\n<text text-anchor=\"start\" x=\"1925.28\" y=\"-56.4\" font-family=\"Times,serif\" font-size=\"12.00\">sensitivity_analysis</text>\n</g>\n<!-- (&#39;raw_data&#39;,) -->\n<g id=\"node12\" class=\"node\">\n<title>(&#39;raw_data&#39;,)</title>\n<ellipse fill=\"none\" stroke=\"black\" stroke-width=\"2\" cx=\"1207.28\" cy=\"-207.45\" rx=\"49.33\" ry=\"49.33\"/>\n<text text-anchor=\"start\" x=\"1170.63\" y=\"-201.45\" font-family=\"Times,serif\" font-size=\"20.00\">raw_data</text>\n</g>\n<!-- (&#39;raw_data&#39;,)&#45;&gt;(&#39;data_integration&#39;,) -->\n<g id=\"edge9\" class=\"edge\">\n<title>(&#39;raw_data&#39;,)&#45;&gt;(&#39;data_integration&#39;,)</title>\n<path fill=\"none\" stroke=\"black\" stroke-dasharray=\"5,2\" d=\"M1208.85,-157.2C1210.12,-117.5 1211.84,-63.94 1212.71,-36.62\"/>\n<text text-anchor=\"start\" x=\"1211.28\" y=\"-56.4\" font-family=\"Times,serif\" font-size=\"12.00\">experimental_data</text>\n</g>\n<!-- (&#39;evaluation&#39;,) -->\n<g id=\"node13\" class=\"node\">\n<title>(&#39;evaluation&#39;,)</title>\n<ellipse fill=\"none\" stroke=\"black\" stroke-width=\"2\" cx=\"1330.28\" cy=\"-207.45\" rx=\"55.81\" ry=\"55.81\"/>\n<text text-anchor=\"start\" x=\"1288.63\" y=\"-201.45\" font-family=\"Times,serif\" font-size=\"20.00\">evaluation</text>\n</g>\n<!-- (&#39;evaluation&#39;,)&#45;&gt;(&#39;data_integration&#39;,) -->\n<g id=\"edge19\" class=\"edge\">\n<title>(&#39;evaluation&#39;,)&#45;&gt;(&#39;data_integration&#39;,)</title>\n<path fill=\"none\" stroke=\"black\" stroke-dasharray=\"5,2\" d=\"M1333.18,-150.9C1331.97,-119.3 1325.28,-80.8 1303.28,-54 1297.1,-46.49 1289.11,-40.58 1280.43,-35.94\"/>\n<text text-anchor=\"start\" x=\"1310.28\" y=\"-56.4\" font-family=\"Times,serif\" font-size=\"12.00\">performance_metrics</text>\n</g>\n</g>\n</svg>\n",
      "text/plain": [
       "<graphviz.graphs.Digraph at 0x113299400>"
      ]
     },
     "execution_count": 7,
     "metadata": {},
     "output_type": "execute_result"
    }
   ],
   "execution_count": 7
  },
  {
   "cell_type": "code",
   "id": "81c49429-4d71-46a6-8374-114becb9d4b7",
   "metadata": {
    "tags": [],
    "ExecuteTime": {
     "end_time": "2025-02-22T14:15:22.428164Z",
     "start_time": "2025-02-22T14:15:22.373133Z"
    }
   },
   "source": [
    "comp = {\n",
    "    'stochastic transcription': {\n",
    "        '_type': 'process',\n",
    "        'inputs': {\n",
    "            'DNA': ['DNA [counts]'],\n",
    "            'RNA': ['RNA [counts]'],\n",
    "        }\n",
    "    },\n",
    "    'counts to mg/mL': {\n",
    "        '_type': 'process',\n",
    "        'inputs': {\n",
    "            'RNA_counts': ['RNA [counts]'],\n",
    "            'RNA_concs': ['RNA [mg/mL]'],\n",
    "            'volume': ['volume'],\n",
    "        }\n",
    "    },\n",
    "    'deterministic translation': {\n",
    "        '_type': 'process',\n",
    "        'inputs': {\n",
    "            'RNA': ['RNA [mg/mL]'],\n",
    "            'Protein': ['Protein [mg/mL]'],\n",
    "        }\n",
    "    },\n",
    "    'DNA [counts]': {},\n",
    "    'RNA [counts]': {},\n",
    "    'RNA [mg/mL]': {},\n",
    "    'Protein [mg/mL]': {},\n",
    "    'volume': {},\n",
    "}\n",
    "\n",
    "plot_settings3 = {\n",
    "    **plot_settings,\n",
    "    'remove_process_place_edges': True,\n",
    "    'rankdir': 'BT',\n",
    "    'port_labels': False,\n",
    "}\n",
    "plot_bigraph(comp, **plot_settings3, filename='comp')\n"
   ],
   "outputs": [
    {
     "name": "stdout",
     "output_type": "stream",
     "text": [
      "Writing out/comp\n"
     ]
    },
    {
     "data": {
      "image/svg+xml": "<?xml version=\"1.0\" encoding=\"UTF-8\" standalone=\"no\"?>\n<!DOCTYPE svg PUBLIC \"-//W3C//DTD SVG 1.1//EN\"\n \"http://www.w3.org/Graphics/SVG/1.1/DTD/svg11.dtd\">\n<!-- Generated by graphviz version 9.0.0 (0)\n -->\n<!-- Title: bigraph Pages: 1 -->\n<svg width=\"1104pt\" height=\"359pt\"\n viewBox=\"0.00 0.00 795.18 258.56\" xmlns=\"http://www.w3.org/2000/svg\" xmlns:xlink=\"http://www.w3.org/1999/xlink\">\n<g id=\"graph0\" class=\"graph\" transform=\"scale(1.38889 1.38889) rotate(0) translate(4 254.56)\">\n<title>bigraph</title>\n<polygon fill=\"white\" stroke=\"none\" points=\"-4,4 -4,-254.56 791.18,-254.56 791.18,4 -4,4\"/>\n<!-- (&#39;DNA [counts]&#39;,) -->\n<g id=\"node1\" class=\"node\">\n<title>(&#39;DNA [counts]&#39;,)</title>\n<ellipse fill=\"none\" stroke=\"black\" stroke-width=\"2\" cx=\"74.9\" cy=\"-89.28\" rx=\"74.9\" ry=\"74.9\"/>\n<text text-anchor=\"start\" x=\"18.51\" y=\"-83.28\" font-family=\"Times,serif\" font-size=\"20.00\">DNA [counts]</text>\n</g>\n<!-- (&#39;stochastic transcription&#39;,) -->\n<g id=\"node6\" class=\"node\">\n<title>(&#39;stochastic transcription&#39;,)</title>\n<polygon fill=\"none\" stroke=\"black\" stroke-width=\"2\" points=\"227.82,-250.56 39.98,-250.56 39.98,-214.56 227.82,-214.56 227.82,-250.56\"/>\n<text text-anchor=\"start\" x=\"41.42\" y=\"-226.56\" font-family=\"Times,serif\" font-size=\"20.00\">stochastic transcription</text>\n</g>\n<!-- (&#39;DNA [counts]&#39;,)&#45;&gt;(&#39;stochastic transcription&#39;,) -->\n<g id=\"edge2\" class=\"edge\">\n<title>(&#39;DNA [counts]&#39;,)&#45;&gt;(&#39;stochastic transcription&#39;,)</title>\n<path fill=\"none\" stroke=\"black\" stroke-dasharray=\"5,2\" d=\"M103.71,-159.27C112.13,-179.44 120.63,-199.79 126.46,-213.74\"/>\n</g>\n<!-- (&#39;RNA [counts]&#39;,) -->\n<g id=\"node2\" class=\"node\">\n<title>(&#39;RNA [counts]&#39;,)</title>\n<ellipse fill=\"none\" stroke=\"black\" stroke-width=\"2\" cx=\"241.9\" cy=\"-89.28\" rx=\"74.19\" ry=\"74.19\"/>\n<text text-anchor=\"start\" x=\"186.06\" y=\"-83.28\" font-family=\"Times,serif\" font-size=\"20.00\">RNA [counts]</text>\n</g>\n<!-- (&#39;RNA [counts]&#39;,)&#45;&gt;(&#39;stochastic transcription&#39;,) -->\n<g id=\"edge1\" class=\"edge\">\n<title>(&#39;RNA [counts]&#39;,)&#45;&gt;(&#39;stochastic transcription&#39;,)</title>\n<path fill=\"none\" stroke=\"black\" stroke-dasharray=\"5,2\" d=\"M196.72,-149.38C179.04,-172.52 160.05,-197.35 147.64,-213.59\"/>\n</g>\n<!-- (&#39;counts to mg/mL&#39;,) -->\n<g id=\"node7\" class=\"node\">\n<title>(&#39;counts to mg/mL&#39;,)</title>\n<polygon fill=\"none\" stroke=\"black\" stroke-width=\"2\" points=\"444.67,-250.56 305.13,-250.56 305.13,-214.56 444.67,-214.56 444.67,-250.56\"/>\n<text text-anchor=\"start\" x=\"306.57\" y=\"-226.56\" font-family=\"Times,serif\" font-size=\"20.00\">counts to mg/mL</text>\n</g>\n<!-- (&#39;RNA [counts]&#39;,)&#45;&gt;(&#39;counts to mg/mL&#39;,) -->\n<g id=\"edge4\" class=\"edge\">\n<title>(&#39;RNA [counts]&#39;,)&#45;&gt;(&#39;counts to mg/mL&#39;,)</title>\n<path fill=\"none\" stroke=\"black\" stroke-dasharray=\"5,2\" d=\"M292.8,-144.45C303.41,-155.73 314.52,-167.54 324.9,-178.56 336,-190.35 348.5,-203.6 358.23,-213.9\"/>\n</g>\n<!-- (&#39;RNA [mg/mL]&#39;,) -->\n<g id=\"node3\" class=\"node\">\n<title>(&#39;RNA [mg/mL]&#39;,)</title>\n<ellipse fill=\"none\" stroke=\"black\" stroke-width=\"2\" cx=\"511.9\" cy=\"-89.28\" rx=\"78.5\" ry=\"78.5\"/>\n<text text-anchor=\"start\" x=\"452.73\" y=\"-83.28\" font-family=\"Times,serif\" font-size=\"20.00\">RNA [mg/mL]</text>\n</g>\n<!-- (&#39;RNA [mg/mL]&#39;,)&#45;&gt;(&#39;counts to mg/mL&#39;,) -->\n<g id=\"edge5\" class=\"edge\">\n<title>(&#39;RNA [mg/mL]&#39;,)&#45;&gt;(&#39;counts to mg/mL&#39;,)</title>\n<path fill=\"none\" stroke=\"black\" stroke-dasharray=\"5,2\" d=\"M457.36,-146.53C434.08,-170.53 408.55,-196.86 392.16,-213.76\"/>\n</g>\n<!-- (&#39;deterministic translation&#39;,) -->\n<g id=\"node8\" class=\"node\">\n<title>(&#39;deterministic translation&#39;,)</title>\n<polygon fill=\"none\" stroke=\"black\" stroke-width=\"2\" points=\"727.26,-250.56 530.54,-250.56 530.54,-214.56 727.26,-214.56 727.26,-250.56\"/>\n<text text-anchor=\"start\" x=\"531.98\" y=\"-226.56\" font-family=\"Times,serif\" font-size=\"20.00\">deterministic translation</text>\n</g>\n<!-- (&#39;RNA [mg/mL]&#39;,)&#45;&gt;(&#39;deterministic translation&#39;,) -->\n<g id=\"edge6\" class=\"edge\">\n<title>(&#39;RNA [mg/mL]&#39;,)&#45;&gt;(&#39;deterministic translation&#39;,)</title>\n<path fill=\"none\" stroke=\"black\" stroke-dasharray=\"5,2\" d=\"M561.86,-150.61C580.74,-173.41 600.83,-197.67 614.04,-213.62\"/>\n</g>\n<!-- (&#39;Protein [mg/mL]&#39;,) -->\n<g id=\"node4\" class=\"node\">\n<title>(&#39;Protein [mg/mL]&#39;,)</title>\n<ellipse fill=\"none\" stroke=\"black\" stroke-width=\"2\" cx=\"697.9\" cy=\"-89.28\" rx=\"89.28\" ry=\"89.28\"/>\n<text text-anchor=\"start\" x=\"630.41\" y=\"-83.28\" font-family=\"Times,serif\" font-size=\"20.00\">Protein [mg/mL]</text>\n</g>\n<!-- (&#39;Protein [mg/mL]&#39;,)&#45;&gt;(&#39;deterministic translation&#39;,) -->\n<g id=\"edge7\" class=\"edge\">\n<title>(&#39;Protein [mg/mL]&#39;,)&#45;&gt;(&#39;deterministic translation&#39;,)</title>\n<path fill=\"none\" stroke=\"black\" stroke-dasharray=\"5,2\" d=\"M658.76,-170.42C650.79,-186.73 643.16,-202.36 637.61,-213.74\"/>\n</g>\n<!-- (&#39;volume&#39;,) -->\n<g id=\"node5\" class=\"node\">\n<title>(&#39;volume&#39;,)</title>\n<ellipse fill=\"none\" stroke=\"black\" stroke-width=\"2\" cx=\"374.9\" cy=\"-89.28\" rx=\"40.72\" ry=\"40.72\"/>\n<text text-anchor=\"start\" x=\"344.9\" y=\"-83.28\" font-family=\"Times,serif\" font-size=\"20.00\">volume</text>\n</g>\n<!-- (&#39;volume&#39;,)&#45;&gt;(&#39;counts to mg/mL&#39;,) -->\n<g id=\"edge3\" class=\"edge\">\n<title>(&#39;volume&#39;,)&#45;&gt;(&#39;counts to mg/mL&#39;,)</title>\n<path fill=\"none\" stroke=\"black\" stroke-dasharray=\"5,2\" d=\"M374.9,-130.77C374.9,-158.16 374.9,-193.01 374.9,-213.73\"/>\n</g>\n</g>\n</svg>\n",
      "text/plain": [
       "<graphviz.graphs.Digraph at 0x113273940>"
      ]
     },
     "execution_count": 8,
     "metadata": {},
     "output_type": "execute_result"
    }
   ],
   "execution_count": 8
  },
  {
   "cell_type": "code",
   "id": "515d926e-c1f7-49b1-b6e5-44284d4f0ee7",
   "metadata": {
    "tags": [],
    "ExecuteTime": {
     "end_time": "2025-02-22T14:15:22.495195Z",
     "start_time": "2025-02-22T14:15:22.434140Z"
    }
   },
   "source": [
    "comp_div = {\n",
    "    'division': {\n",
    "        '_type': 'process',\n",
    "        'inputs': {\n",
    "            'volume': ['volume'],\n",
    "            'divide': ['..', '..', 'cells'],\n",
    "        }\n",
    "    },\n",
    "    **comp\n",
    "}\n",
    "\n",
    "env = {\n",
    "    'fields': {},\n",
    "    'dimensions': {},\n",
    "    'multibody': {\n",
    "        '_type': 'process',\n",
    "        'inputs': {\n",
    "            'cells': ['cells']\n",
    "        }\n",
    "    },\n",
    "    'diffusion': {\n",
    "        '_type': 'process',\n",
    "        'inputs': {\n",
    "            'cells': ['cells'],\n",
    "            'fields': ['fields'],\n",
    "            'dimensions': ['dimensions']\n",
    "        }\n",
    "    }\n",
    "}\n",
    "\n",
    "comp_nested = {\n",
    "    'cells': {\n",
    "        '0': comp_div\n",
    "    },\n",
    "    **env\n",
    "}\n",
    "plot_settings3 = {\n",
    "    **plot_settings,\n",
    "    'remove_process_place_edges': True,\n",
    "    'port_labels': False,\n",
    "}\n",
    "plot_bigraph(comp_nested, **plot_settings3, filename='comp_nested1')"
   ],
   "outputs": [
    {
     "name": "stdout",
     "output_type": "stream",
     "text": [
      "Writing out/comp_nested1\n"
     ]
    },
    {
     "data": {
      "image/svg+xml": "<?xml version=\"1.0\" encoding=\"UTF-8\" standalone=\"no\"?>\n<!DOCTYPE svg PUBLIC \"-//W3C//DTD SVG 1.1//EN\"\n \"http://www.w3.org/Graphics/SVG/1.1/DTD/svg11.dtd\">\n<!-- Generated by graphviz version 9.0.0 (0)\n -->\n<!-- Title: bigraph Pages: 1 -->\n<svg width=\"1600pt\" height=\"606pt\"\n viewBox=\"0.00 0.00 1152.00 436.18\" xmlns=\"http://www.w3.org/2000/svg\" xmlns:xlink=\"http://www.w3.org/1999/xlink\">\n<g id=\"graph0\" class=\"graph\" transform=\"scale(1.24062 1.24062) rotate(0) translate(4 484.31)\">\n<title>bigraph</title>\n<polygon fill=\"white\" stroke=\"none\" points=\"-4,4 -4,-484.31 1285.68,-484.31 1285.68,4 -4,4\"/>\n<!-- (&#39;cells&#39;,) -->\n<g id=\"node1\" class=\"node\">\n<title>(&#39;cells&#39;,)</title>\n<ellipse fill=\"none\" stroke=\"black\" stroke-width=\"2\" cx=\"1007.81\" cy=\"-419.44\" rx=\"25.6\" ry=\"25.6\"/>\n<text text-anchor=\"start\" x=\"989.48\" y=\"-413.44\" font-family=\"Times,serif\" font-size=\"20.00\">cells</text>\n</g>\n<!-- (&#39;cells&#39;, &#39;0&#39;) -->\n<g id=\"node2\" class=\"node\">\n<title>(&#39;cells&#39;, &#39;0&#39;)</title>\n<ellipse fill=\"none\" stroke=\"black\" stroke-width=\"2\" cx=\"563.81\" cy=\"-304.56\" rx=\"18\" ry=\"18\"/>\n<text text-anchor=\"start\" x=\"558.81\" y=\"-298.56\" font-family=\"Times,serif\" font-size=\"20.00\">0</text>\n</g>\n<!-- (&#39;cells&#39;,)&#45;&gt;(&#39;cells&#39;, &#39;0&#39;) -->\n<g id=\"edge1\" class=\"edge\">\n<title>(&#39;cells&#39;,)&#45;&gt;(&#39;cells&#39;, &#39;0&#39;)</title>\n<path fill=\"none\" stroke=\"black\" stroke-width=\"2\" d=\"M982.34,-411.96C901.26,-391.35 650.44,-327.59 581.5,-310.06\"/>\n</g>\n<!-- (&#39;cells&#39;, &#39;0&#39;, &#39;division&#39;) -->\n<g id=\"node10\" class=\"node\">\n<title>(&#39;cells&#39;, &#39;0&#39;, &#39;division&#39;)</title>\n<polygon fill=\"none\" stroke=\"black\" stroke-width=\"2\" points=\"968.47,-36 901.14,-36 901.14,0 968.47,0 968.47,-36\"/>\n<text text-anchor=\"start\" x=\"902.58\" y=\"-12\" font-family=\"Times,serif\" font-size=\"20.00\">division</text>\n</g>\n<!-- (&#39;cells&#39;,)&#45;&gt;(&#39;cells&#39;, &#39;0&#39;, &#39;division&#39;) -->\n<g id=\"edge12\" class=\"edge\">\n<title>(&#39;cells&#39;,)&#45;&gt;(&#39;cells&#39;, &#39;0&#39;, &#39;division&#39;)</title>\n<path fill=\"none\" stroke=\"black\" stroke-dasharray=\"5,2\" d=\"M1003.57,-393.2C990.62,-316.09 952.24,-87.84 948.81,-72 946.22,-60.09 942.72,-46.84 939.87,-36.57\"/>\n</g>\n<!-- (&#39;multibody&#39;,) -->\n<g id=\"node14\" class=\"node\">\n<title>(&#39;multibody&#39;,)</title>\n<polygon fill=\"none\" stroke=\"black\" stroke-width=\"2\" points=\"1086.36,-322.56 1001.25,-322.56 1001.25,-286.56 1086.36,-286.56 1086.36,-322.56\"/>\n<text text-anchor=\"start\" x=\"1002.69\" y=\"-298.56\" font-family=\"Times,serif\" font-size=\"20.00\">multibody</text>\n</g>\n<!-- (&#39;cells&#39;,)&#45;&gt;(&#39;multibody&#39;,) -->\n<g id=\"edge20\" class=\"edge\">\n<title>(&#39;cells&#39;,)&#45;&gt;(&#39;multibody&#39;,)</title>\n<path fill=\"none\" stroke=\"black\" stroke-dasharray=\"5,2\" d=\"M1015.53,-394.22C1022.3,-372.97 1032,-342.56 1038.1,-323.45\"/>\n</g>\n<!-- (&#39;diffusion&#39;,) -->\n<g id=\"node15\" class=\"node\">\n<title>(&#39;diffusion&#39;,)</title>\n<polygon fill=\"none\" stroke=\"black\" stroke-width=\"2\" points=\"1179.18,-322.56 1104.43,-322.56 1104.43,-286.56 1179.18,-286.56 1179.18,-322.56\"/>\n<text text-anchor=\"start\" x=\"1105.87\" y=\"-298.56\" font-family=\"Times,serif\" font-size=\"20.00\">diffusion</text>\n</g>\n<!-- (&#39;cells&#39;,)&#45;&gt;(&#39;diffusion&#39;,) -->\n<g id=\"edge22\" class=\"edge\">\n<title>(&#39;cells&#39;,)&#45;&gt;(&#39;diffusion&#39;,)</title>\n<path fill=\"none\" stroke=\"black\" stroke-dasharray=\"5,2\" d=\"M1026.18,-400.69C1038.98,-388.53 1056.61,-372.2 1072.81,-358.56 1087.25,-346.4 1104.04,-333.48 1117.44,-323.44\"/>\n</g>\n<!-- (&#39;cells&#39;, &#39;0&#39;, &#39;DNA [counts]&#39;) -->\n<g id=\"node3\" class=\"node\">\n<title>(&#39;cells&#39;, &#39;0&#39;, &#39;DNA [counts]&#39;)</title>\n<ellipse fill=\"none\" stroke=\"black\" stroke-width=\"2\" cx=\"118.81\" cy=\"-161.28\" rx=\"74.9\" ry=\"74.9\"/>\n<text text-anchor=\"start\" x=\"62.42\" y=\"-155.28\" font-family=\"Times,serif\" font-size=\"20.00\">DNA [counts]</text>\n</g>\n<!-- (&#39;cells&#39;, &#39;0&#39;)&#45;&gt;(&#39;cells&#39;, &#39;0&#39;, &#39;DNA [counts]&#39;) -->\n<g id=\"edge6\" class=\"edge\">\n<title>(&#39;cells&#39;, &#39;0&#39;)&#45;&gt;(&#39;cells&#39;, &#39;0&#39;, &#39;DNA [counts]&#39;)</title>\n<path fill=\"none\" stroke=\"black\" stroke-width=\"2\" d=\"M545.02,-302.42C479.79,-298.2 263.69,-282.11 202.81,-250.56 188.72,-243.26 175.67,-232.66 164.27,-221.32\"/>\n</g>\n<!-- (&#39;cells&#39;, &#39;0&#39;, &#39;RNA [counts]&#39;) -->\n<g id=\"node4\" class=\"node\">\n<title>(&#39;cells&#39;, &#39;0&#39;, &#39;RNA [counts]&#39;)</title>\n<ellipse fill=\"none\" stroke=\"black\" stroke-width=\"2\" cx=\"285.81\" cy=\"-161.28\" rx=\"74.19\" ry=\"74.19\"/>\n<text text-anchor=\"start\" x=\"229.97\" y=\"-155.28\" font-family=\"Times,serif\" font-size=\"20.00\">RNA [counts]</text>\n</g>\n<!-- (&#39;cells&#39;, &#39;0&#39;)&#45;&gt;(&#39;cells&#39;, &#39;0&#39;, &#39;RNA [counts]&#39;) -->\n<g id=\"edge7\" class=\"edge\">\n<title>(&#39;cells&#39;, &#39;0&#39;)&#45;&gt;(&#39;cells&#39;, &#39;0&#39;, &#39;RNA [counts]&#39;)</title>\n<path fill=\"none\" stroke=\"black\" stroke-width=\"2\" d=\"M545.31,-301.58C509.87,-297.12 430.85,-283.95 373.81,-250.56 359.42,-242.15 345.73,-230.81 333.62,-219.06\"/>\n</g>\n<!-- (&#39;cells&#39;, &#39;0&#39;, &#39;RNA [mg/mL]&#39;) -->\n<g id=\"node5\" class=\"node\">\n<title>(&#39;cells&#39;, &#39;0&#39;, &#39;RNA [mg/mL]&#39;)</title>\n<ellipse fill=\"none\" stroke=\"black\" stroke-width=\"2\" cx=\"494.81\" cy=\"-161.28\" rx=\"78.5\" ry=\"78.5\"/>\n<text text-anchor=\"start\" x=\"435.64\" y=\"-155.28\" font-family=\"Times,serif\" font-size=\"20.00\">RNA [mg/mL]</text>\n</g>\n<!-- (&#39;cells&#39;, &#39;0&#39;)&#45;&gt;(&#39;cells&#39;, &#39;0&#39;, &#39;RNA [mg/mL]&#39;) -->\n<g id=\"edge8\" class=\"edge\">\n<title>(&#39;cells&#39;, &#39;0&#39;)&#45;&gt;(&#39;cells&#39;, &#39;0&#39;, &#39;RNA [mg/mL]&#39;)</title>\n<path fill=\"none\" stroke=\"black\" stroke-width=\"2\" d=\"M555.89,-287.36C549.23,-273.73 539.23,-253.25 529.24,-232.78\"/>\n</g>\n<!-- (&#39;cells&#39;, &#39;0&#39;, &#39;Protein [mg/mL]&#39;) -->\n<g id=\"node6\" class=\"node\">\n<title>(&#39;cells&#39;, &#39;0&#39;, &#39;Protein [mg/mL]&#39;)</title>\n<ellipse fill=\"none\" stroke=\"black\" stroke-width=\"2\" cx=\"817.81\" cy=\"-161.28\" rx=\"89.28\" ry=\"89.28\"/>\n<text text-anchor=\"start\" x=\"750.31\" y=\"-155.28\" font-family=\"Times,serif\" font-size=\"20.00\">Protein [mg/mL]</text>\n</g>\n<!-- (&#39;cells&#39;, &#39;0&#39;)&#45;&gt;(&#39;cells&#39;, &#39;0&#39;, &#39;Protein [mg/mL]&#39;) -->\n<g id=\"edge9\" class=\"edge\">\n<title>(&#39;cells&#39;, &#39;0&#39;)&#45;&gt;(&#39;cells&#39;, &#39;0&#39;, &#39;Protein [mg/mL]&#39;)</title>\n<path fill=\"none\" stroke=\"black\" stroke-width=\"2\" d=\"M581.93,-299.52C611.25,-292.48 670.28,-276.24 714.81,-250.56 727.86,-243.03 740.83,-233.75 752.93,-224.06\"/>\n</g>\n<!-- (&#39;cells&#39;, &#39;0&#39;, &#39;volume&#39;) -->\n<g id=\"node7\" class=\"node\">\n<title>(&#39;cells&#39;, &#39;0&#39;, &#39;volume&#39;)</title>\n<ellipse fill=\"none\" stroke=\"black\" stroke-width=\"2\" cx=\"631.81\" cy=\"-161.28\" rx=\"40.72\" ry=\"40.72\"/>\n<text text-anchor=\"start\" x=\"601.81\" y=\"-155.28\" font-family=\"Times,serif\" font-size=\"20.00\">volume</text>\n</g>\n<!-- (&#39;cells&#39;, &#39;0&#39;)&#45;&gt;(&#39;cells&#39;, &#39;0&#39;, &#39;volume&#39;) -->\n<g id=\"edge10\" class=\"edge\">\n<title>(&#39;cells&#39;, &#39;0&#39;)&#45;&gt;(&#39;cells&#39;, &#39;0&#39;, &#39;volume&#39;)</title>\n<path fill=\"none\" stroke=\"black\" stroke-width=\"2\" d=\"M571.61,-287.36C581.93,-265.9 600.44,-227.45 614.22,-198.83\"/>\n</g>\n<!-- (&#39;cells&#39;, &#39;0&#39;)&#45;&gt;(&#39;cells&#39;, &#39;0&#39;, &#39;division&#39;) -->\n<!-- (&#39;cells&#39;, &#39;0&#39;, &#39;stochastic transcription&#39;) -->\n<g id=\"node11\" class=\"node\">\n<title>(&#39;cells&#39;, &#39;0&#39;, &#39;stochastic transcription&#39;)</title>\n<polygon fill=\"none\" stroke=\"black\" stroke-width=\"2\" points=\"212.72,-36 24.89,-36 24.89,0 212.72,0 212.72,-36\"/>\n<text text-anchor=\"start\" x=\"26.33\" y=\"-12\" font-family=\"Times,serif\" font-size=\"20.00\">stochastic transcription</text>\n</g>\n<!-- (&#39;cells&#39;, &#39;0&#39;)&#45;&gt;(&#39;cells&#39;, &#39;0&#39;, &#39;stochastic transcription&#39;) -->\n<!-- (&#39;cells&#39;, &#39;0&#39;, &#39;counts to mg/mL&#39;) -->\n<g id=\"node12\" class=\"node\">\n<title>(&#39;cells&#39;, &#39;0&#39;, &#39;counts to mg/mL&#39;)</title>\n<polygon fill=\"none\" stroke=\"black\" stroke-width=\"2\" points=\"510.58,-36 371.04,-36 371.04,0 510.58,0 510.58,-36\"/>\n<text text-anchor=\"start\" x=\"372.48\" y=\"-12\" font-family=\"Times,serif\" font-size=\"20.00\">counts to mg/mL</text>\n</g>\n<!-- (&#39;cells&#39;, &#39;0&#39;)&#45;&gt;(&#39;cells&#39;, &#39;0&#39;, &#39;counts to mg/mL&#39;) -->\n<!-- (&#39;cells&#39;, &#39;0&#39;, &#39;deterministic translation&#39;) -->\n<g id=\"node13\" class=\"node\">\n<title>(&#39;cells&#39;, &#39;0&#39;, &#39;deterministic translation&#39;)</title>\n<polygon fill=\"none\" stroke=\"black\" stroke-width=\"2\" points=\"799.16,-36 602.45,-36 602.45,0 799.16,0 799.16,-36\"/>\n<text text-anchor=\"start\" x=\"603.89\" y=\"-12\" font-family=\"Times,serif\" font-size=\"20.00\">deterministic translation</text>\n</g>\n<!-- (&#39;cells&#39;, &#39;0&#39;)&#45;&gt;(&#39;cells&#39;, &#39;0&#39;, &#39;deterministic translation&#39;) -->\n<!-- (&#39;cells&#39;, &#39;0&#39;, &#39;DNA [counts]&#39;)&#45;&gt;(&#39;cells&#39;, &#39;0&#39;, &#39;stochastic transcription&#39;) -->\n<g id=\"edge14\" class=\"edge\">\n<title>(&#39;cells&#39;, &#39;0&#39;, &#39;DNA [counts]&#39;)&#45;&gt;(&#39;cells&#39;, &#39;0&#39;, &#39;stochastic transcription&#39;)</title>\n<path fill=\"none\" stroke=\"black\" stroke-dasharray=\"5,2\" d=\"M118.81,-85.5C118.81,-67.37 118.81,-49.6 118.81,-36.99\"/>\n</g>\n<!-- (&#39;cells&#39;, &#39;0&#39;, &#39;RNA [counts]&#39;)&#45;&gt;(&#39;cells&#39;, &#39;0&#39;, &#39;stochastic transcription&#39;) -->\n<g id=\"edge13\" class=\"edge\">\n<title>(&#39;cells&#39;, &#39;0&#39;, &#39;RNA [counts]&#39;)&#45;&gt;(&#39;cells&#39;, &#39;0&#39;, &#39;stochastic transcription&#39;)</title>\n<path fill=\"none\" stroke=\"black\" stroke-dasharray=\"5,2\" d=\"M237.37,-104.42C226.49,-93.15 214.65,-81.77 202.81,-72 186.84,-58.84 167.39,-46.37 151.22,-36.84\"/>\n</g>\n<!-- (&#39;cells&#39;, &#39;0&#39;, &#39;RNA [counts]&#39;)&#45;&gt;(&#39;cells&#39;, &#39;0&#39;, &#39;counts to mg/mL&#39;) -->\n<g id=\"edge16\" class=\"edge\">\n<title>(&#39;cells&#39;, &#39;0&#39;, &#39;RNA [counts]&#39;)&#45;&gt;(&#39;cells&#39;, &#39;0&#39;, &#39;counts to mg/mL&#39;)</title>\n<path fill=\"none\" stroke=\"black\" stroke-dasharray=\"5,2\" d=\"M336.93,-106.96C348.79,-95.17 361.53,-82.94 373.81,-72 387.53,-59.76 403.68,-46.94 416.68,-36.98\"/>\n</g>\n<!-- (&#39;cells&#39;, &#39;0&#39;, &#39;RNA [mg/mL]&#39;)&#45;&gt;(&#39;cells&#39;, &#39;0&#39;, &#39;counts to mg/mL&#39;) -->\n<g id=\"edge17\" class=\"edge\">\n<title>(&#39;cells&#39;, &#39;0&#39;, &#39;RNA [mg/mL]&#39;)&#45;&gt;(&#39;cells&#39;, &#39;0&#39;, &#39;counts to mg/mL&#39;)</title>\n<path fill=\"none\" stroke=\"black\" stroke-dasharray=\"5,2\" d=\"M466.86,-87.16C459.7,-68.44 452.64,-49.95 447.67,-36.97\"/>\n</g>\n<!-- (&#39;cells&#39;, &#39;0&#39;, &#39;RNA [mg/mL]&#39;)&#45;&gt;(&#39;cells&#39;, &#39;0&#39;, &#39;deterministic translation&#39;) -->\n<g id=\"edge18\" class=\"edge\">\n<title>(&#39;cells&#39;, &#39;0&#39;, &#39;RNA [mg/mL]&#39;)&#45;&gt;(&#39;cells&#39;, &#39;0&#39;, &#39;deterministic translation&#39;)</title>\n<path fill=\"none\" stroke=\"black\" stroke-dasharray=\"5,2\" d=\"M546.71,-101.32C557.65,-90.77 569.6,-80.46 581.81,-72 602.44,-57.7 627.55,-45.84 649.38,-36.99\"/>\n</g>\n<!-- (&#39;cells&#39;, &#39;0&#39;, &#39;Protein [mg/mL]&#39;)&#45;&gt;(&#39;cells&#39;, &#39;0&#39;, &#39;deterministic translation&#39;) -->\n<g id=\"edge19\" class=\"edge\">\n<title>(&#39;cells&#39;, &#39;0&#39;, &#39;Protein [mg/mL]&#39;)&#45;&gt;(&#39;cells&#39;, &#39;0&#39;, &#39;deterministic translation&#39;)</title>\n<path fill=\"none\" stroke=\"black\" stroke-dasharray=\"5,2\" d=\"M761.02,-91.71C744.25,-71.46 727.29,-50.99 715.67,-36.95\"/>\n</g>\n<!-- (&#39;cells&#39;, &#39;0&#39;, &#39;volume&#39;)&#45;&gt;(&#39;cells&#39;, &#39;0&#39;, &#39;division&#39;) -->\n<g id=\"edge11\" class=\"edge\">\n<title>(&#39;cells&#39;, &#39;0&#39;, &#39;volume&#39;)&#45;&gt;(&#39;cells&#39;, &#39;0&#39;, &#39;division&#39;)</title>\n<path fill=\"none\" stroke=\"black\" stroke-dasharray=\"5,2\" d=\"M656.24,-128.1C672.32,-109.09 694.94,-86.05 719.81,-72 777.88,-39.19 855.99,-26.51 900.3,-21.74\"/>\n</g>\n<!-- (&#39;cells&#39;, &#39;0&#39;, &#39;volume&#39;)&#45;&gt;(&#39;cells&#39;, &#39;0&#39;, &#39;counts to mg/mL&#39;) -->\n<g id=\"edge15\" class=\"edge\">\n<title>(&#39;cells&#39;, &#39;0&#39;, &#39;volume&#39;)&#45;&gt;(&#39;cells&#39;, &#39;0&#39;, &#39;counts to mg/mL&#39;)</title>\n<path fill=\"none\" stroke=\"black\" stroke-dasharray=\"5,2\" d=\"M617.9,-122.3C609.92,-104.97 598.35,-85.38 582.81,-72 562.56,-54.58 536.05,-42.64 511.42,-34.57\"/>\n</g>\n<!-- (&#39;fields&#39;,) -->\n<g id=\"node8\" class=\"node\">\n<title>(&#39;fields&#39;,)</title>\n<ellipse fill=\"none\" stroke=\"black\" stroke-width=\"2\" cx=\"1111.81\" cy=\"-419.44\" rx=\"29.93\" ry=\"29.93\"/>\n<text text-anchor=\"start\" x=\"1090.14\" y=\"-413.44\" font-family=\"Times,serif\" font-size=\"20.00\">fields</text>\n</g>\n<!-- (&#39;fields&#39;,)&#45;&gt;(&#39;diffusion&#39;,) -->\n<g id=\"edge23\" class=\"edge\">\n<title>(&#39;fields&#39;,)&#45;&gt;(&#39;diffusion&#39;,)</title>\n<path fill=\"none\" stroke=\"black\" stroke-dasharray=\"5,2\" d=\"M1119.45,-389.66C1125.01,-368.76 1132.35,-341.13 1137.08,-323.35\"/>\n</g>\n<!-- (&#39;dimensions&#39;,) -->\n<g id=\"node9\" class=\"node\">\n<title>(&#39;dimensions&#39;,)</title>\n<ellipse fill=\"none\" stroke=\"black\" stroke-width=\"2\" cx=\"1220.81\" cy=\"-419.44\" rx=\"60.87\" ry=\"60.87\"/>\n<text text-anchor=\"start\" x=\"1175.25\" y=\"-413.44\" font-family=\"Times,serif\" font-size=\"20.00\">dimensions</text>\n</g>\n<!-- (&#39;dimensions&#39;,)&#45;&gt;(&#39;diffusion&#39;,) -->\n<g id=\"edge21\" class=\"edge\">\n<title>(&#39;dimensions&#39;,)&#45;&gt;(&#39;diffusion&#39;,)</title>\n<path fill=\"none\" stroke=\"black\" stroke-dasharray=\"5,2\" d=\"M1185.92,-368.6C1174.68,-352.54 1162.93,-335.75 1154.39,-323.54\"/>\n</g>\n</g>\n</svg>\n",
      "text/plain": [
       "<graphviz.graphs.Digraph at 0x1077ab190>"
      ]
     },
     "execution_count": 9,
     "metadata": {},
     "output_type": "execute_result"
    }
   ],
   "execution_count": 9
  },
  {
   "cell_type": "code",
   "id": "18658fe9-9f7e-4b5d-bc62-6ed8b5ee1fac",
   "metadata": {
    "tags": [],
    "ExecuteTime": {
     "end_time": "2025-02-22T14:15:22.573728Z",
     "start_time": "2025-02-22T14:15:22.501355Z"
    }
   },
   "source": [
    "comp_nested = {\n",
    "    'cells': {\n",
    "        '1': comp_div,\n",
    "        '2': comp_div,\n",
    "    },\n",
    "    **env\n",
    "}\n",
    "plot_bigraph(comp_nested, **plot_settings3, filename='comp_nested2')"
   ],
   "outputs": [
    {
     "name": "stdout",
     "output_type": "stream",
     "text": [
      "Writing out/comp_nested2\n"
     ]
    },
    {
     "data": {
      "image/svg+xml": "<?xml version=\"1.0\" encoding=\"UTF-8\" standalone=\"no\"?>\n<!DOCTYPE svg PUBLIC \"-//W3C//DTD SVG 1.1//EN\"\n \"http://www.w3.org/Graphics/SVG/1.1/DTD/svg11.dtd\">\n<!-- Generated by graphviz version 9.0.0 (0)\n -->\n<!-- Title: bigraph Pages: 1 -->\n<svg width=\"1600pt\" height=\"394pt\"\n viewBox=\"0.00 0.00 1152.00 283.88\" xmlns=\"http://www.w3.org/2000/svg\" xmlns:xlink=\"http://www.w3.org/1999/xlink\">\n<g id=\"graph0\" class=\"graph\" transform=\"scale(0.80743 0.80743) rotate(0) translate(4 484.31)\">\n<title>bigraph</title>\n<polygon fill=\"white\" stroke=\"none\" points=\"-4,4 -4,-484.31 1977.6,-484.31 1977.6,4 -4,4\"/>\n<!-- (&#39;cells&#39;,) -->\n<g id=\"node1\" class=\"node\">\n<title>(&#39;cells&#39;,)</title>\n<ellipse fill=\"none\" stroke=\"black\" stroke-width=\"2\" cx=\"832.31\" cy=\"-419.44\" rx=\"25.6\" ry=\"25.6\"/>\n<text text-anchor=\"start\" x=\"813.99\" y=\"-413.44\" font-family=\"Times,serif\" font-size=\"20.00\">cells</text>\n</g>\n<!-- (&#39;cells&#39;, &#39;1&#39;) -->\n<g id=\"node2\" class=\"node\">\n<title>(&#39;cells&#39;, &#39;1&#39;)</title>\n<ellipse fill=\"none\" stroke=\"black\" stroke-width=\"2\" cx=\"1283.31\" cy=\"-304.56\" rx=\"18\" ry=\"18\"/>\n<text text-anchor=\"start\" x=\"1278.31\" y=\"-298.56\" font-family=\"Times,serif\" font-size=\"20.00\">1</text>\n</g>\n<!-- (&#39;cells&#39;,)&#45;&gt;(&#39;cells&#39;, &#39;1&#39;) -->\n<g id=\"edge1\" class=\"edge\">\n<title>(&#39;cells&#39;,)&#45;&gt;(&#39;cells&#39;, &#39;1&#39;)</title>\n<path fill=\"none\" stroke=\"black\" stroke-width=\"2\" d=\"M857.85,-412.04C939.84,-391.52 1195.13,-327.63 1265.3,-310.07\"/>\n</g>\n<!-- (&#39;cells&#39;, &#39;2&#39;) -->\n<g id=\"node8\" class=\"node\">\n<title>(&#39;cells&#39;, &#39;2&#39;)</title>\n<ellipse fill=\"none\" stroke=\"black\" stroke-width=\"2\" cx=\"659.31\" cy=\"-304.56\" rx=\"18\" ry=\"18\"/>\n<text text-anchor=\"middle\" x=\"659.31\" y=\"-298.56\" font-family=\"Times,serif\" font-size=\"20.00\">2</text>\n</g>\n<!-- (&#39;cells&#39;,)&#45;&gt;(&#39;cells&#39;, &#39;2&#39;) -->\n<g id=\"edge11\" class=\"edge\">\n<title>(&#39;cells&#39;,)&#45;&gt;(&#39;cells&#39;, &#39;2&#39;)</title>\n<path fill=\"none\" stroke=\"black\" stroke-width=\"2\" d=\"M810.75,-404.37C775.25,-381.2 705.34,-335.59 674.52,-315.48\"/>\n</g>\n<!-- (&#39;cells&#39;, &#39;1&#39;, &#39;division&#39;) -->\n<g id=\"node16\" class=\"node\">\n<title>(&#39;cells&#39;, &#39;1&#39;, &#39;division&#39;)</title>\n<polygon fill=\"none\" stroke=\"black\" stroke-width=\"2\" points=\"1076.98,-36 1009.65,-36 1009.65,0 1076.98,0 1076.98,-36\"/>\n<text text-anchor=\"start\" x=\"1011.09\" y=\"-12\" font-family=\"Times,serif\" font-size=\"20.00\">division</text>\n</g>\n<!-- (&#39;cells&#39;,)&#45;&gt;(&#39;cells&#39;, &#39;1&#39;, &#39;division&#39;) -->\n<g id=\"edge22\" class=\"edge\">\n<title>(&#39;cells&#39;,)&#45;&gt;(&#39;cells&#39;, &#39;1&#39;, &#39;division&#39;)</title>\n<path fill=\"none\" stroke=\"black\" stroke-dasharray=\"5,2\" d=\"M852.77,-402.55C886.32,-375.31 952.69,-316.21 986.31,-250.56 1023.26,-178.43 1000.72,-149.83 1023.31,-72 1026.77,-60.1 1031.67,-47.07 1035.75,-36.91\"/>\n</g>\n<!-- (&#39;cells&#39;, &#39;2&#39;, &#39;division&#39;) -->\n<g id=\"node20\" class=\"node\">\n<title>(&#39;cells&#39;, &#39;2&#39;, &#39;division&#39;)</title>\n<polygon fill=\"none\" stroke=\"black\" stroke-width=\"2\" points=\"80.98,-36 13.65,-36 13.65,0 80.98,0 80.98,-36\"/>\n<text text-anchor=\"start\" x=\"15.09\" y=\"-12\" font-family=\"Times,serif\" font-size=\"20.00\">division</text>\n</g>\n<!-- (&#39;cells&#39;,)&#45;&gt;(&#39;cells&#39;, &#39;2&#39;, &#39;division&#39;) -->\n<g id=\"edge31\" class=\"edge\">\n<title>(&#39;cells&#39;,)&#45;&gt;(&#39;cells&#39;, &#39;2&#39;, &#39;division&#39;)</title>\n<path fill=\"none\" stroke=\"black\" stroke-dasharray=\"5,2\" d=\"M805.84,-417.23C677.98,-410.83 126.49,-376.15 24.31,-250.56 -27.32,-187.1 17.13,-79.15 37.96,-36.8\"/>\n</g>\n<!-- (&#39;multibody&#39;,) -->\n<g id=\"node24\" class=\"node\">\n<title>(&#39;multibody&#39;,)</title>\n<polygon fill=\"none\" stroke=\"black\" stroke-width=\"2\" points=\"622.87,-322.56 537.76,-322.56 537.76,-286.56 622.87,-286.56 622.87,-322.56\"/>\n<text text-anchor=\"start\" x=\"539.2\" y=\"-298.56\" font-family=\"Times,serif\" font-size=\"20.00\">multibody</text>\n</g>\n<!-- (&#39;cells&#39;,)&#45;&gt;(&#39;multibody&#39;,) -->\n<g id=\"edge39\" class=\"edge\">\n<title>(&#39;cells&#39;,)&#45;&gt;(&#39;multibody&#39;,)</title>\n<path fill=\"none\" stroke=\"black\" stroke-dasharray=\"5,2\" d=\"M808.61,-407.82C765.36,-388.44 673.23,-347.18 620.18,-323.42\"/>\n</g>\n<!-- (&#39;diffusion&#39;,) -->\n<g id=\"node25\" class=\"node\">\n<title>(&#39;diffusion&#39;,)</title>\n<polygon fill=\"none\" stroke=\"black\" stroke-width=\"2\" points=\"1393.69,-322.56 1318.94,-322.56 1318.94,-286.56 1393.69,-286.56 1393.69,-322.56\"/>\n<text text-anchor=\"start\" x=\"1320.38\" y=\"-298.56\" font-family=\"Times,serif\" font-size=\"20.00\">diffusion</text>\n</g>\n<!-- (&#39;cells&#39;,)&#45;&gt;(&#39;diffusion&#39;,) -->\n<g id=\"edge41\" class=\"edge\">\n<title>(&#39;cells&#39;,)&#45;&gt;(&#39;diffusion&#39;,)</title>\n<path fill=\"none\" stroke=\"black\" stroke-dasharray=\"5,2\" d=\"M858.3,-414.69C930.74,-403.92 1140.72,-370.59 1310.31,-322.56 1312.85,-321.84 1315.45,-321.05 1318.06,-320.21\"/>\n</g>\n<!-- (&#39;cells&#39;, &#39;1&#39;, &#39;DNA [counts]&#39;) -->\n<g id=\"node3\" class=\"node\">\n<title>(&#39;cells&#39;, &#39;1&#39;, &#39;DNA [counts]&#39;)</title>\n<ellipse fill=\"none\" stroke=\"black\" stroke-width=\"2\" cx=\"1450.31\" cy=\"-161.28\" rx=\"74.9\" ry=\"74.9\"/>\n<text text-anchor=\"start\" x=\"1393.93\" y=\"-155.28\" font-family=\"Times,serif\" font-size=\"20.00\">DNA [counts]</text>\n</g>\n<!-- (&#39;cells&#39;, &#39;1&#39;)&#45;&gt;(&#39;cells&#39;, &#39;1&#39;, &#39;DNA [counts]&#39;) -->\n<g id=\"edge6\" class=\"edge\">\n<title>(&#39;cells&#39;, &#39;1&#39;)&#45;&gt;(&#39;cells&#39;, &#39;1&#39;, &#39;DNA [counts]&#39;)</title>\n<path fill=\"none\" stroke=\"black\" stroke-width=\"2\" d=\"M1298.6,-293.94C1321.73,-279.35 1363.28,-253.06 1366.31,-250.56 1378.07,-240.88 1389.86,-229.65 1400.73,-218.53\"/>\n</g>\n<!-- (&#39;cells&#39;, &#39;1&#39;, &#39;RNA [counts]&#39;) -->\n<g id=\"node4\" class=\"node\">\n<title>(&#39;cells&#39;, &#39;1&#39;, &#39;RNA [counts]&#39;)</title>\n<ellipse fill=\"none\" stroke=\"black\" stroke-width=\"2\" cx=\"1283.31\" cy=\"-161.28\" rx=\"74.19\" ry=\"74.19\"/>\n<text text-anchor=\"start\" x=\"1227.48\" y=\"-155.28\" font-family=\"Times,serif\" font-size=\"20.00\">RNA [counts]</text>\n</g>\n<!-- (&#39;cells&#39;, &#39;1&#39;)&#45;&gt;(&#39;cells&#39;, &#39;1&#39;, &#39;RNA [counts]&#39;) -->\n<g id=\"edge7\" class=\"edge\">\n<title>(&#39;cells&#39;, &#39;1&#39;)&#45;&gt;(&#39;cells&#39;, &#39;1&#39;, &#39;RNA [counts]&#39;)</title>\n<path fill=\"none\" stroke=\"black\" stroke-width=\"2\" d=\"M1283.31,-285.67C1283.31,-272.9 1283.31,-254.78 1283.31,-236.36\"/>\n</g>\n<!-- (&#39;cells&#39;, &#39;1&#39;, &#39;RNA [mg/mL]&#39;) -->\n<g id=\"node5\" class=\"node\">\n<title>(&#39;cells&#39;, &#39;1&#39;, &#39;RNA [mg/mL]&#39;)</title>\n<ellipse fill=\"none\" stroke=\"black\" stroke-width=\"2\" cx=\"1660.31\" cy=\"-161.28\" rx=\"78.5\" ry=\"78.5\"/>\n<text text-anchor=\"start\" x=\"1601.14\" y=\"-155.28\" font-family=\"Times,serif\" font-size=\"20.00\">RNA [mg/mL]</text>\n</g>\n<!-- (&#39;cells&#39;, &#39;1&#39;)&#45;&gt;(&#39;cells&#39;, &#39;1&#39;, &#39;RNA [mg/mL]&#39;) -->\n<g id=\"edge8\" class=\"edge\">\n<title>(&#39;cells&#39;, &#39;1&#39;)&#45;&gt;(&#39;cells&#39;, &#39;1&#39;, &#39;RNA [mg/mL]&#39;)</title>\n<path fill=\"none\" stroke=\"black\" stroke-width=\"2\" d=\"M1297.87,-292.84C1301.74,-290.43 1306.05,-288.12 1310.31,-286.56 1418.64,-246.95 1463.42,-300.66 1567.31,-250.56 1582.25,-243.36 1596.37,-232.87 1608.89,-221.62\"/>\n</g>\n<!-- (&#39;cells&#39;, &#39;1&#39;, &#39;Protein [mg/mL]&#39;) -->\n<g id=\"node6\" class=\"node\">\n<title>(&#39;cells&#39;, &#39;1&#39;, &#39;Protein [mg/mL]&#39;)</title>\n<ellipse fill=\"none\" stroke=\"black\" stroke-width=\"2\" cx=\"1884.31\" cy=\"-161.28\" rx=\"89.28\" ry=\"89.28\"/>\n<text text-anchor=\"start\" x=\"1816.82\" y=\"-155.28\" font-family=\"Times,serif\" font-size=\"20.00\">Protein [mg/mL]</text>\n</g>\n<!-- (&#39;cells&#39;, &#39;1&#39;)&#45;&gt;(&#39;cells&#39;, &#39;1&#39;, &#39;Protein [mg/mL]&#39;) -->\n<g id=\"edge9\" class=\"edge\">\n<title>(&#39;cells&#39;, &#39;1&#39;)&#45;&gt;(&#39;cells&#39;, &#39;1&#39;, &#39;Protein [mg/mL]&#39;)</title>\n<path fill=\"none\" stroke=\"black\" stroke-width=\"2\" d=\"M1297.8,-292.65C1301.68,-290.24 1306,-287.99 1310.31,-286.56 1509.66,-220.7 1587.33,-330.86 1781.31,-250.56 1795.57,-244.66 1809.27,-236 1821.77,-226.38\"/>\n</g>\n<!-- (&#39;cells&#39;, &#39;1&#39;, &#39;volume&#39;) -->\n<g id=\"node7\" class=\"node\">\n<title>(&#39;cells&#39;, &#39;1&#39;, &#39;volume&#39;)</title>\n<ellipse fill=\"none\" stroke=\"black\" stroke-width=\"2\" cx=\"1112.31\" cy=\"-161.28\" rx=\"40.72\" ry=\"40.72\"/>\n<text text-anchor=\"start\" x=\"1082.32\" y=\"-155.28\" font-family=\"Times,serif\" font-size=\"20.00\">volume</text>\n</g>\n<!-- (&#39;cells&#39;, &#39;1&#39;)&#45;&gt;(&#39;cells&#39;, &#39;1&#39;, &#39;volume&#39;) -->\n<g id=\"edge10\" class=\"edge\">\n<title>(&#39;cells&#39;, &#39;1&#39;)&#45;&gt;(&#39;cells&#39;, &#39;1&#39;, &#39;volume&#39;)</title>\n<path fill=\"none\" stroke=\"black\" stroke-width=\"2\" d=\"M1265.4,-298.93C1240.93,-291.87 1196.75,-276.44 1167.31,-250.56 1151.31,-236.5 1138.37,-216.64 1129.08,-199.32\"/>\n</g>\n<!-- (&#39;cells&#39;, &#39;1&#39;)&#45;&gt;(&#39;cells&#39;, &#39;1&#39;, &#39;division&#39;) -->\n<!-- (&#39;cells&#39;, &#39;1&#39;, &#39;stochastic transcription&#39;) -->\n<g id=\"node17\" class=\"node\">\n<title>(&#39;cells&#39;, &#39;1&#39;, &#39;stochastic transcription&#39;)</title>\n<polygon fill=\"none\" stroke=\"black\" stroke-width=\"2\" points=\"1544.23,-36 1356.4,-36 1356.4,0 1544.23,0 1544.23,-36\"/>\n<text text-anchor=\"start\" x=\"1357.84\" y=\"-12\" font-family=\"Times,serif\" font-size=\"20.00\">stochastic transcription</text>\n</g>\n<!-- (&#39;cells&#39;, &#39;1&#39;)&#45;&gt;(&#39;cells&#39;, &#39;1&#39;, &#39;stochastic transcription&#39;) -->\n<!-- (&#39;cells&#39;, &#39;1&#39;, &#39;counts to mg/mL&#39;) -->\n<g id=\"node18\" class=\"node\">\n<title>(&#39;cells&#39;, &#39;1&#39;, &#39;counts to mg/mL&#39;)</title>\n<polygon fill=\"none\" stroke=\"black\" stroke-width=\"2\" points=\"1294.08,-36 1154.54,-36 1154.54,0 1294.08,0 1294.08,-36\"/>\n<text text-anchor=\"start\" x=\"1155.98\" y=\"-12\" font-family=\"Times,serif\" font-size=\"20.00\">counts to mg/mL</text>\n</g>\n<!-- (&#39;cells&#39;, &#39;1&#39;)&#45;&gt;(&#39;cells&#39;, &#39;1&#39;, &#39;counts to mg/mL&#39;) -->\n<!-- (&#39;cells&#39;, &#39;1&#39;, &#39;deterministic translation&#39;) -->\n<g id=\"node19\" class=\"node\">\n<title>(&#39;cells&#39;, &#39;1&#39;, &#39;deterministic translation&#39;)</title>\n<polygon fill=\"none\" stroke=\"black\" stroke-width=\"2\" points=\"1865.67,-36 1668.96,-36 1668.96,0 1865.67,0 1865.67,-36\"/>\n<text text-anchor=\"start\" x=\"1670.4\" y=\"-12\" font-family=\"Times,serif\" font-size=\"20.00\">deterministic translation</text>\n</g>\n<!-- (&#39;cells&#39;, &#39;1&#39;)&#45;&gt;(&#39;cells&#39;, &#39;1&#39;, &#39;deterministic translation&#39;) -->\n<!-- (&#39;cells&#39;, &#39;1&#39;, &#39;DNA [counts]&#39;)&#45;&gt;(&#39;cells&#39;, &#39;1&#39;, &#39;stochastic transcription&#39;) -->\n<g id=\"edge24\" class=\"edge\">\n<title>(&#39;cells&#39;, &#39;1&#39;, &#39;DNA [counts]&#39;)&#45;&gt;(&#39;cells&#39;, &#39;1&#39;, &#39;stochastic transcription&#39;)</title>\n<path fill=\"none\" stroke=\"black\" stroke-dasharray=\"5,2\" d=\"M1450.31,-85.5C1450.31,-67.37 1450.31,-49.6 1450.31,-36.99\"/>\n</g>\n<!-- (&#39;cells&#39;, &#39;1&#39;, &#39;RNA [counts]&#39;)&#45;&gt;(&#39;cells&#39;, &#39;1&#39;, &#39;stochastic transcription&#39;) -->\n<g id=\"edge23\" class=\"edge\">\n<title>(&#39;cells&#39;, &#39;1&#39;, &#39;RNA [counts]&#39;)&#45;&gt;(&#39;cells&#39;, &#39;1&#39;, &#39;stochastic transcription&#39;)</title>\n<path fill=\"none\" stroke=\"black\" stroke-dasharray=\"5,2\" d=\"M1331.75,-104.42C1342.63,-93.15 1354.47,-81.77 1366.31,-72 1382.28,-58.84 1401.73,-46.37 1417.9,-36.84\"/>\n</g>\n<!-- (&#39;cells&#39;, &#39;1&#39;, &#39;RNA [counts]&#39;)&#45;&gt;(&#39;cells&#39;, &#39;1&#39;, &#39;counts to mg/mL&#39;) -->\n<g id=\"edge26\" class=\"edge\">\n<title>(&#39;cells&#39;, &#39;1&#39;, &#39;RNA [counts]&#39;)&#45;&gt;(&#39;cells&#39;, &#39;1&#39;, &#39;counts to mg/mL&#39;)</title>\n<path fill=\"none\" stroke=\"black\" stroke-dasharray=\"5,2\" d=\"M1254.85,-92.12C1246.31,-71.66 1237.64,-50.92 1231.74,-36.78\"/>\n</g>\n<!-- (&#39;cells&#39;, &#39;1&#39;, &#39;RNA [mg/mL]&#39;)&#45;&gt;(&#39;cells&#39;, &#39;1&#39;, &#39;counts to mg/mL&#39;) -->\n<g id=\"edge27\" class=\"edge\">\n<title>(&#39;cells&#39;, &#39;1&#39;, &#39;RNA [mg/mL]&#39;)&#45;&gt;(&#39;cells&#39;, &#39;1&#39;, &#39;counts to mg/mL&#39;)</title>\n<path fill=\"none\" stroke=\"black\" stroke-dasharray=\"5,2\" d=\"M1600.06,-109.98C1580.2,-95.68 1557.29,-81.45 1534.31,-72 1512.54,-63.04 1379.35,-42.09 1294.79,-29.38\"/>\n</g>\n<!-- (&#39;cells&#39;, &#39;1&#39;, &#39;RNA [mg/mL]&#39;)&#45;&gt;(&#39;cells&#39;, &#39;1&#39;, &#39;deterministic translation&#39;) -->\n<g id=\"edge28\" class=\"edge\">\n<title>(&#39;cells&#39;, &#39;1&#39;, &#39;RNA [mg/mL]&#39;)&#45;&gt;(&#39;cells&#39;, &#39;1&#39;, &#39;deterministic translation&#39;)</title>\n<path fill=\"none\" stroke=\"black\" stroke-dasharray=\"5,2\" d=\"M1707.56,-97.9C1724.35,-75.73 1741.98,-52.45 1753.7,-36.97\"/>\n</g>\n<!-- (&#39;cells&#39;, &#39;1&#39;, &#39;Protein [mg/mL]&#39;)&#45;&gt;(&#39;cells&#39;, &#39;1&#39;, &#39;deterministic translation&#39;) -->\n<g id=\"edge29\" class=\"edge\">\n<title>(&#39;cells&#39;, &#39;1&#39;, &#39;Protein [mg/mL]&#39;)&#45;&gt;(&#39;cells&#39;, &#39;1&#39;, &#39;deterministic translation&#39;)</title>\n<path fill=\"none\" stroke=\"black\" stroke-dasharray=\"5,2\" d=\"M1827.53,-91.71C1810.76,-71.46 1793.8,-50.99 1782.18,-36.95\"/>\n</g>\n<!-- (&#39;cells&#39;, &#39;1&#39;, &#39;volume&#39;)&#45;&gt;(&#39;cells&#39;, &#39;1&#39;, &#39;division&#39;) -->\n<g id=\"edge21\" class=\"edge\">\n<title>(&#39;cells&#39;, &#39;1&#39;, &#39;volume&#39;)&#45;&gt;(&#39;cells&#39;, &#39;1&#39;, &#39;division&#39;)</title>\n<path fill=\"none\" stroke=\"black\" stroke-dasharray=\"5,2\" d=\"M1094.55,-123.9C1080.89,-95.94 1062.62,-58.53 1051.99,-36.77\"/>\n</g>\n<!-- (&#39;cells&#39;, &#39;1&#39;, &#39;volume&#39;)&#45;&gt;(&#39;cells&#39;, &#39;1&#39;, &#39;counts to mg/mL&#39;) -->\n<g id=\"edge25\" class=\"edge\">\n<title>(&#39;cells&#39;, &#39;1&#39;, &#39;volume&#39;)&#45;&gt;(&#39;cells&#39;, &#39;1&#39;, &#39;counts to mg/mL&#39;)</title>\n<path fill=\"none\" stroke=\"black\" stroke-dasharray=\"5,2\" d=\"M1131.71,-124.45C1141.45,-107.8 1153.99,-88.16 1167.31,-72 1177.8,-59.28 1191.24,-46.65 1202.43,-36.91\"/>\n</g>\n<!-- (&#39;cells&#39;, &#39;2&#39;, &#39;DNA [counts]&#39;) -->\n<g id=\"node9\" class=\"node\">\n<title>(&#39;cells&#39;, &#39;2&#39;, &#39;DNA [counts]&#39;)</title>\n<ellipse fill=\"none\" stroke=\"black\" stroke-width=\"2\" cx=\"902.31\" cy=\"-161.28\" rx=\"74.9\" ry=\"74.9\"/>\n<text text-anchor=\"start\" x=\"845.93\" y=\"-155.28\" font-family=\"Times,serif\" font-size=\"20.00\">DNA [counts]</text>\n</g>\n<!-- (&#39;cells&#39;, &#39;2&#39;)&#45;&gt;(&#39;cells&#39;, &#39;2&#39;, &#39;DNA [counts]&#39;) -->\n<g id=\"edge16\" class=\"edge\">\n<title>(&#39;cells&#39;, &#39;2&#39;)&#45;&gt;(&#39;cells&#39;, &#39;2&#39;, &#39;DNA [counts]&#39;)</title>\n<path fill=\"none\" stroke=\"black\" stroke-width=\"2\" d=\"M677.54,-300.07C707.6,-293.73 768.66,-278.34 813.31,-250.56 827.36,-241.83 840.91,-230.5 853.02,-218.88\"/>\n</g>\n<!-- (&#39;cells&#39;, &#39;2&#39;, &#39;RNA [counts]&#39;) -->\n<g id=\"node10\" class=\"node\">\n<title>(&#39;cells&#39;, &#39;2&#39;, &#39;RNA [counts]&#39;)</title>\n<ellipse fill=\"none\" stroke=\"black\" stroke-width=\"2\" cx=\"659.31\" cy=\"-161.28\" rx=\"74.19\" ry=\"74.19\"/>\n<text text-anchor=\"start\" x=\"603.48\" y=\"-155.28\" font-family=\"Times,serif\" font-size=\"20.00\">RNA [counts]</text>\n</g>\n<!-- (&#39;cells&#39;, &#39;2&#39;)&#45;&gt;(&#39;cells&#39;, &#39;2&#39;, &#39;RNA [counts]&#39;) -->\n<g id=\"edge17\" class=\"edge\">\n<title>(&#39;cells&#39;, &#39;2&#39;)&#45;&gt;(&#39;cells&#39;, &#39;2&#39;, &#39;RNA [counts]&#39;)</title>\n<path fill=\"none\" stroke=\"black\" stroke-width=\"2\" d=\"M659.31,-285.67C659.31,-272.9 659.31,-254.78 659.31,-236.36\"/>\n</g>\n<!-- (&#39;cells&#39;, &#39;2&#39;, &#39;RNA [mg/mL]&#39;) -->\n<g id=\"node11\" class=\"node\">\n<title>(&#39;cells&#39;, &#39;2&#39;, &#39;RNA [mg/mL]&#39;)</title>\n<ellipse fill=\"none\" stroke=\"black\" stroke-width=\"2\" cx=\"292.31\" cy=\"-161.28\" rx=\"78.5\" ry=\"78.5\"/>\n<text text-anchor=\"start\" x=\"233.14\" y=\"-155.28\" font-family=\"Times,serif\" font-size=\"20.00\">RNA [mg/mL]</text>\n</g>\n<!-- (&#39;cells&#39;, &#39;2&#39;)&#45;&gt;(&#39;cells&#39;, &#39;2&#39;, &#39;RNA [mg/mL]&#39;) -->\n<g id=\"edge18\" class=\"edge\">\n<title>(&#39;cells&#39;, &#39;2&#39;)&#45;&gt;(&#39;cells&#39;, &#39;2&#39;, &#39;RNA [mg/mL]&#39;)</title>\n<path fill=\"none\" stroke=\"black\" stroke-width=\"2\" d=\"M644.76,-292.85C640.88,-290.44 636.58,-288.13 632.31,-286.56 526.11,-247.57 481.47,-301.24 380.31,-250.56 366.38,-243.58 353.33,-233.55 341.76,-222.72\"/>\n</g>\n<!-- (&#39;cells&#39;, &#39;2&#39;, &#39;Protein [mg/mL]&#39;) -->\n<g id=\"node12\" class=\"node\">\n<title>(&#39;cells&#39;, &#39;2&#39;, &#39;Protein [mg/mL]&#39;)</title>\n<ellipse fill=\"none\" stroke=\"black\" stroke-width=\"2\" cx=\"478.31\" cy=\"-161.28\" rx=\"89.28\" ry=\"89.28\"/>\n<text text-anchor=\"start\" x=\"410.82\" y=\"-155.28\" font-family=\"Times,serif\" font-size=\"20.00\">Protein [mg/mL]</text>\n</g>\n<!-- (&#39;cells&#39;, &#39;2&#39;)&#45;&gt;(&#39;cells&#39;, &#39;2&#39;, &#39;Protein [mg/mL]&#39;) -->\n<g id=\"edge19\" class=\"edge\">\n<title>(&#39;cells&#39;, &#39;2&#39;)&#45;&gt;(&#39;cells&#39;, &#39;2&#39;, &#39;Protein [mg/mL]&#39;)</title>\n<path fill=\"none\" stroke=\"black\" stroke-width=\"2\" d=\"M644.05,-293.91C620.95,-279.28 579.44,-252.95 576.31,-250.56 565.38,-242.24 554.19,-232.97 543.46,-223.65\"/>\n</g>\n<!-- (&#39;cells&#39;, &#39;2&#39;, &#39;volume&#39;) -->\n<g id=\"node13\" class=\"node\">\n<title>(&#39;cells&#39;, &#39;2&#39;, &#39;volume&#39;)</title>\n<ellipse fill=\"none\" stroke=\"black\" stroke-width=\"2\" cx=\"116.31\" cy=\"-161.28\" rx=\"40.72\" ry=\"40.72\"/>\n<text text-anchor=\"start\" x=\"86.32\" y=\"-155.28\" font-family=\"Times,serif\" font-size=\"20.00\">volume</text>\n</g>\n<!-- (&#39;cells&#39;, &#39;2&#39;)&#45;&gt;(&#39;cells&#39;, &#39;2&#39;, &#39;volume&#39;) -->\n<g id=\"edge20\" class=\"edge\">\n<title>(&#39;cells&#39;, &#39;2&#39;)&#45;&gt;(&#39;cells&#39;, &#39;2&#39;, &#39;volume&#39;)</title>\n<path fill=\"none\" stroke=\"black\" stroke-width=\"2\" d=\"M644.83,-292.66C640.95,-290.25 636.63,-287.99 632.31,-286.56 534.77,-254.25 259.14,-303.9 171.31,-250.56 152.48,-239.13 139.11,-218.54 130.27,-200.12\"/>\n</g>\n<!-- (&#39;cells&#39;, &#39;2&#39;)&#45;&gt;(&#39;cells&#39;, &#39;2&#39;, &#39;division&#39;) -->\n<!-- (&#39;cells&#39;, &#39;2&#39;, &#39;stochastic transcription&#39;) -->\n<g id=\"node21\" class=\"node\">\n<title>(&#39;cells&#39;, &#39;2&#39;, &#39;stochastic transcription&#39;)</title>\n<polygon fill=\"none\" stroke=\"black\" stroke-width=\"2\" points=\"893.23,-36 705.4,-36 705.4,0 893.23,0 893.23,-36\"/>\n<text text-anchor=\"start\" x=\"706.84\" y=\"-12\" font-family=\"Times,serif\" font-size=\"20.00\">stochastic transcription</text>\n</g>\n<!-- (&#39;cells&#39;, &#39;2&#39;)&#45;&gt;(&#39;cells&#39;, &#39;2&#39;, &#39;stochastic transcription&#39;) -->\n<!-- (&#39;cells&#39;, &#39;2&#39;, &#39;counts to mg/mL&#39;) -->\n<g id=\"node22\" class=\"node\">\n<title>(&#39;cells&#39;, &#39;2&#39;, &#39;counts to mg/mL&#39;)</title>\n<polygon fill=\"none\" stroke=\"black\" stroke-width=\"2\" points=\"308.08,-36 168.54,-36 168.54,0 308.08,0 308.08,-36\"/>\n<text text-anchor=\"start\" x=\"169.98\" y=\"-12\" font-family=\"Times,serif\" font-size=\"20.00\">counts to mg/mL</text>\n</g>\n<!-- (&#39;cells&#39;, &#39;2&#39;)&#45;&gt;(&#39;cells&#39;, &#39;2&#39;, &#39;counts to mg/mL&#39;) -->\n<!-- (&#39;cells&#39;, &#39;2&#39;, &#39;deterministic translation&#39;) -->\n<g id=\"node23\" class=\"node\">\n<title>(&#39;cells&#39;, &#39;2&#39;, &#39;deterministic translation&#39;)</title>\n<polygon fill=\"none\" stroke=\"black\" stroke-width=\"2\" points=\"576.67,-36 379.96,-36 379.96,0 576.67,0 576.67,-36\"/>\n<text text-anchor=\"start\" x=\"381.4\" y=\"-12\" font-family=\"Times,serif\" font-size=\"20.00\">deterministic translation</text>\n</g>\n<!-- (&#39;cells&#39;, &#39;2&#39;)&#45;&gt;(&#39;cells&#39;, &#39;2&#39;, &#39;deterministic translation&#39;) -->\n<!-- (&#39;cells&#39;, &#39;2&#39;, &#39;DNA [counts]&#39;)&#45;&gt;(&#39;cells&#39;, &#39;2&#39;, &#39;stochastic transcription&#39;) -->\n<g id=\"edge33\" class=\"edge\">\n<title>(&#39;cells&#39;, &#39;2&#39;, &#39;DNA [counts]&#39;)&#45;&gt;(&#39;cells&#39;, &#39;2&#39;, &#39;stochastic transcription&#39;)</title>\n<path fill=\"none\" stroke=\"black\" stroke-dasharray=\"5,2\" d=\"M858.33,-99.96C841.71,-77.16 824.02,-52.89 812.39,-36.94\"/>\n</g>\n<!-- (&#39;cells&#39;, &#39;2&#39;, &#39;RNA [counts]&#39;)&#45;&gt;(&#39;cells&#39;, &#39;2&#39;, &#39;stochastic transcription&#39;) -->\n<g id=\"edge32\" class=\"edge\">\n<title>(&#39;cells&#39;, &#39;2&#39;, &#39;RNA [counts]&#39;)&#45;&gt;(&#39;cells&#39;, &#39;2&#39;, &#39;stochastic transcription&#39;)</title>\n<path fill=\"none\" stroke=\"black\" stroke-dasharray=\"5,2\" d=\"M711.45,-107.67C736.17,-82.73 764.08,-54.56 781.68,-36.8\"/>\n</g>\n<!-- (&#39;cells&#39;, &#39;2&#39;, &#39;RNA [counts]&#39;)&#45;&gt;(&#39;cells&#39;, &#39;2&#39;, &#39;counts to mg/mL&#39;) -->\n<g id=\"edge35\" class=\"edge\">\n<title>(&#39;cells&#39;, &#39;2&#39;, &#39;RNA [counts]&#39;)&#45;&gt;(&#39;cells&#39;, &#39;2&#39;, &#39;counts to mg/mL&#39;)</title>\n<path fill=\"none\" stroke=\"black\" stroke-dasharray=\"5,2\" d=\"M614.43,-101.34C603.17,-90 590.27,-79.37 576.31,-72 564.58,-65.8 404.44,-42.42 308.87,-28.87\"/>\n</g>\n<!-- (&#39;cells&#39;, &#39;2&#39;, &#39;RNA [mg/mL]&#39;)&#45;&gt;(&#39;cells&#39;, &#39;2&#39;, &#39;counts to mg/mL&#39;) -->\n<g id=\"edge36\" class=\"edge\">\n<title>(&#39;cells&#39;, &#39;2&#39;, &#39;RNA [mg/mL]&#39;)&#45;&gt;(&#39;cells&#39;, &#39;2&#39;, &#39;counts to mg/mL&#39;)</title>\n<path fill=\"none\" stroke=\"black\" stroke-dasharray=\"5,2\" d=\"M264.37,-87.16C257.21,-68.44 250.15,-49.95 245.18,-36.97\"/>\n</g>\n<!-- (&#39;cells&#39;, &#39;2&#39;, &#39;RNA [mg/mL]&#39;)&#45;&gt;(&#39;cells&#39;, &#39;2&#39;, &#39;deterministic translation&#39;) -->\n<g id=\"edge37\" class=\"edge\">\n<title>(&#39;cells&#39;, &#39;2&#39;, &#39;RNA [mg/mL]&#39;)&#45;&gt;(&#39;cells&#39;, &#39;2&#39;, &#39;deterministic translation&#39;)</title>\n<path fill=\"none\" stroke=\"black\" stroke-dasharray=\"5,2\" d=\"M344.95,-102.55C356.1,-91.77 368.18,-81.06 380.31,-72 398.45,-58.46 420.48,-46.23 439.05,-36.93\"/>\n</g>\n<!-- (&#39;cells&#39;, &#39;2&#39;, &#39;Protein [mg/mL]&#39;)&#45;&gt;(&#39;cells&#39;, &#39;2&#39;, &#39;deterministic translation&#39;) -->\n<g id=\"edge38\" class=\"edge\">\n<title>(&#39;cells&#39;, &#39;2&#39;, &#39;Protein [mg/mL]&#39;)&#45;&gt;(&#39;cells&#39;, &#39;2&#39;, &#39;deterministic translation&#39;)</title>\n<path fill=\"none\" stroke=\"black\" stroke-dasharray=\"5,2\" d=\"M478.31,-71.21C478.31,-58.2 478.31,-46.09 478.31,-36.82\"/>\n</g>\n<!-- (&#39;cells&#39;, &#39;2&#39;, &#39;volume&#39;)&#45;&gt;(&#39;cells&#39;, &#39;2&#39;, &#39;division&#39;) -->\n<g id=\"edge30\" class=\"edge\">\n<title>(&#39;cells&#39;, &#39;2&#39;, &#39;volume&#39;)&#45;&gt;(&#39;cells&#39;, &#39;2&#39;, &#39;division&#39;)</title>\n<path fill=\"none\" stroke=\"black\" stroke-dasharray=\"5,2\" d=\"M98.55,-123.9C84.89,-95.94 66.62,-58.53 55.99,-36.77\"/>\n</g>\n<!-- (&#39;cells&#39;, &#39;2&#39;, &#39;volume&#39;)&#45;&gt;(&#39;cells&#39;, &#39;2&#39;, &#39;counts to mg/mL&#39;) -->\n<g id=\"edge34\" class=\"edge\">\n<title>(&#39;cells&#39;, &#39;2&#39;, &#39;volume&#39;)&#45;&gt;(&#39;cells&#39;, &#39;2&#39;, &#39;counts to mg/mL&#39;)</title>\n<path fill=\"none\" stroke=\"black\" stroke-dasharray=\"5,2\" d=\"M134.9,-124.4C144.54,-107.55 157.24,-87.75 171.31,-72 183.08,-58.84 198.38,-46.46 211.39,-36.98\"/>\n</g>\n<!-- (&#39;fields&#39;,) -->\n<g id=\"node14\" class=\"node\">\n<title>(&#39;fields&#39;,)</title>\n<ellipse fill=\"none\" stroke=\"black\" stroke-width=\"2\" cx=\"1410.31\" cy=\"-419.44\" rx=\"29.93\" ry=\"29.93\"/>\n<text text-anchor=\"start\" x=\"1388.64\" y=\"-413.44\" font-family=\"Times,serif\" font-size=\"20.00\">fields</text>\n</g>\n<!-- (&#39;fields&#39;,)&#45;&gt;(&#39;diffusion&#39;,) -->\n<g id=\"edge42\" class=\"edge\">\n<title>(&#39;fields&#39;,)&#45;&gt;(&#39;diffusion&#39;,)</title>\n<path fill=\"none\" stroke=\"black\" stroke-dasharray=\"5,2\" d=\"M1397.38,-391.4C1387.27,-370.27 1373.51,-341.51 1364.77,-323.24\"/>\n</g>\n<!-- (&#39;dimensions&#39;,) -->\n<g id=\"node15\" class=\"node\">\n<title>(&#39;dimensions&#39;,)</title>\n<ellipse fill=\"none\" stroke=\"black\" stroke-width=\"2\" cx=\"1301.31\" cy=\"-419.44\" rx=\"60.87\" ry=\"60.87\"/>\n<text text-anchor=\"start\" x=\"1255.76\" y=\"-413.44\" font-family=\"Times,serif\" font-size=\"20.00\">dimensions</text>\n</g>\n<!-- (&#39;dimensions&#39;,)&#45;&gt;(&#39;diffusion&#39;,) -->\n<g id=\"edge40\" class=\"edge\">\n<title>(&#39;dimensions&#39;,)&#45;&gt;(&#39;diffusion&#39;,)</title>\n<path fill=\"none\" stroke=\"black\" stroke-dasharray=\"5,2\" d=\"M1328.01,-363.65C1335.12,-349.05 1342.31,-334.3 1347.66,-323.31\"/>\n</g>\n</g>\n</svg>\n",
      "text/plain": [
       "<graphviz.graphs.Digraph at 0x1074a4bb0>"
      ]
     },
     "execution_count": 10,
     "metadata": {},
     "output_type": "execute_result"
    }
   ],
   "execution_count": 10
  },
  {
   "cell_type": "code",
   "id": "7bbdc443-e785-459c-83a3-b41ac00a6804",
   "metadata": {
    "ExecuteTime": {
     "end_time": "2025-02-22T14:15:22.580796Z",
     "start_time": "2025-02-22T14:15:22.579645Z"
    }
   },
   "source": [],
   "outputs": [],
   "execution_count": null
  }
 ],
 "metadata": {
  "kernelspec": {
   "display_name": "Python 3 (ipykernel)",
   "language": "python",
   "name": "python3"
  },
  "language_info": {
   "codemirror_mode": {
    "name": "ipython",
    "version": 3
   },
   "file_extension": ".py",
   "mimetype": "text/x-python",
   "name": "python",
   "nbconvert_exporter": "python",
   "pygments_lexer": "ipython3",
   "version": "3.9.6"
  }
 },
 "nbformat": 4,
 "nbformat_minor": 5
}
