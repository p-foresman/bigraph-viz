{
 "cells": [
  {
   "cell_type": "code",
   "id": "7f55f8bf7880f64c",
   "metadata": {
    "ExecuteTime": {
     "end_time": "2025-02-22T22:49:29.313547Z",
     "start_time": "2025-02-22T22:49:29.305962Z"
    }
   },
   "source": [
    "from wcm.ecoli import Ecoli\n",
    "\n",
    "# Create an instance of Ecoli\n",
    "ecoli = Ecoli()\n",
    "\n",
    "# Display parameter adjustment UI\n",
    "ecoli.adjust_parameters()\n"
   ],
   "outputs": [
    {
     "data": {
      "text/plain": [
       "VBox(children=(FloatSlider(value=1.0, description='adhE Expression', layout=Layout(width='80%'), max=2.0, min=…"
      ],
      "application/vnd.jupyter.widget-view+json": {
       "version_major": 2,
       "version_minor": 0,
       "model_id": "be001019a56847e88fe0fcec2f9081d2"
      }
     },
     "metadata": {},
     "output_type": "display_data"
    }
   ],
   "execution_count": 4
  }
 ],
 "metadata": {
  "kernelspec": {
   "display_name": "Python 3 (ipykernel)",
   "language": "python",
   "name": "python3"
  },
  "language_info": {
   "codemirror_mode": {
    "name": "ipython",
    "version": 3
   },
   "file_extension": ".py",
   "mimetype": "text/x-python",
   "name": "python",
   "nbconvert_exporter": "python",
   "pygments_lexer": "ipython3",
   "version": "3.9.6"
  }
 },
 "nbformat": 4,
 "nbformat_minor": 5
}
