{
 "cells": [
  {
   "cell_type": "code",
   "execution_count": 1,
   "id": "bb80269d-cc1e-42c9-9667-57ade3f98a21",
   "metadata": {
    "tags": []
   },
   "outputs": [],
   "source": [
    "from bigraph_viz import plot_bigraph\n",
    "\n",
    "plot_settings = {}"
   ]
  },
  {
   "cell_type": "code",
   "execution_count": 2,
   "id": "f90fe969-5506-4c10-8828-499b9a361017",
   "metadata": {
    "tags": []
   },
   "outputs": [
    {
     "name": "stdout",
     "output_type": "stream",
     "text": [
      "-e git+https://github.com/vivarium-collective/bigraph-viz.git@846f9a2bfd4f601146f9143a7f5bf2c80e559393#egg=bigraph_viz\n"
     ]
    }
   ],
   "source": [
    "# !pip install bigraph-viz --upgrade\n",
    "!pip freeze | grep bigraph-viz"
   ]
  },
  {
   "cell_type": "code",
   "execution_count": 3,
   "id": "51ccd25e-7bad-48ac-ac75-a08f8eb40e60",
   "metadata": {
    "tags": []
   },
   "outputs": [
    {
     "name": "stdout",
     "output_type": "stream",
     "text": [
      "Help on function plot_bigraph in module bigraph_viz.diagram:\n",
      "\n",
      "plot_bigraph(state, schema=None, core=None, out_dir=None, filename=None, file_format='png', size='16,10', node_label_size='12pt', show_values=False, show_types=False, port_labels=True, port_label_size='10pt', rankdir='TB', print_source=False, dpi='70', label_margin='0.05', node_border_colors=None, node_fill_colors=None, node_groups=False, remove_nodes=None, invisible_edges=False, remove_process_place_edges=False, show_process_schema_keys=['interval'])\n",
      "\n"
     ]
    }
   ],
   "source": [
    "help(plot_bigraph)"
   ]
  },
  {
   "cell_type": "markdown",
   "id": "7c4c0d22-0255-458f-9531-ffd22b59b2fb",
   "metadata": {},
   "source": [
    "# example \n",
    "\n",
    "This example uses a composite specification that has nesting, multiple processes, types and values included."
   ]
  },
  {
   "cell_type": "code",
   "execution_count": 6,
   "id": "5f0f7e7e-4216-40ac-a39f-3c6f7599b526",
   "metadata": {
    "tags": []
   },
   "outputs": [
    {
     "ename": "Exception",
     "evalue": "schema not found for type: 2",
     "output_type": "error",
     "traceback": [
      "\u001b[0;31m---------------------------------------------------------------------------\u001b[0m",
      "\u001b[0;31mException\u001b[0m                                 Traceback (most recent call last)",
      "Cell \u001b[0;32mIn[6], line 42\u001b[0m\n\u001b[1;32m      1\u001b[0m nested_composite_spec \u001b[38;5;241m=\u001b[39m {\n\u001b[1;32m      2\u001b[0m     \u001b[38;5;124m'\u001b[39m\u001b[38;5;124mstore1\u001b[39m\u001b[38;5;124m'\u001b[39m: {\n\u001b[1;32m      3\u001b[0m         \u001b[38;5;124m'\u001b[39m\u001b[38;5;124mstore1.1\u001b[39m\u001b[38;5;124m'\u001b[39m: {\n\u001b[0;32m   (...)\u001b[0m\n\u001b[1;32m     40\u001b[0m     }\n\u001b[1;32m     41\u001b[0m }\n\u001b[0;32m---> 42\u001b[0m \u001b[43mplot_bigraph\u001b[49m\u001b[43m(\u001b[49m\u001b[43mnested_composite_spec\u001b[49m\u001b[43m)\u001b[49m\n",
      "File \u001b[0;32m~/code/bigraph-viz/bigraph_viz/diagram.py:430\u001b[0m, in \u001b[0;36mplot_bigraph\u001b[0;34m(state, schema, core, out_dir, filename, file_format, size, node_label_size, show_values, show_types, port_labels, port_label_size, rankdir, print_source, dpi, label_margin, node_border_colors, node_fill_colors, node_groups, remove_nodes, invisible_edges, remove_process_place_edges, show_process_schema_keys)\u001b[0m\n\u001b[1;32m    427\u001b[0m \u001b[38;5;28;01mif\u001b[39;00m \u001b[38;5;129;01mnot\u001b[39;00m core\u001b[38;5;241m.\u001b[39mexists(\u001b[38;5;124m'\u001b[39m\u001b[38;5;124mprocess\u001b[39m\u001b[38;5;124m'\u001b[39m):\n\u001b[1;32m    428\u001b[0m     core\u001b[38;5;241m.\u001b[39mregister(\u001b[38;5;124m'\u001b[39m\u001b[38;5;124mprocess\u001b[39m\u001b[38;5;124m'\u001b[39m, process_type)\n\u001b[0;32m--> 430\u001b[0m schema, state \u001b[38;5;241m=\u001b[39m \u001b[43mcore\u001b[49m\u001b[38;5;241;43m.\u001b[39;49m\u001b[43mcomplete\u001b[49m\u001b[43m(\u001b[49m\u001b[43mschema\u001b[49m\u001b[43m,\u001b[49m\u001b[43m \u001b[49m\u001b[43mstate\u001b[49m\u001b[43m)\u001b[49m\n\u001b[1;32m    432\u001b[0m \u001b[38;5;66;03m# parse out the network\u001b[39;00m\n\u001b[1;32m    433\u001b[0m graph_dict \u001b[38;5;241m=\u001b[39m get_graph_dict(\n\u001b[1;32m    434\u001b[0m     schema\u001b[38;5;241m=\u001b[39mschema,\n\u001b[1;32m    435\u001b[0m     state\u001b[38;5;241m=\u001b[39mstate,\n\u001b[0;32m   (...)\u001b[0m\n\u001b[1;32m    438\u001b[0m     show_process_schema_keys\u001b[38;5;241m=\u001b[39mshow_process_schema_keys,\n\u001b[1;32m    439\u001b[0m )\n",
      "File \u001b[0;32m~/code/bigraph-schema/bigraph_schema/type_system.py:1334\u001b[0m, in \u001b[0;36mTypeSystem.complete\u001b[0;34m(self, initial_schema, initial_state)\u001b[0m\n\u001b[1;32m   1328\u001b[0m state \u001b[38;5;241m=\u001b[39m \u001b[38;5;28mself\u001b[39m\u001b[38;5;241m.\u001b[39mhydrate(\n\u001b[1;32m   1329\u001b[0m     full_schema,\n\u001b[1;32m   1330\u001b[0m     initial_state)\n\u001b[1;32m   1332\u001b[0m \u001b[38;5;66;03m# fill in the parts of the composition schema\u001b[39;00m\n\u001b[1;32m   1333\u001b[0m \u001b[38;5;66;03m# determined by the state\u001b[39;00m\n\u001b[0;32m-> 1334\u001b[0m schema, state \u001b[38;5;241m=\u001b[39m \u001b[38;5;28;43mself\u001b[39;49m\u001b[38;5;241;43m.\u001b[39;49m\u001b[43minfer_schema\u001b[49m\u001b[43m(\u001b[49m\n\u001b[1;32m   1335\u001b[0m \u001b[43m    \u001b[49m\u001b[43mfull_schema\u001b[49m\u001b[43m,\u001b[49m\n\u001b[1;32m   1336\u001b[0m \u001b[43m    \u001b[49m\u001b[43mstate\u001b[49m\u001b[43m)\u001b[49m\n\u001b[1;32m   1338\u001b[0m final_state \u001b[38;5;241m=\u001b[39m \u001b[38;5;28mself\u001b[39m\u001b[38;5;241m.\u001b[39mfill(schema, state)\n\u001b[1;32m   1340\u001b[0m \u001b[38;5;66;03m# TODO: add flag to types.access(copy=True)\u001b[39;00m\n",
      "File \u001b[0;32m~/code/bigraph-schema/bigraph_schema/type_system.py:1260\u001b[0m, in \u001b[0;36mTypeSystem.infer_schema\u001b[0;34m(self, schema, state, top_state, path)\u001b[0m\n\u001b[1;32m   1257\u001b[0m             inner_path \u001b[38;5;241m=\u001b[39m path \u001b[38;5;241m+\u001b[39m (key,)\n\u001b[1;32m   1258\u001b[0m             \u001b[38;5;66;03m# if get_path(schema, inner_path) is None or get_path(state, inner_path) is None:\u001b[39;00m\n\u001b[0;32m-> 1260\u001b[0m             schema, top_state \u001b[38;5;241m=\u001b[39m \u001b[38;5;28;43mself\u001b[39;49m\u001b[38;5;241;43m.\u001b[39;49m\u001b[43minfer_schema\u001b[49m\u001b[43m(\u001b[49m\n\u001b[1;32m   1261\u001b[0m \u001b[43m                \u001b[49m\u001b[43mschema\u001b[49m\u001b[43m,\u001b[49m\n\u001b[1;32m   1262\u001b[0m \u001b[43m                \u001b[49m\u001b[43mvalue\u001b[49m\u001b[43m,\u001b[49m\n\u001b[1;32m   1263\u001b[0m \u001b[43m                \u001b[49m\u001b[43mtop_state\u001b[49m\u001b[38;5;241;43m=\u001b[39;49m\u001b[43mtop_state\u001b[49m\u001b[43m,\u001b[49m\n\u001b[1;32m   1264\u001b[0m \u001b[43m                \u001b[49m\u001b[43mpath\u001b[49m\u001b[38;5;241;43m=\u001b[39;49m\u001b[43minner_path\u001b[49m\u001b[43m)\u001b[49m\n\u001b[1;32m   1266\u001b[0m \u001b[38;5;28;01melif\u001b[39;00m \u001b[38;5;28misinstance\u001b[39m(state, \u001b[38;5;28mstr\u001b[39m):\n\u001b[1;32m   1267\u001b[0m     \u001b[38;5;28;01mpass\u001b[39;00m\n",
      "File \u001b[0;32m~/code/bigraph-schema/bigraph_schema/type_system.py:1260\u001b[0m, in \u001b[0;36mTypeSystem.infer_schema\u001b[0;34m(self, schema, state, top_state, path)\u001b[0m\n\u001b[1;32m   1257\u001b[0m             inner_path \u001b[38;5;241m=\u001b[39m path \u001b[38;5;241m+\u001b[39m (key,)\n\u001b[1;32m   1258\u001b[0m             \u001b[38;5;66;03m# if get_path(schema, inner_path) is None or get_path(state, inner_path) is None:\u001b[39;00m\n\u001b[0;32m-> 1260\u001b[0m             schema, top_state \u001b[38;5;241m=\u001b[39m \u001b[38;5;28;43mself\u001b[39;49m\u001b[38;5;241;43m.\u001b[39;49m\u001b[43minfer_schema\u001b[49m\u001b[43m(\u001b[49m\n\u001b[1;32m   1261\u001b[0m \u001b[43m                \u001b[49m\u001b[43mschema\u001b[49m\u001b[43m,\u001b[49m\n\u001b[1;32m   1262\u001b[0m \u001b[43m                \u001b[49m\u001b[43mvalue\u001b[49m\u001b[43m,\u001b[49m\n\u001b[1;32m   1263\u001b[0m \u001b[43m                \u001b[49m\u001b[43mtop_state\u001b[49m\u001b[38;5;241;43m=\u001b[39;49m\u001b[43mtop_state\u001b[49m\u001b[43m,\u001b[49m\n\u001b[1;32m   1264\u001b[0m \u001b[43m                \u001b[49m\u001b[43mpath\u001b[49m\u001b[38;5;241;43m=\u001b[39;49m\u001b[43minner_path\u001b[49m\u001b[43m)\u001b[49m\n\u001b[1;32m   1266\u001b[0m \u001b[38;5;28;01melif\u001b[39;00m \u001b[38;5;28misinstance\u001b[39m(state, \u001b[38;5;28mstr\u001b[39m):\n\u001b[1;32m   1267\u001b[0m     \u001b[38;5;28;01mpass\u001b[39;00m\n",
      "File \u001b[0;32m~/code/bigraph-schema/bigraph_schema/type_system.py:1218\u001b[0m, in \u001b[0;36mTypeSystem.infer_schema\u001b[0;34m(self, schema, state, top_state, path)\u001b[0m\n\u001b[1;32m   1211\u001b[0m state_type \u001b[38;5;241m=\u001b[39m {\n\u001b[1;32m   1212\u001b[0m     key: value\n\u001b[1;32m   1213\u001b[0m     \u001b[38;5;28;01mfor\u001b[39;00m key, value \u001b[38;5;129;01min\u001b[39;00m state\u001b[38;5;241m.\u001b[39mitems()\n\u001b[1;32m   1214\u001b[0m     \u001b[38;5;28;01mif\u001b[39;00m key\u001b[38;5;241m.\u001b[39mstartswith(\u001b[38;5;124m'\u001b[39m\u001b[38;5;124m_\u001b[39m\u001b[38;5;124m'\u001b[39m)}\n\u001b[1;32m   1215\u001b[0m state_schema \u001b[38;5;241m=\u001b[39m \u001b[38;5;28mself\u001b[39m\u001b[38;5;241m.\u001b[39maccess(\n\u001b[1;32m   1216\u001b[0m     state_type)\n\u001b[0;32m-> 1218\u001b[0m hydrated_state \u001b[38;5;241m=\u001b[39m \u001b[38;5;28;43mself\u001b[39;49m\u001b[38;5;241;43m.\u001b[39;49m\u001b[43mdeserialize\u001b[49m\u001b[43m(\u001b[49m\u001b[43mstate_schema\u001b[49m\u001b[43m,\u001b[49m\u001b[43m \u001b[49m\u001b[43mstate\u001b[49m\u001b[43m)\u001b[49m\n\u001b[1;32m   1219\u001b[0m top_state \u001b[38;5;241m=\u001b[39m set_path(\n\u001b[1;32m   1220\u001b[0m     top_state,\n\u001b[1;32m   1221\u001b[0m     path,\n\u001b[1;32m   1222\u001b[0m     hydrated_state)\n\u001b[1;32m   1224\u001b[0m update \u001b[38;5;241m=\u001b[39m state_type\n",
      "File \u001b[0;32m~/code/bigraph-schema/bigraph_schema/type_system.py:684\u001b[0m, in \u001b[0;36mTypeSystem.deserialize\u001b[0;34m(self, schema, encoded)\u001b[0m\n\u001b[1;32m    682\u001b[0m     \u001b[38;5;28;01mfor\u001b[39;00m key, branch \u001b[38;5;129;01min\u001b[39;00m encoded\u001b[38;5;241m.\u001b[39mitems():\n\u001b[1;32m    683\u001b[0m         \u001b[38;5;28;01mif\u001b[39;00m key \u001b[38;5;129;01min\u001b[39;00m schema:\n\u001b[0;32m--> 684\u001b[0m             result[key] \u001b[38;5;241m=\u001b[39m \u001b[38;5;28;43mself\u001b[39;49m\u001b[38;5;241;43m.\u001b[39;49m\u001b[43mdeserialize\u001b[49m\u001b[43m(\u001b[49m\n\u001b[1;32m    685\u001b[0m \u001b[43m                \u001b[49m\u001b[43mschema\u001b[49m\u001b[43m[\u001b[49m\u001b[43mkey\u001b[49m\u001b[43m]\u001b[49m\u001b[43m,\u001b[49m\n\u001b[1;32m    686\u001b[0m \u001b[43m                \u001b[49m\u001b[43mbranch\u001b[49m\u001b[43m)\u001b[49m\n\u001b[1;32m    687\u001b[0m     \u001b[38;5;28;01mreturn\u001b[39;00m result\n\u001b[1;32m    689\u001b[0m \u001b[38;5;28;01melse\u001b[39;00m:\n",
      "File \u001b[0;32m~/code/bigraph-schema/bigraph_schema/type_system.py:658\u001b[0m, in \u001b[0;36mTypeSystem.deserialize\u001b[0;34m(self, schema, encoded)\u001b[0m\n\u001b[1;32m    657\u001b[0m \u001b[38;5;28;01mdef\u001b[39;00m \u001b[38;5;21mdeserialize\u001b[39m(\u001b[38;5;28mself\u001b[39m, schema, encoded):\n\u001b[0;32m--> 658\u001b[0m     found \u001b[38;5;241m=\u001b[39m \u001b[38;5;28;43mself\u001b[39;49m\u001b[38;5;241;43m.\u001b[39;49m\u001b[43mretrieve\u001b[49m\u001b[43m(\u001b[49m\u001b[43mschema\u001b[49m\u001b[43m)\u001b[49m\n\u001b[1;32m    660\u001b[0m     \u001b[38;5;28;01mif\u001b[39;00m \u001b[38;5;124m'\u001b[39m\u001b[38;5;124m_deserialize\u001b[39m\u001b[38;5;124m'\u001b[39m \u001b[38;5;129;01min\u001b[39;00m found:\n\u001b[1;32m    661\u001b[0m         deserialize \u001b[38;5;241m=\u001b[39m found[\u001b[38;5;124m'\u001b[39m\u001b[38;5;124m_deserialize\u001b[39m\u001b[38;5;124m'\u001b[39m]\n",
      "File \u001b[0;32m~/code/bigraph-schema/bigraph_schema/type_system.py:97\u001b[0m, in \u001b[0;36mTypeSystem.retrieve\u001b[0;34m(self, schema)\u001b[0m\n\u001b[1;32m     95\u001b[0m found \u001b[38;5;241m=\u001b[39m \u001b[38;5;28mself\u001b[39m\u001b[38;5;241m.\u001b[39maccess(schema)\n\u001b[1;32m     96\u001b[0m \u001b[38;5;28;01mif\u001b[39;00m found \u001b[38;5;129;01mis\u001b[39;00m \u001b[38;5;28;01mNone\u001b[39;00m:\n\u001b[0;32m---> 97\u001b[0m     \u001b[38;5;28;01mraise\u001b[39;00m \u001b[38;5;167;01mException\u001b[39;00m(\u001b[38;5;124mf\u001b[39m\u001b[38;5;124m'\u001b[39m\u001b[38;5;124mschema not found for type: \u001b[39m\u001b[38;5;132;01m{\u001b[39;00mschema\u001b[38;5;132;01m}\u001b[39;00m\u001b[38;5;124m'\u001b[39m)\n\u001b[1;32m     98\u001b[0m \u001b[38;5;28;01mreturn\u001b[39;00m found\n",
      "\u001b[0;31mException\u001b[0m: schema not found for type: 2"
     ]
    }
   ],
   "source": [
    "nested_composite_spec = {\n",
    "    'store1': {\n",
    "        'store1.1': {\n",
    "            '_value': 1.1, \n",
    "            '_type': 'float',\n",
    "        },\n",
    "        'store1.2': {\n",
    "            '_value': 2, \n",
    "            '_type': 'int',\n",
    "        },\n",
    "        'store1.3': {\n",
    "            '_value': 1.1, \n",
    "            '_type': 'float',\n",
    "        },\n",
    "        'process1': {\n",
    "            '_outputs': {\n",
    "                'port1': 'float', \n",
    "                'port2': 'int',\n",
    "            },\n",
    "            'outputs': {\n",
    "                'port1': 'store1.1',\n",
    "                'port2': 'store1.2',\n",
    "            }\n",
    "        },\n",
    "        'process2': {\n",
    "            '_outputs': {\n",
    "                'port1': 'float', \n",
    "                'port2': 'int',\n",
    "            },\n",
    "            'outputs': {\n",
    "                'port1': 'store1.1',\n",
    "                'port2': 'store1.2',\n",
    "            }\n",
    "        },\n",
    "    },\n",
    "    'process3': {\n",
    "        'outputs': {\n",
    "            'port1': 'store1',\n",
    "        }\n",
    "    }\n",
    "}\n",
    "plot_bigraph(nested_composite_spec)"
   ]
  },
  {
   "cell_type": "markdown",
   "id": "4f350ca4-bc9b-4e4c-88a1-b6cee212c407",
   "metadata": {},
   "source": [
    "Processes are by default shown with place edges to their outer nodes (see process1 and process2 above). To remove this use `remove_process_place_edges=True`:"
   ]
  },
  {
   "cell_type": "code",
   "execution_count": null,
   "id": "3ac86e22-9914-4508-9890-4105f17c944e",
   "metadata": {
    "tags": []
   },
   "outputs": [],
   "source": [
    "plot_settings['remove_process_place_edges'] = True\n",
    "plot_bigraph(nested_composite_spec, **plot_settings)"
   ]
  },
  {
   "cell_type": "markdown",
   "id": "4b0b0298-8e87-4b84-bfd7-2be0c5947ba7",
   "metadata": {},
   "source": [
    "To remove specific nodes from the vizualization, pass in a list of paths to those nodes. In this example the node in path `('store1', 'store1.3')` is removed:"
   ]
  },
  {
   "cell_type": "code",
   "execution_count": null,
   "id": "9e6b1ea1-8084-41ff-aa87-c654a4d3de08",
   "metadata": {},
   "outputs": [],
   "source": [
    "remove_nodes = [\n",
    "    ('store1', 'store1.3'),\n",
    "]\n",
    "plot_settings['remove_nodes'] = remove_nodes\n",
    "plot_bigraph(nested_composite_spec, **plot_settings)"
   ]
  },
  {
   "cell_type": "markdown",
   "id": "37e51563-8d28-449c-a4ac-53fe99b8de8a",
   "metadata": {},
   "source": [
    "Remove port labels:"
   ]
  },
  {
   "cell_type": "code",
   "execution_count": null,
   "id": "2c109939-715b-4757-9914-388bdb93a213",
   "metadata": {
    "tags": []
   },
   "outputs": [],
   "source": [
    "plot_settings['port_labels'] = False\n",
    "plot_bigraph(nested_composite_spec, **plot_settings)"
   ]
  },
  {
   "cell_type": "markdown",
   "id": "090c8ef7-5d03-4d4a-a5d8-fd9d58506d63",
   "metadata": {},
   "source": [
    "Change node borders or fill colors"
   ]
  },
  {
   "cell_type": "code",
   "execution_count": null,
   "id": "4042e0b5-8677-42ef-ab66-83f08861d867",
   "metadata": {
    "tags": []
   },
   "outputs": [],
   "source": [
    "plot_settings['node_border_colors'] = {\n",
    "    ('store1', 'store1.1'): 'blue',\n",
    "}\n",
    "plot_settings['node_fill_colors'] = {\n",
    "    ('store1', 'store1.2'): 'red',\n",
    "}\n",
    "plot_bigraph(nested_composite_spec, **plot_settings)"
   ]
  },
  {
   "cell_type": "markdown",
   "id": "3ecf0c79-5cd1-4d99-a237-ef7724afe51f",
   "metadata": {},
   "source": [
    "To group nodes use `node_groups`, A list of lists of grouped node paths, which will be visually placed at the same rank."
   ]
  },
  {
   "cell_type": "code",
   "execution_count": null,
   "id": "447cce01-c619-4012-8a4e-1f8edf9515e9",
   "metadata": {
    "tags": []
   },
   "outputs": [],
   "source": [
    "plot_settings['node_groups'] = [\n",
    "    [('store1', 'process1'), ('store1', 'process2'), ('process3',)]\n",
    "]\n",
    "plot_bigraph(nested_composite_spec, **plot_settings)"
   ]
  },
  {
   "cell_type": "markdown",
   "id": "173dd464-0c7f-4b28-a9c2-3d11753ed3fb",
   "metadata": {},
   "source": [
    "Change the orientation with `rankdir` using the graphviz orientation key. `'TB'`=top-to-bottom, `'LR'`=left-to-right. By default this is top-to-bottom."
   ]
  },
  {
   "cell_type": "code",
   "execution_count": null,
   "id": "d0c5d918-4fa9-495c-8424-4254e495efc9",
   "metadata": {
    "tags": []
   },
   "outputs": [],
   "source": [
    "plot_settings['rankdir'] = 'LR'\n",
    "plot_bigraph(nested_composite_spec, **plot_settings)"
   ]
  },
  {
   "cell_type": "code",
   "execution_count": null,
   "id": "7eaeadd9-f04c-4199-a572-26b19ead3bca",
   "metadata": {},
   "outputs": [],
   "source": []
  }
 ],
 "metadata": {
  "kernelspec": {
   "display_name": "Python 3 (ipykernel)",
   "language": "python",
   "name": "python3"
  },
  "language_info": {
   "codemirror_mode": {
    "name": "ipython",
    "version": 3
   },
   "file_extension": ".py",
   "mimetype": "text/x-python",
   "name": "python",
   "nbconvert_exporter": "python",
   "pygments_lexer": "ipython3",
   "version": "3.9.6"
  }
 },
 "nbformat": 4,
 "nbformat_minor": 5
}
